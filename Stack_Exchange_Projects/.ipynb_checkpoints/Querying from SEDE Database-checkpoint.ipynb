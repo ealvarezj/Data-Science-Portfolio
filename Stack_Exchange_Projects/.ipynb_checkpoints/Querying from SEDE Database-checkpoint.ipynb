{
 "cells": [
  {
   "cell_type": "markdown",
   "metadata": {},
   "source": [
    "## Stack Exchange\n",
    "\n",
    "Stack Exchange hosts sites on a multitude of fields and subjects, including mathematics, physics, philosophy, and data science.\n",
    "Stack Exchange employs a reputation award system for its questions and answers. Each post — each question/answer — is a post that is subject to upvotes and downvotes. This ensures that good posts are easily identifiable.\n",
    "- What kind of questions are welcome on this site?\n",
    "    - Almost any question possible, but there are some rules to consider. Mostly question of subjective matter are not allowed. E.g “What’s your favorite ______?”. More information can be found [here](https://stackoverflow.com/help/dont-ask)\n",
    "- What, other than questions, does the site's [home](https://datascience.stackexchange.com/) subdivide into?\n",
    "    - You can search for not only questions, but for Tags, Users and for Unanswered questions.\n",
    "    \n",
    "### Data\n",
    "\n",
    "Stackexchange provides a Data Explorer called [Stack Exchange Data Explorer (SEDE)](https://data.stackexchange.com/help) and an interactive window to execute query's directly in [Stack's Exchange Database](https://data.stackexchange.com/datascience/query/new).\n",
    "\n",
    "Most of the more informative columns are contained in the Table ``Posts``. In this table we can find columns like:\n",
    "+ ``Id``: An identification number for the post.\n",
    "+ ``PostTypeId``: An identification number for the type of post.(See Table Below!)\n",
    "+ ``CreationDate``: The date and time of creation of the post.\n",
    "+ ``Score``: The post's score.\n",
    "+ ``ViewCount``: How many times the post was viewed.\n",
    "+ ``Tags``: What tags were used.\n",
    "+ ``AnswerCount``: How many answers the question got (only applicable to question posts).\n",
    "+ ``FavoriteCount``: How many times the question was favored (only applicable to question posts).\n",
    "\n",
    "PostTypes: \n",
    "\n",
    "| 1 | Question            |\n",
    "|:---|:---------------------|\n",
    "| 2 | Answer              |\n",
    "| 3 | Wiki                |\n",
    "| 4 | TagWikiExcerpt      |\n",
    "| 5 | TagWiki             |\n",
    "| 6 | ModeratorNomination |\n",
    "| 7 | WikiPlaceholder     |\n",
    "| 8 | PrivilegeWiki       |\n",
    "\n",
    "The whole data is about 50.000 Rows!. Therefore we will only use data from the year 2019.\n",
    "\n",
    "The following Query was used to fetch the respective data:\n",
    "> Note: The ``CreationDate`` column was already of ``datetime`` class\n",
    "\n",
    "```mysql\n",
    "SELECT Id,\n",
    "       PostTypeId,\n",
    "       CreationDate,\n",
    "       Score,\n",
    "       ViewCount,\n",
    "       Tags,\n",
    "       AnswerCount,\n",
    "       FavoriteCount\n",
    "FROM Posts\n",
    "WHERE YEAR(CreationDate) = 2019\n",
    "\n",
    "```\n",
    "\n",
    "Let's start with the analysis by importing some Python packages\n"
   ]
  },
  {
   "cell_type": "code",
   "execution_count": 198,
   "metadata": {},
   "outputs": [],
   "source": [
    "import pandas as pd \n",
    "import numpy as np\n",
    "import datetime as dt\n",
    "import matplotlib.pyplot as plt\n",
    "import seaborn as sns"
   ]
  },
  {
   "cell_type": "code",
   "execution_count": 199,
   "metadata": {},
   "outputs": [
    {
     "name": "stdout",
     "output_type": "stream",
     "text": [
      "<class 'pandas.core.frame.DataFrame'>\n",
      "RangeIndex: 16241 entries, 0 to 16240\n",
      "Data columns (total 8 columns):\n",
      "Id               16241 non-null int64\n",
      "PostTypeId       16241 non-null int64\n",
      "CreationDate     16241 non-null datetime64[ns]\n",
      "Score            16241 non-null int64\n",
      "ViewCount        8283 non-null float64\n",
      "Tags             8283 non-null object\n",
      "AnswerCount      8283 non-null float64\n",
      "FavoriteCount    1500 non-null float64\n",
      "dtypes: datetime64[ns](1), float64(3), int64(3), object(1)\n",
      "memory usage: 1015.1+ KB\n"
     ]
    }
   ],
   "source": [
    "# Read the Data\n",
    "\n",
    "questions_data = pd.read_csv(\"QueryResults_2019.csv\", parse_dates = [\"CreationDate\"])\n",
    "\n",
    "questions_data.info()"
   ]
  },
  {
   "cell_type": "code",
   "execution_count": 200,
   "metadata": {
    "scrolled": true
   },
   "outputs": [
    {
     "data": {
      "text/html": [
       "<div>\n",
       "<style scoped>\n",
       "    .dataframe tbody tr th:only-of-type {\n",
       "        vertical-align: middle;\n",
       "    }\n",
       "\n",
       "    .dataframe tbody tr th {\n",
       "        vertical-align: top;\n",
       "    }\n",
       "\n",
       "    .dataframe thead th {\n",
       "        text-align: right;\n",
       "    }\n",
       "</style>\n",
       "<table border=\"1\" class=\"dataframe\">\n",
       "  <thead>\n",
       "    <tr style=\"text-align: right;\">\n",
       "      <th></th>\n",
       "      <th>Id</th>\n",
       "      <th>PostTypeId</th>\n",
       "      <th>CreationDate</th>\n",
       "      <th>Score</th>\n",
       "      <th>ViewCount</th>\n",
       "      <th>Tags</th>\n",
       "      <th>AnswerCount</th>\n",
       "      <th>FavoriteCount</th>\n",
       "    </tr>\n",
       "  </thead>\n",
       "  <tbody>\n",
       "    <tr>\n",
       "      <th>0</th>\n",
       "      <td>53162</td>\n",
       "      <td>1</td>\n",
       "      <td>2019-06-04 03:49:31</td>\n",
       "      <td>3</td>\n",
       "      <td>592.0</td>\n",
       "      <td>&lt;machine-learning&gt;&lt;loss-function&gt;</td>\n",
       "      <td>3.0</td>\n",
       "      <td>1.0</td>\n",
       "    </tr>\n",
       "    <tr>\n",
       "      <th>1</th>\n",
       "      <td>53163</td>\n",
       "      <td>1</td>\n",
       "      <td>2019-06-04 04:05:24</td>\n",
       "      <td>0</td>\n",
       "      <td>24.0</td>\n",
       "      <td>&lt;nlp&gt;&lt;natural-language-process&gt;</td>\n",
       "      <td>0.0</td>\n",
       "      <td>NaN</td>\n",
       "    </tr>\n",
       "    <tr>\n",
       "      <th>2</th>\n",
       "      <td>56617</td>\n",
       "      <td>2</td>\n",
       "      <td>2019-07-30 11:02:01</td>\n",
       "      <td>0</td>\n",
       "      <td>NaN</td>\n",
       "      <td>NaN</td>\n",
       "      <td>NaN</td>\n",
       "      <td>NaN</td>\n",
       "    </tr>\n",
       "    <tr>\n",
       "      <th>3</th>\n",
       "      <td>56618</td>\n",
       "      <td>2</td>\n",
       "      <td>2019-07-30 11:22:14</td>\n",
       "      <td>1</td>\n",
       "      <td>NaN</td>\n",
       "      <td>NaN</td>\n",
       "      <td>NaN</td>\n",
       "      <td>NaN</td>\n",
       "    </tr>\n",
       "    <tr>\n",
       "      <th>4</th>\n",
       "      <td>56620</td>\n",
       "      <td>1</td>\n",
       "      <td>2019-07-30 11:50:18</td>\n",
       "      <td>1</td>\n",
       "      <td>539.0</td>\n",
       "      <td>&lt;python&gt;&lt;nlp&gt;&lt;word2vec&gt;&lt;gensim&gt;&lt;similar-docume...</td>\n",
       "      <td>0.0</td>\n",
       "      <td>NaN</td>\n",
       "    </tr>\n",
       "    <tr>\n",
       "      <th>5</th>\n",
       "      <td>56621</td>\n",
       "      <td>1</td>\n",
       "      <td>2019-07-30 12:14:59</td>\n",
       "      <td>1</td>\n",
       "      <td>77.0</td>\n",
       "      <td>&lt;reinforcement-learning&gt;&lt;q-learning&gt;&lt;markov-pr...</td>\n",
       "      <td>1.0</td>\n",
       "      <td>NaN</td>\n",
       "    </tr>\n",
       "    <tr>\n",
       "      <th>6</th>\n",
       "      <td>56622</td>\n",
       "      <td>1</td>\n",
       "      <td>2019-07-30 12:29:59</td>\n",
       "      <td>1</td>\n",
       "      <td>114.0</td>\n",
       "      <td>&lt;scikit-learn&gt;&lt;clustering&gt;&lt;k-means&gt;&lt;unsupervis...</td>\n",
       "      <td>3.0</td>\n",
       "      <td>NaN</td>\n",
       "    </tr>\n",
       "    <tr>\n",
       "      <th>7</th>\n",
       "      <td>56623</td>\n",
       "      <td>2</td>\n",
       "      <td>2019-07-30 12:35:33</td>\n",
       "      <td>2</td>\n",
       "      <td>NaN</td>\n",
       "      <td>NaN</td>\n",
       "      <td>NaN</td>\n",
       "      <td>NaN</td>\n",
       "    </tr>\n",
       "    <tr>\n",
       "      <th>8</th>\n",
       "      <td>56624</td>\n",
       "      <td>1</td>\n",
       "      <td>2019-07-30 13:07:01</td>\n",
       "      <td>1</td>\n",
       "      <td>18.0</td>\n",
       "      <td>&lt;reinforcement-learning&gt;&lt;policy-gradients&gt;</td>\n",
       "      <td>0.0</td>\n",
       "      <td>NaN</td>\n",
       "    </tr>\n",
       "    <tr>\n",
       "      <th>9</th>\n",
       "      <td>56625</td>\n",
       "      <td>2</td>\n",
       "      <td>2019-07-30 13:36:32</td>\n",
       "      <td>2</td>\n",
       "      <td>NaN</td>\n",
       "      <td>NaN</td>\n",
       "      <td>NaN</td>\n",
       "      <td>NaN</td>\n",
       "    </tr>\n",
       "  </tbody>\n",
       "</table>\n",
       "</div>"
      ],
      "text/plain": [
       "      Id  PostTypeId        CreationDate  Score  ViewCount  \\\n",
       "0  53162           1 2019-06-04 03:49:31      3      592.0   \n",
       "1  53163           1 2019-06-04 04:05:24      0       24.0   \n",
       "2  56617           2 2019-07-30 11:02:01      0        NaN   \n",
       "3  56618           2 2019-07-30 11:22:14      1        NaN   \n",
       "4  56620           1 2019-07-30 11:50:18      1      539.0   \n",
       "5  56621           1 2019-07-30 12:14:59      1       77.0   \n",
       "6  56622           1 2019-07-30 12:29:59      1      114.0   \n",
       "7  56623           2 2019-07-30 12:35:33      2        NaN   \n",
       "8  56624           1 2019-07-30 13:07:01      1       18.0   \n",
       "9  56625           2 2019-07-30 13:36:32      2        NaN   \n",
       "\n",
       "                                                Tags  AnswerCount  \\\n",
       "0                  <machine-learning><loss-function>          3.0   \n",
       "1                    <nlp><natural-language-process>          0.0   \n",
       "2                                                NaN          NaN   \n",
       "3                                                NaN          NaN   \n",
       "4  <python><nlp><word2vec><gensim><similar-docume...          0.0   \n",
       "5  <reinforcement-learning><q-learning><markov-pr...          1.0   \n",
       "6  <scikit-learn><clustering><k-means><unsupervis...          3.0   \n",
       "7                                                NaN          NaN   \n",
       "8         <reinforcement-learning><policy-gradients>          0.0   \n",
       "9                                                NaN          NaN   \n",
       "\n",
       "   FavoriteCount  \n",
       "0            1.0  \n",
       "1            NaN  \n",
       "2            NaN  \n",
       "3            NaN  \n",
       "4            NaN  \n",
       "5            NaN  \n",
       "6            NaN  \n",
       "7            NaN  \n",
       "8            NaN  \n",
       "9            NaN  "
      ]
     },
     "execution_count": 200,
     "metadata": {},
     "output_type": "execute_result"
    }
   ],
   "source": [
    "questions_data.head(10)"
   ]
  },
  {
   "cell_type": "code",
   "execution_count": 201,
   "metadata": {},
   "outputs": [
    {
     "data": {
      "text/plain": [
       "Id                   0\n",
       "PostTypeId           0\n",
       "CreationDate         0\n",
       "Score                0\n",
       "ViewCount         7958\n",
       "Tags              7958\n",
       "AnswerCount       7958\n",
       "FavoriteCount    14741\n",
       "dtype: int64"
      ]
     },
     "execution_count": 201,
     "metadata": {},
     "output_type": "execute_result"
    }
   ],
   "source": [
    "questions_data.isna().sum()"
   ]
  },
  {
   "cell_type": "markdown",
   "metadata": {},
   "source": [
    "There are 7958 missing values on the ``View``, ``Tags`` and ``AnswerCount`` columns. A possible reason could be that, these posts had no answer due to the fact that they where closed, banned or simply where not a question. Therefore we need to check what kind of posts are more relevant for the analysis and investigate if just by choosing a specific post type the number of missing values can be reduced."
   ]
  },
  {
   "cell_type": "code",
   "execution_count": 202,
   "metadata": {},
   "outputs": [
    {
     "data": {
      "text/plain": [
       "Id                  0\n",
       "PostTypeId          0\n",
       "CreationDate        0\n",
       "Score               0\n",
       "ViewCount           0\n",
       "Tags                0\n",
       "AnswerCount         0\n",
       "FavoriteCount    6783\n",
       "dtype: int64"
      ]
     },
     "execution_count": 202,
     "metadata": {},
     "output_type": "execute_result"
    }
   ],
   "source": [
    "questions_data[questions_data[\"PostTypeId\"] == 1].isna().sum()"
   ]
  },
  {
   "cell_type": "markdown",
   "metadata": {},
   "source": [
    "By filtering the ``PostTypeId`` column, we can see that the number of missing values is reduced in all colums but in the Favorite count. This column just refers to How many times the question was favored. There is no reason to keep that column with missign values and as an float, we will change this also. We can conclude that if the aim is just to analyze the questions posts, then the data is clean enough. One last annotation in the way the format of the ``Tags`` was provided, in order to work more easily with these column we could convert rows with multiple tags to lists.\n",
    "The idea is to go from:\n",
    "```python\n",
    "\"<machine-learning><regression><linear-regression><regularization>\"\n",
    "```\n",
    "to\n",
    "\n",
    "```python\n",
    "[machine-learning,regression,linear-regression,regularization]\n",
    "```"
   ]
  },
  {
   "cell_type": "code",
   "execution_count": 203,
   "metadata": {},
   "outputs": [],
   "source": [
    "questions_data = questions_data[questions_data[\"PostTypeId\"] == 1]\n",
    "\n",
    "# Generate a column of iterable lists\n",
    "questions_data[\"Tags\"] = (questions_data[\"Tags\"]\n",
    "                          .str.replace(\"><\", \",\")\n",
    "                          .str.replace(\"<\", \"\")\n",
    "                          .str.replace(\">\", \"\")\n",
    "                          .str.split(\",\"))"
   ]
  },
  {
   "cell_type": "code",
   "execution_count": 204,
   "metadata": {},
   "outputs": [],
   "source": [
    "# Fill missing values and transform the last column from float to  int\n",
    "questions_data.fillna(value={\"FavoriteCount\":0}, inplace=True)\n",
    "questions_data[\"FavoriteCount\"] = questions_data[\"FavoriteCount\"].astype(int)"
   ]
  },
  {
   "cell_type": "code",
   "execution_count": 205,
   "metadata": {},
   "outputs": [
    {
     "data": {
      "text/html": [
       "<div>\n",
       "<style scoped>\n",
       "    .dataframe tbody tr th:only-of-type {\n",
       "        vertical-align: middle;\n",
       "    }\n",
       "\n",
       "    .dataframe tbody tr th {\n",
       "        vertical-align: top;\n",
       "    }\n",
       "\n",
       "    .dataframe thead th {\n",
       "        text-align: right;\n",
       "    }\n",
       "</style>\n",
       "<table border=\"1\" class=\"dataframe\">\n",
       "  <thead>\n",
       "    <tr style=\"text-align: right;\">\n",
       "      <th></th>\n",
       "      <th>Id</th>\n",
       "      <th>PostTypeId</th>\n",
       "      <th>CreationDate</th>\n",
       "      <th>Score</th>\n",
       "      <th>ViewCount</th>\n",
       "      <th>Tags</th>\n",
       "      <th>AnswerCount</th>\n",
       "      <th>FavoriteCount</th>\n",
       "    </tr>\n",
       "  </thead>\n",
       "  <tbody>\n",
       "    <tr>\n",
       "      <th>0</th>\n",
       "      <td>53162</td>\n",
       "      <td>1</td>\n",
       "      <td>2019-06-04 03:49:31</td>\n",
       "      <td>3</td>\n",
       "      <td>592.0</td>\n",
       "      <td>[machine-learning, loss-function]</td>\n",
       "      <td>3.0</td>\n",
       "      <td>1</td>\n",
       "    </tr>\n",
       "    <tr>\n",
       "      <th>1</th>\n",
       "      <td>53163</td>\n",
       "      <td>1</td>\n",
       "      <td>2019-06-04 04:05:24</td>\n",
       "      <td>0</td>\n",
       "      <td>24.0</td>\n",
       "      <td>[nlp, natural-language-process]</td>\n",
       "      <td>0.0</td>\n",
       "      <td>0</td>\n",
       "    </tr>\n",
       "    <tr>\n",
       "      <th>4</th>\n",
       "      <td>56620</td>\n",
       "      <td>1</td>\n",
       "      <td>2019-07-30 11:50:18</td>\n",
       "      <td>1</td>\n",
       "      <td>539.0</td>\n",
       "      <td>[python, nlp, word2vec, gensim, similar-docume...</td>\n",
       "      <td>0.0</td>\n",
       "      <td>0</td>\n",
       "    </tr>\n",
       "    <tr>\n",
       "      <th>5</th>\n",
       "      <td>56621</td>\n",
       "      <td>1</td>\n",
       "      <td>2019-07-30 12:14:59</td>\n",
       "      <td>1</td>\n",
       "      <td>77.0</td>\n",
       "      <td>[reinforcement-learning, q-learning, markov-pr...</td>\n",
       "      <td>1.0</td>\n",
       "      <td>0</td>\n",
       "    </tr>\n",
       "    <tr>\n",
       "      <th>6</th>\n",
       "      <td>56622</td>\n",
       "      <td>1</td>\n",
       "      <td>2019-07-30 12:29:59</td>\n",
       "      <td>1</td>\n",
       "      <td>114.0</td>\n",
       "      <td>[scikit-learn, clustering, k-means, unsupervis...</td>\n",
       "      <td>3.0</td>\n",
       "      <td>0</td>\n",
       "    </tr>\n",
       "  </tbody>\n",
       "</table>\n",
       "</div>"
      ],
      "text/plain": [
       "      Id  PostTypeId        CreationDate  Score  ViewCount  \\\n",
       "0  53162           1 2019-06-04 03:49:31      3      592.0   \n",
       "1  53163           1 2019-06-04 04:05:24      0       24.0   \n",
       "4  56620           1 2019-07-30 11:50:18      1      539.0   \n",
       "5  56621           1 2019-07-30 12:14:59      1       77.0   \n",
       "6  56622           1 2019-07-30 12:29:59      1      114.0   \n",
       "\n",
       "                                                Tags  AnswerCount  \\\n",
       "0                  [machine-learning, loss-function]          3.0   \n",
       "1                    [nlp, natural-language-process]          0.0   \n",
       "4  [python, nlp, word2vec, gensim, similar-docume...          0.0   \n",
       "5  [reinforcement-learning, q-learning, markov-pr...          1.0   \n",
       "6  [scikit-learn, clustering, k-means, unsupervis...          3.0   \n",
       "\n",
       "   FavoriteCount  \n",
       "0              1  \n",
       "1              0  \n",
       "4              0  \n",
       "5              0  \n",
       "6              0  "
      ]
     },
     "execution_count": 205,
     "metadata": {},
     "output_type": "execute_result"
    }
   ],
   "source": [
    "questions_data.head()"
   ]
  },
  {
   "cell_type": "markdown",
   "metadata": {},
   "source": [
    "## Most Used and Most Viewed\n",
    "\n",
    "We want to know how popular some tags are in the dataset. Therefore we can count the number of times unique Tags appear on all questions and visualize these in order to get a clearer picture of the situation.\n",
    "\n",
    "   > **Note! I decided for this project to use not the dataset provided, but to use data downloaded directly from the database on the 18.05.2020. Altough the data is also from 2019,  the number of Views in `` ViewCount``, ``AnswerCount`` and the ``Score`` may change since all the posts here are still avaliable to the public to be visited everyday. So results may vary significantly** \n"
   ]
  },
  {
   "cell_type": "code",
   "execution_count": 206,
   "metadata": {
    "code_folding": []
   },
   "outputs": [],
   "source": [
    "# We can create a empy dictionary that acts as a frecuency table, and loop trough the all rows an their respective lists\n",
    "# save this to a dictionay\n",
    "frecuency_table = {}\n",
    "\n",
    "for each in questions_data.Tags:\n",
    "    for i in each:\n",
    "        if i in frecuency_table:\n",
    "            frecuency_table[i]+=1\n",
    "        else:\n",
    "            frecuency_table[i] = 1\n",
    "        "
   ]
  },
  {
   "cell_type": "code",
   "execution_count": 207,
   "metadata": {},
   "outputs": [
    {
     "data": {
      "text/html": [
       "<div>\n",
       "<style scoped>\n",
       "    .dataframe tbody tr th:only-of-type {\n",
       "        vertical-align: middle;\n",
       "    }\n",
       "\n",
       "    .dataframe tbody tr th {\n",
       "        vertical-align: top;\n",
       "    }\n",
       "\n",
       "    .dataframe thead th {\n",
       "        text-align: right;\n",
       "    }\n",
       "</style>\n",
       "<table border=\"1\" class=\"dataframe\">\n",
       "  <thead>\n",
       "    <tr style=\"text-align: right;\">\n",
       "      <th></th>\n",
       "      <th>Count</th>\n",
       "    </tr>\n",
       "  </thead>\n",
       "  <tbody>\n",
       "    <tr>\n",
       "      <th>machine-learning</th>\n",
       "      <td>2544</td>\n",
       "    </tr>\n",
       "    <tr>\n",
       "      <th>python</th>\n",
       "      <td>1709</td>\n",
       "    </tr>\n",
       "    <tr>\n",
       "      <th>deep-learning</th>\n",
       "      <td>1134</td>\n",
       "    </tr>\n",
       "    <tr>\n",
       "      <th>neural-network</th>\n",
       "      <td>1005</td>\n",
       "    </tr>\n",
       "    <tr>\n",
       "      <th>keras</th>\n",
       "      <td>876</td>\n",
       "    </tr>\n",
       "  </tbody>\n",
       "</table>\n",
       "</div>"
      ],
      "text/plain": [
       "                  Count\n",
       "machine-learning   2544\n",
       "python             1709\n",
       "deep-learning      1134\n",
       "neural-network     1005\n",
       "keras               876"
      ]
     },
     "execution_count": 207,
     "metadata": {},
     "output_type": "execute_result"
    }
   ],
   "source": [
    "# To work more easily with the data, we can create a dataframe from the dictionary\n",
    "\n",
    "Tags = pd.DataFrame.from_dict(frecuency_table, orient='index')\n",
    "Tags.rename(columns={0:\"Count\"}, inplace = True)\n",
    "Tags = Tags.sort_values(by=\"Count\", ascending=False)\n",
    "Tags.head()"
   ]
  },
  {
   "cell_type": "code",
   "execution_count": 208,
   "metadata": {},
   "outputs": [
    {
     "data": {
      "text/plain": [
       "<matplotlib.axes._subplots.AxesSubplot at 0x2af2caaa7f0>"
      ]
     },
     "execution_count": 208,
     "metadata": {},
     "output_type": "execute_result"
    },
    {
     "data": {
      "image/png": "[encoded data removed]",
      "text/plain": [
       "<Figure size 1152x576 with 1 Axes>"
      ]
     },
     "metadata": {
      "needs_background": "light"
     },
     "output_type": "display_data"
    }
   ],
   "source": [
    "Tags.head(20).iloc[::-1].plot.barh(figsize=(16,8))"
   ]
  },
  {
   "cell_type": "code",
   "execution_count": 209,
   "metadata": {},
   "outputs": [],
   "source": [
    "view_frecuency = {}\n",
    "for tag, view in zip(questions_data.Tags, questions_data.ViewCount):\n",
    "    for i in tag:\n",
    "        if i in view_frecuency:\n",
    "            view_frecuency[i] += view\n",
    "        else:\n",
    "            view_frecuency[i] = view"
   ]
  },
  {
   "cell_type": "code",
   "execution_count": 210,
   "metadata": {},
   "outputs": [
    {
     "data": {
      "text/html": [
       "<div>\n",
       "<style scoped>\n",
       "    .dataframe tbody tr th:only-of-type {\n",
       "        vertical-align: middle;\n",
       "    }\n",
       "\n",
       "    .dataframe tbody tr th {\n",
       "        vertical-align: top;\n",
       "    }\n",
       "\n",
       "    .dataframe thead th {\n",
       "        text-align: right;\n",
       "    }\n",
       "</style>\n",
       "<table border=\"1\" class=\"dataframe\">\n",
       "  <thead>\n",
       "    <tr style=\"text-align: right;\">\n",
       "      <th></th>\n",
       "      <th>Count</th>\n",
       "    </tr>\n",
       "  </thead>\n",
       "  <tbody>\n",
       "    <tr>\n",
       "      <th>python</th>\n",
       "      <td>1036280.0</td>\n",
       "    </tr>\n",
       "    <tr>\n",
       "      <th>machine-learning</th>\n",
       "      <td>679138.0</td>\n",
       "    </tr>\n",
       "    <tr>\n",
       "      <th>keras</th>\n",
       "      <td>474111.0</td>\n",
       "    </tr>\n",
       "    <tr>\n",
       "      <th>pandas</th>\n",
       "      <td>448866.0</td>\n",
       "    </tr>\n",
       "    <tr>\n",
       "      <th>deep-learning</th>\n",
       "      <td>397576.0</td>\n",
       "    </tr>\n",
       "  </tbody>\n",
       "</table>\n",
       "</div>"
      ],
      "text/plain": [
       "                      Count\n",
       "python            1036280.0\n",
       "machine-learning   679138.0\n",
       "keras              474111.0\n",
       "pandas             448866.0\n",
       "deep-learning      397576.0"
      ]
     },
     "execution_count": 210,
     "metadata": {},
     "output_type": "execute_result"
    }
   ],
   "source": [
    "Tag_view_freq = pd.DataFrame.from_dict(view_frecuency, orient='index')\n",
    "Tag_view_freq.rename(columns={0:\"Count\"}, inplace = True)\n",
    "Tag_view_freq = Tag_view_freq.sort_values(by=\"Count\", ascending=False)\n",
    "Tag_view_freq.head()"
   ]
  },
  {
   "cell_type": "code",
   "execution_count": 211,
   "metadata": {},
   "outputs": [
    {
     "data": {
      "text/plain": [
       "<matplotlib.axes._subplots.AxesSubplot at 0x2af1b8ffe80>"
      ]
     },
     "execution_count": 211,
     "metadata": {},
     "output_type": "execute_result"
    },
    {
     "data": {
      "image/png": "[encoded data removed]",
      "text/plain": [
       "<Figure size 1152x576 with 1 Axes>"
      ]
     },
     "metadata": {
      "needs_background": "light"
     },
     "output_type": "display_data"
    }
   ],
   "source": [
    "Tag_view_freq.head(20).iloc[::-1].plot.barh(figsize=(16,8))"
   ]
  },
  {
   "cell_type": "code",
   "execution_count": 212,
   "metadata": {},
   "outputs": [],
   "source": [
    "all_questions = pd.read_csv(\"all_questions.csv\",  parse_dates = [\"CreationDate\"])\n",
    "\n",
    "\n",
    "all_questions[\"Tags\"] = (all_questions[\"Tags\"]\n",
    "                          .str.replace(\"><\", \",\")\n",
    "                          .str.replace(\"<\", \"\")\n",
    "                          .str.replace(\">\", \"\")\n",
    "                          .str.split(\",\"))\n"
   ]
  },
  {
   "cell_type": "code",
   "execution_count": 213,
   "metadata": {},
   "outputs": [],
   "source": [
    "DL_category = [\"lstm\", \"cnn\", \"scikit-learn\", \"tensorflow\", \"keras\", \"neural-network\", \"deep-learning\"]\n",
    "\n",
    "def class_deep_learning(tags):\n",
    "    for tag in tags:\n",
    "        if tag in DL_category:\n",
    "            return 1\n",
    "    return 0"
   ]
  },
  {
   "cell_type": "code",
   "execution_count": 215,
   "metadata": {},
   "outputs": [
    {
     "data": {
      "text/html": [
       "<div>\n",
       "<style scoped>\n",
       "    .dataframe tbody tr th:only-of-type {\n",
       "        vertical-align: middle;\n",
       "    }\n",
       "\n",
       "    .dataframe tbody tr th {\n",
       "        vertical-align: top;\n",
       "    }\n",
       "\n",
       "    .dataframe thead th {\n",
       "        text-align: right;\n",
       "    }\n",
       "</style>\n",
       "<table border=\"1\" class=\"dataframe\">\n",
       "  <thead>\n",
       "    <tr style=\"text-align: right;\">\n",
       "      <th></th>\n",
       "      <th>Id</th>\n",
       "      <th>CreationDate</th>\n",
       "      <th>Tags</th>\n",
       "      <th>DL_question</th>\n",
       "    </tr>\n",
       "  </thead>\n",
       "  <tbody>\n",
       "    <tr>\n",
       "      <th>0</th>\n",
       "      <td>45416</td>\n",
       "      <td>2019-02-12 00:36:29</td>\n",
       "      <td>[python, keras, tensorflow, cnn, probability]</td>\n",
       "      <td>1</td>\n",
       "    </tr>\n",
       "    <tr>\n",
       "      <th>1</th>\n",
       "      <td>45418</td>\n",
       "      <td>2019-02-12 00:50:39</td>\n",
       "      <td>[neural-network]</td>\n",
       "      <td>1</td>\n",
       "    </tr>\n",
       "    <tr>\n",
       "      <th>2</th>\n",
       "      <td>45422</td>\n",
       "      <td>2019-02-12 04:40:51</td>\n",
       "      <td>[python, ibm-watson, chatbot]</td>\n",
       "      <td>0</td>\n",
       "    </tr>\n",
       "    <tr>\n",
       "      <th>3</th>\n",
       "      <td>45426</td>\n",
       "      <td>2019-02-12 04:51:49</td>\n",
       "      <td>[keras]</td>\n",
       "      <td>1</td>\n",
       "    </tr>\n",
       "    <tr>\n",
       "      <th>4</th>\n",
       "      <td>45427</td>\n",
       "      <td>2019-02-12 05:08:24</td>\n",
       "      <td>[r, predictive-modeling, machine-learning-mode...</td>\n",
       "      <td>0</td>\n",
       "    </tr>\n",
       "  </tbody>\n",
       "</table>\n",
       "</div>"
      ],
      "text/plain": [
       "      Id        CreationDate  \\\n",
       "0  45416 2019-02-12 00:36:29   \n",
       "1  45418 2019-02-12 00:50:39   \n",
       "2  45422 2019-02-12 04:40:51   \n",
       "3  45426 2019-02-12 04:51:49   \n",
       "4  45427 2019-02-12 05:08:24   \n",
       "\n",
       "                                                Tags  DL_question  \n",
       "0      [python, keras, tensorflow, cnn, probability]            1  \n",
       "1                                   [neural-network]            1  \n",
       "2                      [python, ibm-watson, chatbot]            0  \n",
       "3                                            [keras]            1  \n",
       "4  [r, predictive-modeling, machine-learning-mode...            0  "
      ]
     },
     "execution_count": 215,
     "metadata": {},
     "output_type": "execute_result"
    }
   ],
   "source": [
    "# All deep learning questions\n",
    "\n",
    "DL_questions = all_questions.copy()\n",
    "DL_questions[\"DL_question\"] = DL_questions[\"Tags\"].apply(class_deep_learning)\n",
    "\n",
    "DL_questions.head()\n",
    "# DL_questions = pd.DataFrame(DL_questions.resample(\"3M\", on=\"CreationDate\").size(), columns=[\"Count\"]).reset_index()\n",
    "# DL_questions.head()"
   ]
  },
  {
   "cell_type": "code",
   "execution_count": 216,
   "metadata": {},
   "outputs": [
    {
     "data": {
      "text/html": [
       "<div>\n",
       "<style scoped>\n",
       "    .dataframe tbody tr th:only-of-type {\n",
       "        vertical-align: middle;\n",
       "    }\n",
       "\n",
       "    .dataframe tbody tr th {\n",
       "        vertical-align: top;\n",
       "    }\n",
       "\n",
       "    .dataframe thead th {\n",
       "        text-align: right;\n",
       "    }\n",
       "</style>\n",
       "<table border=\"1\" class=\"dataframe\">\n",
       "  <thead>\n",
       "    <tr style=\"text-align: right;\">\n",
       "      <th></th>\n",
       "      <th>Id</th>\n",
       "      <th>CreationDate</th>\n",
       "      <th>Tags</th>\n",
       "      <th>DL_question</th>\n",
       "      <th>Q</th>\n",
       "    </tr>\n",
       "  </thead>\n",
       "  <tbody>\n",
       "    <tr>\n",
       "      <th>0</th>\n",
       "      <td>45416</td>\n",
       "      <td>2019-02-12 00:36:29</td>\n",
       "      <td>[python, keras, tensorflow, cnn, probability]</td>\n",
       "      <td>1</td>\n",
       "      <td>19Q1</td>\n",
       "    </tr>\n",
       "    <tr>\n",
       "      <th>1</th>\n",
       "      <td>45418</td>\n",
       "      <td>2019-02-12 00:50:39</td>\n",
       "      <td>[neural-network]</td>\n",
       "      <td>1</td>\n",
       "      <td>19Q1</td>\n",
       "    </tr>\n",
       "    <tr>\n",
       "      <th>2</th>\n",
       "      <td>45422</td>\n",
       "      <td>2019-02-12 04:40:51</td>\n",
       "      <td>[python, ibm-watson, chatbot]</td>\n",
       "      <td>0</td>\n",
       "      <td>19Q1</td>\n",
       "    </tr>\n",
       "    <tr>\n",
       "      <th>3</th>\n",
       "      <td>45426</td>\n",
       "      <td>2019-02-12 04:51:49</td>\n",
       "      <td>[keras]</td>\n",
       "      <td>1</td>\n",
       "      <td>19Q1</td>\n",
       "    </tr>\n",
       "    <tr>\n",
       "      <th>4</th>\n",
       "      <td>45427</td>\n",
       "      <td>2019-02-12 05:08:24</td>\n",
       "      <td>[r, predictive-modeling, machine-learning-mode...</td>\n",
       "      <td>0</td>\n",
       "      <td>19Q1</td>\n",
       "    </tr>\n",
       "  </tbody>\n",
       "</table>\n",
       "</div>"
      ],
      "text/plain": [
       "      Id        CreationDate  \\\n",
       "0  45416 2019-02-12 00:36:29   \n",
       "1  45418 2019-02-12 00:50:39   \n",
       "2  45422 2019-02-12 04:40:51   \n",
       "3  45426 2019-02-12 04:51:49   \n",
       "4  45427 2019-02-12 05:08:24   \n",
       "\n",
       "                                                Tags  DL_question     Q  \n",
       "0      [python, keras, tensorflow, cnn, probability]            1  19Q1  \n",
       "1                                   [neural-network]            1  19Q1  \n",
       "2                      [python, ibm-watson, chatbot]            0  19Q1  \n",
       "3                                            [keras]            1  19Q1  \n",
       "4  [r, predictive-modeling, machine-learning-mode...            0  19Q1  "
      ]
     },
     "execution_count": 216,
     "metadata": {},
     "output_type": "execute_result"
    }
   ],
   "source": [
    "def fetch_quarter(datetime):\n",
    "    year = str(datetime.year)[-2:]\n",
    "    quarter = str(round(datetime.month/3))\n",
    "    return \"{y}Q{q}\".format(y=year, q=quarter)\n",
    "\n",
    "\n",
    "DL_questions[\"Q\"] = DL_questions[\"CreationDate\"].apply(fetch_quarter)\n",
    "\n",
    "DL_questions.head()\n",
    "# Here is a vectorized way of doing it.but without the \"Q\" in the middle of the string \n",
    "# (resample_df[\"CreationDate\"].dt.year.astype(str)) + resample_df[\"CreationDate\"].dt.month.divide(3).round().astype(int).astype(str)"
   ]
  },
  {
   "cell_type": "code",
   "execution_count": 231,
   "metadata": {},
   "outputs": [
    {
     "data": {
      "text/html": [
       "<div>\n",
       "<style scoped>\n",
       "    .dataframe tbody tr th:only-of-type {\n",
       "        vertical-align: middle;\n",
       "    }\n",
       "\n",
       "    .dataframe tbody tr th {\n",
       "        vertical-align: top;\n",
       "    }\n",
       "\n",
       "    .dataframe thead th {\n",
       "        text-align: right;\n",
       "    }\n",
       "</style>\n",
       "<table border=\"1\" class=\"dataframe\">\n",
       "  <thead>\n",
       "    <tr style=\"text-align: right;\">\n",
       "      <th></th>\n",
       "      <th>Q</th>\n",
       "      <th>Deep_learning_questions</th>\n",
       "      <th>Total_uestions</th>\n",
       "      <th>Rate</th>\n",
       "    </tr>\n",
       "  </thead>\n",
       "  <tbody>\n",
       "    <tr>\n",
       "      <th>0</th>\n",
       "      <td>14Q2</td>\n",
       "      <td>16</td>\n",
       "      <td>233</td>\n",
       "      <td>0.068670</td>\n",
       "    </tr>\n",
       "    <tr>\n",
       "      <th>1</th>\n",
       "      <td>14Q3</td>\n",
       "      <td>13</td>\n",
       "      <td>184</td>\n",
       "      <td>0.070652</td>\n",
       "    </tr>\n",
       "    <tr>\n",
       "      <th>2</th>\n",
       "      <td>14Q4</td>\n",
       "      <td>14</td>\n",
       "      <td>145</td>\n",
       "      <td>0.096552</td>\n",
       "    </tr>\n",
       "    <tr>\n",
       "      <th>3</th>\n",
       "      <td>15Q0</td>\n",
       "      <td>4</td>\n",
       "      <td>63</td>\n",
       "      <td>0.063492</td>\n",
       "    </tr>\n",
       "    <tr>\n",
       "      <th>4</th>\n",
       "      <td>15Q1</td>\n",
       "      <td>20</td>\n",
       "      <td>198</td>\n",
       "      <td>0.101010</td>\n",
       "    </tr>\n",
       "  </tbody>\n",
       "</table>\n",
       "</div>"
      ],
      "text/plain": [
       "      Q  Deep_learning_questions  Total_uestions      Rate\n",
       "0  14Q2                       16             233  0.068670\n",
       "1  14Q3                       13             184  0.070652\n",
       "2  14Q4                       14             145  0.096552\n",
       "3  15Q0                        4              63  0.063492\n",
       "4  15Q1                       20             198  0.101010"
      ]
     },
     "execution_count": 231,
     "metadata": {},
     "output_type": "execute_result"
    }
   ],
   "source": [
    "Summary = DL_questions.groupby(\"Q\").agg({\"DL_question\":[\"sum\", \"size\"]}).copy()\n",
    "Summary.columns = [\"Deep_learning_questions\", \"Total_uestions\"]\n",
    "Summary[\"Rate\"] = Summary[\"Deep_learning_questions\"]/Summary[\"Total_uestions\"]\n",
    "Summary.reset_index(inplace = True)\n",
    "Summary.head()"
   ]
  },
  {
   "cell_type": "code",
   "execution_count": 234,
   "metadata": {},
   "outputs": [
    {
     "data": {
      "image/png": "[encoded data removed]",
      "text/plain": [
       "<Figure size 1728x864 with 2 Axes>"
      ]
     },
     "metadata": {
      "needs_background": "light"
     },
     "output_type": "display_data"
    }
   ],
   "source": [
    "ax1 = Summary.plot(x=\"Q\", y=\"Rate\",\n",
    "                    kind=\"line\", linestyle=\"-\", marker=\"o\", color=\"orange\",\n",
    "                    figsize=(24,12)\n",
    "                    )\n",
    "\n",
    "ax2 = Summary.plot(x=\"Q\", y=\"Total_uestions\",\n",
    "                     kind=\"bar\", ax=ax1, secondary_y=True, alpha=0.7, rot=45)\n",
    "\n",
    "for idx, t in enumerate(Summary[\"Total_uestions\"]):\n",
    "    ax2.text(idx, t, str(t), ha=\"center\", va=\"bottom\")\n",
    "xlims = ax1.get_xlim()\n",
    "\n",
    "ax1.get_legend().remove()\n",
    "\n",
    "handles1, labels1 = ax1.get_legend_handles_labels()\n",
    "handles2, labels2 = ax2.get_legend_handles_labels()\n",
    "ax1.legend(handles=handles1 + handles2,\n",
    "           labels=labels1 + labels2,\n",
    "           loc=\"upper left\", prop={\"size\": 12})\n",
    "\n",
    "\n",
    "for ax in (ax1, ax2):\n",
    "    for where in (\"top\", \"right\"):\n",
    "        ax.spines[where].set_visible(False)\n",
    "        ax.tick_params(right=False, labelright=False)"
   ]
  },
  {
   "cell_type": "code",
   "execution_count": null,
   "metadata": {},
   "outputs": [],
   "source": []
  }
 ],
 "metadata": {
  "kernelspec": {
   "display_name": "Python 3",
   "language": "python",
   "name": "python3"
  },
  "language_info": {
   "codemirror_mode": {
    "name": "ipython",
    "version": 3
   },
   "file_extension": ".py",
   "mimetype": "text/x-python",
   "name": "python",
   "nbconvert_exporter": "python",
   "pygments_lexer": "ipython3",
   "version": "3.7.3"
  },
  "toc": {
   "base_numbering": 1,
   "nav_menu": {},
   "number_sections": true,
   "sideBar": true,
   "skip_h1_title": false,
   "title_cell": "Table of Contents",
   "title_sidebar": "Contents",
   "toc_cell": false,
   "toc_position": {},
   "toc_section_display": true,
   "toc_window_display": false
  }
 },
 "nbformat": 4,
 "nbformat_minor": 2
}
