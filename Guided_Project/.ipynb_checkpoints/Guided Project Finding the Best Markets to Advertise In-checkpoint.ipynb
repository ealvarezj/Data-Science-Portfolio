{
 "cells": [
  {
   "cell_type": "code",
   "execution_count": 1,
   "metadata": {},
   "outputs": [],
   "source": [
    "import pandas as pd\n",
    "import numpy as np\n",
    "import matplotlib.pyplot as plt\n"
   ]
  },
  {
   "cell_type": "code",
   "execution_count": 2,
   "metadata": {},
   "outputs": [
    {
     "name": "stdout",
     "output_type": "stream",
     "text": [
      "<class 'pandas.core.frame.DataFrame'>\n",
      "RangeIndex: 18175 entries, 0 to 18174\n",
      "Columns: 136 entries, Age to YouTubeTheNewBoston\n",
      "dtypes: float64(105), object(31)\n",
      "memory usage: 18.9+ MB\n"
     ]
    },
    {
     "name": "stderr",
     "output_type": "stream",
     "text": [
      "C:\\Users\\Praktika\\AppData\\Local\\Continuum\\anaconda3\\lib\\site-packages\\IPython\\core\\interactiveshell.py:3057: DtypeWarning: Columns (17,62) have mixed types.Specify dtype option on import or set low_memory=False.\n",
      "  interactivity=interactivity, compiler=compiler, result=result)\n"
     ]
    }
   ],
   "source": [
    "Survey = pd.read_csv('2017-fCC-New-Coders-Survey-Data.csv')\n",
    "Survey.info()"
   ]
  },
  {
   "cell_type": "code",
   "execution_count": 3,
   "metadata": {
    "scrolled": true
   },
   "outputs": [
    {
     "data": {
      "text/html": [
       "<div>\n",
       "<style scoped>\n",
       "    .dataframe tbody tr th:only-of-type {\n",
       "        vertical-align: middle;\n",
       "    }\n",
       "\n",
       "    .dataframe tbody tr th {\n",
       "        vertical-align: top;\n",
       "    }\n",
       "\n",
       "    .dataframe thead th {\n",
       "        text-align: right;\n",
       "    }\n",
       "</style>\n",
       "<table border=\"1\" class=\"dataframe\">\n",
       "  <thead>\n",
       "    <tr style=\"text-align: right;\">\n",
       "      <th></th>\n",
       "      <th>Age</th>\n",
       "      <th>AttendedBootcamp</th>\n",
       "      <th>BootcampFinish</th>\n",
       "      <th>BootcampLoanYesNo</th>\n",
       "      <th>BootcampRecommend</th>\n",
       "      <th>ChildrenNumber</th>\n",
       "      <th>CodeEventConferences</th>\n",
       "      <th>CodeEventDjangoGirls</th>\n",
       "      <th>CodeEventFCC</th>\n",
       "      <th>CodeEventGameJam</th>\n",
       "      <th>...</th>\n",
       "      <th>YouTubeEngineeredTruth</th>\n",
       "      <th>YouTubeFCC</th>\n",
       "      <th>YouTubeFunFunFunction</th>\n",
       "      <th>YouTubeGoogleDev</th>\n",
       "      <th>YouTubeLearnCode</th>\n",
       "      <th>YouTubeLevelUpTuts</th>\n",
       "      <th>YouTubeMIT</th>\n",
       "      <th>YouTubeMozillaHacks</th>\n",
       "      <th>YouTubeSimplilearn</th>\n",
       "      <th>YouTubeTheNewBoston</th>\n",
       "    </tr>\n",
       "  </thead>\n",
       "  <tbody>\n",
       "    <tr>\n",
       "      <th>count</th>\n",
       "      <td>15367.000000</td>\n",
       "      <td>17709.000000</td>\n",
       "      <td>1069.000000</td>\n",
       "      <td>1079.000000</td>\n",
       "      <td>1073.000000</td>\n",
       "      <td>2314.000000</td>\n",
       "      <td>1609.0</td>\n",
       "      <td>165.0</td>\n",
       "      <td>1708.0</td>\n",
       "      <td>290.0</td>\n",
       "      <td>...</td>\n",
       "      <td>993.0</td>\n",
       "      <td>6036.0</td>\n",
       "      <td>1261.0</td>\n",
       "      <td>3539.0</td>\n",
       "      <td>2662.0</td>\n",
       "      <td>1396.0</td>\n",
       "      <td>3327.0</td>\n",
       "      <td>622.0</td>\n",
       "      <td>201.0</td>\n",
       "      <td>2960.0</td>\n",
       "    </tr>\n",
       "    <tr>\n",
       "      <th>mean</th>\n",
       "      <td>27.691872</td>\n",
       "      <td>0.062002</td>\n",
       "      <td>0.699719</td>\n",
       "      <td>0.305839</td>\n",
       "      <td>0.818267</td>\n",
       "      <td>1.832325</td>\n",
       "      <td>1.0</td>\n",
       "      <td>1.0</td>\n",
       "      <td>1.0</td>\n",
       "      <td>1.0</td>\n",
       "      <td>...</td>\n",
       "      <td>1.0</td>\n",
       "      <td>1.0</td>\n",
       "      <td>1.0</td>\n",
       "      <td>1.0</td>\n",
       "      <td>1.0</td>\n",
       "      <td>1.0</td>\n",
       "      <td>1.0</td>\n",
       "      <td>1.0</td>\n",
       "      <td>1.0</td>\n",
       "      <td>1.0</td>\n",
       "    </tr>\n",
       "    <tr>\n",
       "      <th>std</th>\n",
       "      <td>8.559239</td>\n",
       "      <td>0.241167</td>\n",
       "      <td>0.458594</td>\n",
       "      <td>0.460975</td>\n",
       "      <td>0.385805</td>\n",
       "      <td>0.972813</td>\n",
       "      <td>0.0</td>\n",
       "      <td>0.0</td>\n",
       "      <td>0.0</td>\n",
       "      <td>0.0</td>\n",
       "      <td>...</td>\n",
       "      <td>0.0</td>\n",
       "      <td>0.0</td>\n",
       "      <td>0.0</td>\n",
       "      <td>0.0</td>\n",
       "      <td>0.0</td>\n",
       "      <td>0.0</td>\n",
       "      <td>0.0</td>\n",
       "      <td>0.0</td>\n",
       "      <td>0.0</td>\n",
       "      <td>0.0</td>\n",
       "    </tr>\n",
       "    <tr>\n",
       "      <th>min</th>\n",
       "      <td>0.000000</td>\n",
       "      <td>0.000000</td>\n",
       "      <td>0.000000</td>\n",
       "      <td>0.000000</td>\n",
       "      <td>0.000000</td>\n",
       "      <td>1.000000</td>\n",
       "      <td>1.0</td>\n",
       "      <td>1.0</td>\n",
       "      <td>1.0</td>\n",
       "      <td>1.0</td>\n",
       "      <td>...</td>\n",
       "      <td>1.0</td>\n",
       "      <td>1.0</td>\n",
       "      <td>1.0</td>\n",
       "      <td>1.0</td>\n",
       "      <td>1.0</td>\n",
       "      <td>1.0</td>\n",
       "      <td>1.0</td>\n",
       "      <td>1.0</td>\n",
       "      <td>1.0</td>\n",
       "      <td>1.0</td>\n",
       "    </tr>\n",
       "    <tr>\n",
       "      <th>25%</th>\n",
       "      <td>22.000000</td>\n",
       "      <td>0.000000</td>\n",
       "      <td>0.000000</td>\n",
       "      <td>0.000000</td>\n",
       "      <td>1.000000</td>\n",
       "      <td>1.000000</td>\n",
       "      <td>1.0</td>\n",
       "      <td>1.0</td>\n",
       "      <td>1.0</td>\n",
       "      <td>1.0</td>\n",
       "      <td>...</td>\n",
       "      <td>1.0</td>\n",
       "      <td>1.0</td>\n",
       "      <td>1.0</td>\n",
       "      <td>1.0</td>\n",
       "      <td>1.0</td>\n",
       "      <td>1.0</td>\n",
       "      <td>1.0</td>\n",
       "      <td>1.0</td>\n",
       "      <td>1.0</td>\n",
       "      <td>1.0</td>\n",
       "    </tr>\n",
       "    <tr>\n",
       "      <th>50%</th>\n",
       "      <td>26.000000</td>\n",
       "      <td>0.000000</td>\n",
       "      <td>1.000000</td>\n",
       "      <td>0.000000</td>\n",
       "      <td>1.000000</td>\n",
       "      <td>2.000000</td>\n",
       "      <td>1.0</td>\n",
       "      <td>1.0</td>\n",
       "      <td>1.0</td>\n",
       "      <td>1.0</td>\n",
       "      <td>...</td>\n",
       "      <td>1.0</td>\n",
       "      <td>1.0</td>\n",
       "      <td>1.0</td>\n",
       "      <td>1.0</td>\n",
       "      <td>1.0</td>\n",
       "      <td>1.0</td>\n",
       "      <td>1.0</td>\n",
       "      <td>1.0</td>\n",
       "      <td>1.0</td>\n",
       "      <td>1.0</td>\n",
       "    </tr>\n",
       "    <tr>\n",
       "      <th>75%</th>\n",
       "      <td>32.000000</td>\n",
       "      <td>0.000000</td>\n",
       "      <td>1.000000</td>\n",
       "      <td>1.000000</td>\n",
       "      <td>1.000000</td>\n",
       "      <td>2.000000</td>\n",
       "      <td>1.0</td>\n",
       "      <td>1.0</td>\n",
       "      <td>1.0</td>\n",
       "      <td>1.0</td>\n",
       "      <td>...</td>\n",
       "      <td>1.0</td>\n",
       "      <td>1.0</td>\n",
       "      <td>1.0</td>\n",
       "      <td>1.0</td>\n",
       "      <td>1.0</td>\n",
       "      <td>1.0</td>\n",
       "      <td>1.0</td>\n",
       "      <td>1.0</td>\n",
       "      <td>1.0</td>\n",
       "      <td>1.0</td>\n",
       "    </tr>\n",
       "    <tr>\n",
       "      <th>max</th>\n",
       "      <td>90.000000</td>\n",
       "      <td>1.000000</td>\n",
       "      <td>1.000000</td>\n",
       "      <td>1.000000</td>\n",
       "      <td>1.000000</td>\n",
       "      <td>9.000000</td>\n",
       "      <td>1.0</td>\n",
       "      <td>1.0</td>\n",
       "      <td>1.0</td>\n",
       "      <td>1.0</td>\n",
       "      <td>...</td>\n",
       "      <td>1.0</td>\n",
       "      <td>1.0</td>\n",
       "      <td>1.0</td>\n",
       "      <td>1.0</td>\n",
       "      <td>1.0</td>\n",
       "      <td>1.0</td>\n",
       "      <td>1.0</td>\n",
       "      <td>1.0</td>\n",
       "      <td>1.0</td>\n",
       "      <td>1.0</td>\n",
       "    </tr>\n",
       "  </tbody>\n",
       "</table>\n",
       "<p>8 rows × 105 columns</p>\n",
       "</div>"
      ],
      "text/plain": [
       "                Age  AttendedBootcamp  BootcampFinish  BootcampLoanYesNo  \\\n",
       "count  15367.000000      17709.000000     1069.000000        1079.000000   \n",
       "mean      27.691872          0.062002        0.699719           0.305839   \n",
       "std        8.559239          0.241167        0.458594           0.460975   \n",
       "min        0.000000          0.000000        0.000000           0.000000   \n",
       "25%       22.000000          0.000000        0.000000           0.000000   \n",
       "50%       26.000000          0.000000        1.000000           0.000000   \n",
       "75%       32.000000          0.000000        1.000000           1.000000   \n",
       "max       90.000000          1.000000        1.000000           1.000000   \n",
       "\n",
       "       BootcampRecommend  ChildrenNumber  CodeEventConferences  \\\n",
       "count        1073.000000     2314.000000                1609.0   \n",
       "mean            0.818267        1.832325                   1.0   \n",
       "std             0.385805        0.972813                   0.0   \n",
       "min             0.000000        1.000000                   1.0   \n",
       "25%             1.000000        1.000000                   1.0   \n",
       "50%             1.000000        2.000000                   1.0   \n",
       "75%             1.000000        2.000000                   1.0   \n",
       "max             1.000000        9.000000                   1.0   \n",
       "\n",
       "       CodeEventDjangoGirls  CodeEventFCC  CodeEventGameJam  ...  \\\n",
       "count                 165.0        1708.0             290.0  ...   \n",
       "mean                    1.0           1.0               1.0  ...   \n",
       "std                     0.0           0.0               0.0  ...   \n",
       "min                     1.0           1.0               1.0  ...   \n",
       "25%                     1.0           1.0               1.0  ...   \n",
       "50%                     1.0           1.0               1.0  ...   \n",
       "75%                     1.0           1.0               1.0  ...   \n",
       "max                     1.0           1.0               1.0  ...   \n",
       "\n",
       "       YouTubeEngineeredTruth  YouTubeFCC  YouTubeFunFunFunction  \\\n",
       "count                   993.0      6036.0                 1261.0   \n",
       "mean                      1.0         1.0                    1.0   \n",
       "std                       0.0         0.0                    0.0   \n",
       "min                       1.0         1.0                    1.0   \n",
       "25%                       1.0         1.0                    1.0   \n",
       "50%                       1.0         1.0                    1.0   \n",
       "75%                       1.0         1.0                    1.0   \n",
       "max                       1.0         1.0                    1.0   \n",
       "\n",
       "       YouTubeGoogleDev  YouTubeLearnCode  YouTubeLevelUpTuts  YouTubeMIT  \\\n",
       "count            3539.0            2662.0              1396.0      3327.0   \n",
       "mean                1.0               1.0                 1.0         1.0   \n",
       "std                 0.0               0.0                 0.0         0.0   \n",
       "min                 1.0               1.0                 1.0         1.0   \n",
       "25%                 1.0               1.0                 1.0         1.0   \n",
       "50%                 1.0               1.0                 1.0         1.0   \n",
       "75%                 1.0               1.0                 1.0         1.0   \n",
       "max                 1.0               1.0                 1.0         1.0   \n",
       "\n",
       "       YouTubeMozillaHacks  YouTubeSimplilearn  YouTubeTheNewBoston  \n",
       "count                622.0               201.0               2960.0  \n",
       "mean                   1.0                 1.0                  1.0  \n",
       "std                    0.0                 0.0                  0.0  \n",
       "min                    1.0                 1.0                  1.0  \n",
       "25%                    1.0                 1.0                  1.0  \n",
       "50%                    1.0                 1.0                  1.0  \n",
       "75%                    1.0                 1.0                  1.0  \n",
       "max                    1.0                 1.0                  1.0  \n",
       "\n",
       "[8 rows x 105 columns]"
      ]
     },
     "execution_count": 3,
     "metadata": {},
     "output_type": "execute_result"
    }
   ],
   "source": [
    "Survey.describe()"
   ]
  },
  {
   "cell_type": "code",
   "execution_count": 4,
   "metadata": {},
   "outputs": [
    {
     "name": "stdout",
     "output_type": "stream",
     "text": [
      "Age                                                            27\n",
      "AttendedBootcamp                                                0\n",
      "BootcampFinish                                                NaN\n",
      "BootcampLoanYesNo                                             NaN\n",
      "BootcampName                                                  NaN\n",
      "BootcampRecommend                                             NaN\n",
      "ChildrenNumber                                                NaN\n",
      "CityPopulation                                more than 1 million\n",
      "CodeEventConferences                                          NaN\n",
      "CodeEventDjangoGirls                                          NaN\n",
      "CodeEventFCC                                                  NaN\n",
      "CodeEventGameJam                                              NaN\n",
      "CodeEventGirlDev                                              NaN\n",
      "CodeEventHackathons                                           NaN\n",
      "CodeEventMeetup                                               NaN\n",
      "CodeEventNodeSchool                                           NaN\n",
      "CodeEventNone                                                 NaN\n",
      "CodeEventOther                                                NaN\n",
      "CodeEventRailsBridge                                          NaN\n",
      "CodeEventRailsGirls                                           NaN\n",
      "CodeEventStartUpWknd                                          NaN\n",
      "CodeEventWkdBootcamps                                         NaN\n",
      "CodeEventWomenCode                                            NaN\n",
      "CodeEventWorkshops                                            NaN\n",
      "CommuteTime                                      15 to 29 minutes\n",
      "CountryCitizen                                             Canada\n",
      "CountryLive                                                Canada\n",
      "EmploymentField                       software development and IT\n",
      "EmploymentFieldOther                                          NaN\n",
      "EmploymentStatus                               Employed for wages\n",
      "EmploymentStatusOther                                         NaN\n",
      "ExpectedEarning                                               NaN\n",
      "FinanciallySupporting                                         NaN\n",
      "FirstDevJob                                                   NaN\n",
      "Gender                                                     female\n",
      "GenderOther                                                   NaN\n",
      "HasChildren                                                   NaN\n",
      "HasDebt                                                         1\n",
      "HasFinancialDependents                                          0\n",
      "HasHighSpdInternet                                              1\n",
      "HasHomeMortgage                                                 0\n",
      "HasServedInMilitary                                             0\n",
      "HasStudentDebt                                                  0\n",
      "HomeMortgageOwe                                               NaN\n",
      "HoursLearning                                                  15\n",
      "ID.x                             02d9465b21e8bd09374b0066fb2d5614\n",
      "ID.y                             eb78c1c3ac6cd9052aec557065070fbf\n",
      "Income                                                        NaN\n",
      "IsEthnicMinority                                              NaN\n",
      "IsReceiveDisabilitiesBenefits                                   0\n",
      "IsSoftwareDev                                                   0\n",
      "IsUnderEmployed                                                 0\n",
      "JobApplyWhen                                                  NaN\n",
      "JobInterestBackEnd                                            NaN\n",
      "JobInterestDataEngr                                           NaN\n",
      "JobInterestDataSci                                            NaN\n",
      "JobInterestDevOps                                             NaN\n",
      "JobInterestFrontEnd                                           NaN\n",
      "JobInterestFullStack                                          NaN\n",
      "JobInterestGameDev                                            NaN\n",
      "JobInterestInfoSec                                            NaN\n",
      "JobInterestMobile                                             NaN\n",
      "JobInterestOther                                              NaN\n",
      "JobInterestProjMngr                                           NaN\n",
      "JobInterestQAEngr                                             NaN\n",
      "JobInterestUX                                                 NaN\n",
      "JobPref                                   start your own business\n",
      "JobRelocateYesNo                                              NaN\n",
      "JobRoleInterest                                               NaN\n",
      "JobWherePref                                                  NaN\n",
      "LanguageAtHome                                            English\n",
      "MaritalStatus                     married or domestic partnership\n",
      "MoneyForLearning                                              150\n",
      "MonthsProgramming                                               6\n",
      "NetworkID                                              6f1fbc6b2b\n",
      "Part1EndTime                                  2017-03-09 00:36:22\n",
      "Part1StartTime                                2017-03-09 00:32:59\n",
      "Part2EndTime                                  2017-03-09 00:59:46\n",
      "Part2StartTime                                2017-03-09 00:36:26\n",
      "PodcastChangeLog                                              NaN\n",
      "PodcastCodeNewbie                                             NaN\n",
      "PodcastCodePen                                                NaN\n",
      "PodcastDevTea                                                   1\n",
      "PodcastDotNET                                                 NaN\n",
      "PodcastGiantRobots                                            NaN\n",
      "PodcastJSAir                                                  NaN\n",
      "PodcastJSJabber                                               NaN\n",
      "PodcastNone                                                   NaN\n",
      "PodcastOther                                                  NaN\n",
      "PodcastProgThrowdown                                          NaN\n",
      "PodcastRubyRogues                                             NaN\n",
      "PodcastSEDaily                                                NaN\n",
      "PodcastSERadio                                                NaN\n",
      "PodcastShopTalk                                               NaN\n",
      "PodcastTalkPython                                             NaN\n",
      "PodcastTheWebAhead                                            NaN\n",
      "ResourceCodecademy                                              1\n",
      "ResourceCodeWars                                              NaN\n",
      "ResourceCoursera                                              NaN\n",
      "ResourceCSS                                                   NaN\n",
      "ResourceEdX                                                   NaN\n",
      "ResourceEgghead                                               NaN\n",
      "ResourceFCC                                                     1\n",
      "ResourceHackerRank                                            NaN\n",
      "ResourceKA                                                    NaN\n",
      "ResourceLynda                                                 NaN\n",
      "ResourceMDN                                                     1\n",
      "ResourceOdinProj                                              NaN\n",
      "ResourceOther                                                 NaN\n",
      "ResourcePluralSight                                           NaN\n",
      "ResourceSkillcrush                                            NaN\n",
      "ResourceSO                                                    NaN\n",
      "ResourceTreehouse                                             NaN\n",
      "ResourceUdacity                                               NaN\n",
      "ResourceUdemy                                                   1\n",
      "ResourceW3S                                                     1\n",
      "SchoolDegree                       some college credit, no degree\n",
      "SchoolMajor                                                   NaN\n",
      "StudentDebtOwe                                                NaN\n",
      "YouTubeCodeCourse                                             NaN\n",
      "YouTubeCodingTrain                                            NaN\n",
      "YouTubeCodingTut360                                           NaN\n",
      "YouTubeComputerphile                                          NaN\n",
      "YouTubeDerekBanas                                             NaN\n",
      "YouTubeDevTips                                                NaN\n",
      "YouTubeEngineeredTruth                                        NaN\n",
      "YouTubeFCC                                                    NaN\n",
      "YouTubeFunFunFunction                                         NaN\n",
      "YouTubeGoogleDev                                              NaN\n",
      "YouTubeLearnCode                                              NaN\n",
      "YouTubeLevelUpTuts                                            NaN\n",
      "YouTubeMIT                                                    NaN\n",
      "YouTubeMozillaHacks                                           NaN\n",
      "YouTubeOther                                                  NaN\n",
      "YouTubeSimplilearn                                            NaN\n",
      "YouTubeTheNewBoston                                           NaN\n"
     ]
    }
   ],
   "source": [
    "print(Survey.iloc[0,:].to_string())"
   ]
  },
  {
   "cell_type": "markdown",
   "metadata": {},
   "source": [
    "Taking a look a the data, we see that there are a lot of criteria used for this survey. Since we are interested into potential markets for our company products. We would like to see where people are looking for information. Which websites are the mos frequented as well as events like Hackathon etc.. In the data we see that there are multiple columns describing youtube channels like [`Coputerphile`](https://www.youtube.com/user/Computerphile). There are also links to Podcasts and some free online resources like the famous [`Stack Overflow`](https://stackoverflow.com/).\n",
    "\n",
    "We can also invetigate where most of the population is learning to code. Fo example websites like `Udacity` or `Coursera`. A well as which technology fileds are the most desired E.g `Web Developement`, `Data Science` etc\n",
    "\n",
    "In this case we are using premade data, since the survey provides valuable information with more than 30K participants. The data is open source and can be downloaded from the following GitHub [repository](https://github.com/freeCodeCamp/2017-new-coder-survey)"
   ]
  },
  {
   "cell_type": "markdown",
   "metadata": {},
   "source": [
    "# Checking for Sample Representativity"
   ]
  },
  {
   "cell_type": "code",
   "execution_count": 5,
   "metadata": {
    "scrolled": true
   },
   "outputs": [
    {
     "data": {
      "text/plain": [
       "Full-Stack Web Developer                                                                                                                                         11.770595\n",
       "  Front-End Web Developer                                                                                                                                         6.435927\n",
       "  Data Scientist                                                                                                                                                  2.173913\n",
       "Back-End Web Developer                                                                                                                                            2.030892\n",
       "  Mobile Developer                                                                                                                                                1.673341\n",
       "                                                                                                                                                                   ...    \n",
       "  DevOps / SysAdmin, Full-Stack Web Developer,   Mobile Developer, Software Engineer                                                                              0.014302\n",
       "  Mobile Developer, Data Engineer,   User Experience Designer,   Front-End Web Developer, Full-Stack Web Developer, Back-End Web Developer,   Product Manager     0.014302\n",
       "  Mobile Developer, Full-Stack Web Developer, Data Engineer,   Product Manager,   Front-End Web Developer, Back-End Web Developer                                 0.014302\n",
       "Back-End Web Developer,   User Experience Designer,   Front-End Web Developer, Full-Stack Web Developer, Information Security                                     0.014302\n",
       "  Mobile Developer, Back-End Web Developer,   Front-End Web Developer, Full-Stack Web Developer                                                                   0.014302\n",
       "Name: JobRoleInterest, Length: 3213, dtype: float64"
      ]
     },
     "execution_count": 5,
     "metadata": {},
     "output_type": "execute_result"
    }
   ],
   "source": [
    "# Take a look a the Roles people would like to take future jobs. Frequency distribution table\n",
    "\n",
    "Interest = Survey['JobRoleInterest'].value_counts(normalize = True)*100\n",
    "Interest"
   ]
  },
  {
   "cell_type": "markdown",
   "metadata": {},
   "source": [
    "When observing the distribution table, we can see that some people are not only interested in one single field, but into multiple fields as future job roles. Taking a sample out of this population in order to identify new programmers is possible, we can also identify the portion of  options participants chose. "
   ]
  },
  {
   "cell_type": "code",
   "execution_count": 6,
   "metadata": {
    "scrolled": true
   },
   "outputs": [],
   "source": [
    "# we see that 61% of the data is NA, so we can drop thos row first and split the list\n",
    "\n",
    "Interests_no_na = Survey['JobRoleInterest'].dropna()"
   ]
  },
  {
   "cell_type": "code",
   "execution_count": 7,
   "metadata": {},
   "outputs": [
    {
     "data": {
      "text/plain": [
       "1     31.650458\n",
       "3     15.889588\n",
       "4     15.217391\n",
       "5     12.042334\n",
       "2     10.883867\n",
       "6      6.721968\n",
       "7      3.861556\n",
       "8      1.759153\n",
       "9      0.986842\n",
       "10     0.471968\n",
       "12     0.300343\n",
       "11     0.185927\n",
       "13     0.028604\n",
       "Name: JobRoleInterest, dtype: float64"
      ]
     },
     "execution_count": 7,
     "metadata": {},
     "output_type": "execute_result"
    }
   ],
   "source": [
    "Interests_no_na.str.split(',').apply(lambda x: len(x)).value_counts(normalize = True)*100\n"
   ]
  },
  {
   "cell_type": "markdown",
   "metadata": {},
   "source": [
    "Here we see that most of the participants had a clear Job Role aspiration (around 32\\%). Beeing those Full Stack Developers. Let us Visualize this more in detail by looking only at the courses like web developement and mobile developement"
   ]
  },
  {
   "cell_type": "code",
   "execution_count": 8,
   "metadata": {},
   "outputs": [],
   "source": [
    "Web_or_not = Interests_no_na.str.contains('Web Developer|Mobile Developer').value_counts(normalize = True)*100"
   ]
  },
  {
   "cell_type": "code",
   "execution_count": 9,
   "metadata": {},
   "outputs": [
    {
     "data": {
      "image/png": "[encoded data removed]",
      "text/plain": [
       "<Figure size 432x288 with 1 Axes>"
      ]
     },
     "metadata": {
      "needs_background": "light"
     },
     "output_type": "display_data"
    }
   ],
   "source": [
    "Web_or_not.plot.bar()\n",
    "plt.xticks(ticks=[0,1], labels=['Web or Mobile Developement', 'Others'], rotation = 0)\n",
    "plt.ylabel('Percentage of Interested')\n",
    "plt.title('Distribution of preferences in Mobile and Web Developement')\n",
    "\n",
    "\n",
    "\n",
    "plt.show()"
   ]
  },
  {
   "cell_type": "markdown",
   "metadata": {},
   "source": [
    "It is clear to see that the number of interested in Web or Mobile Developement significant ist. In fact the population is very representative for our case."
   ]
  },
  {
   "cell_type": "code",
   "execution_count": 10,
   "metadata": {},
   "outputs": [
    {
     "data": {
      "text/plain": [
       "United States of America    37.8\n",
       "India                        9.1\n",
       "United Kingdom               4.9\n",
       "Canada                       4.0\n",
       "Brazil                       2.4\n",
       "Name: CountryLive, dtype: float64"
      ]
     },
     "execution_count": 10,
     "metadata": {},
     "output_type": "execute_result"
    }
   ],
   "source": [
    "Survey.CountryLive.value_counts(normalize = True).round(3).head()*100"
   ]
  },
  {
   "cell_type": "code",
   "execution_count": 11,
   "metadata": {},
   "outputs": [
    {
     "data": {
      "text/plain": [
       "United States of America    5791\n",
       "India                       1400\n",
       "United Kingdom               757\n",
       "Canada                       616\n",
       "Brazil                       364\n",
       "Name: CountryLive, dtype: int64"
      ]
     },
     "execution_count": 11,
     "metadata": {},
     "output_type": "execute_result"
    }
   ],
   "source": [
    "Survey.CountryLive.value_counts().head()"
   ]
  },
  {
   "cell_type": "markdown",
   "metadata": {},
   "source": [
    "Looking at the results, we can observe that USA and India a lot of potential customers has. So it would be wise to choose those two as our markets to advertise in. Neverthenless this decision is not 100% safe, since the nuber of people in india may not have the same buying power than the customers in USA. So here we would need to see if people in india would be interested in payed products."
   ]
  },
  {
   "cell_type": "code",
   "execution_count": 12,
   "metadata": {},
   "outputs": [],
   "source": [
    "Countries = Survey.copy()\n",
    "Countries = Countries[Countries['JobRoleInterest'].notnull()]\n",
    "# Countries.MonthsProgramming.fillna(1, inplace = True)\n",
    "Countries.MonthsProgramming.replace(0,1, inplace = True)\n",
    "Countries['Money_month'] = Countries['MoneyForLearning']/Countries['MonthsProgramming']"
   ]
  },
  {
   "cell_type": "code",
   "execution_count": 13,
   "metadata": {},
   "outputs": [
    {
     "data": {
      "text/plain": [
       "Age                     153\n",
       "AttendedBootcamp         98\n",
       "BootcampFinish         6632\n",
       "BootcampLoanYesNo      6627\n",
       "BootcampName           6676\n",
       "                       ... \n",
       "YouTubeMozillaHacks    6818\n",
       "YouTubeOther           6525\n",
       "YouTubeSimplilearn     6920\n",
       "YouTubeTheNewBoston    5849\n",
       "Money_month             675\n",
       "Length: 137, dtype: int64"
      ]
     },
     "execution_count": 13,
     "metadata": {},
     "output_type": "execute_result"
    }
   ],
   "source": [
    "Countries.isnull().sum()"
   ]
  },
  {
   "cell_type": "code",
   "execution_count": 14,
   "metadata": {},
   "outputs": [],
   "source": [
    "Countries = Countries[Countries['Money_month'].notna()]\n",
    "Countries = Countries[Countries['CountryLive'].notna()]"
   ]
  },
  {
   "cell_type": "code",
   "execution_count": 15,
   "metadata": {},
   "outputs": [
    {
     "data": {
      "text/plain": [
       "United States of America    2933\n",
       "India                        463\n",
       "United Kingdom               279\n",
       "Canada                       240\n",
       "Poland                       122\n",
       "                            ... \n",
       "Trinidad & Tobago              1\n",
       "Anguilla                       1\n",
       "Cuba                           1\n",
       "Mozambique                     1\n",
       "Jordan                         1\n",
       "Name: CountryLive, Length: 131, dtype: int64"
      ]
     },
     "execution_count": 15,
     "metadata": {},
     "output_type": "execute_result"
    }
   ],
   "source": [
    "Countries.CountryLive.value_counts()"
   ]
  },
  {
   "cell_type": "code",
   "execution_count": 16,
   "metadata": {},
   "outputs": [
    {
     "data": {
      "text/html": [
       "<div>\n",
       "<style scoped>\n",
       "    .dataframe tbody tr th:only-of-type {\n",
       "        vertical-align: middle;\n",
       "    }\n",
       "\n",
       "    .dataframe tbody tr th {\n",
       "        vertical-align: top;\n",
       "    }\n",
       "\n",
       "    .dataframe thead th {\n",
       "        text-align: right;\n",
       "    }\n",
       "</style>\n",
       "<table border=\"1\" class=\"dataframe\">\n",
       "  <thead>\n",
       "    <tr style=\"text-align: right;\">\n",
       "      <th></th>\n",
       "      <th>mean</th>\n",
       "      <th>median</th>\n",
       "    </tr>\n",
       "    <tr>\n",
       "      <th>CountryLive</th>\n",
       "      <th></th>\n",
       "      <th></th>\n",
       "    </tr>\n",
       "  </thead>\n",
       "  <tbody>\n",
       "    <tr>\n",
       "      <th>United States of America</th>\n",
       "      <td>227.997996</td>\n",
       "      <td>3.333333</td>\n",
       "    </tr>\n",
       "    <tr>\n",
       "      <th>India</th>\n",
       "      <td>135.100982</td>\n",
       "      <td>0.000000</td>\n",
       "    </tr>\n",
       "    <tr>\n",
       "      <th>United Kingdom</th>\n",
       "      <td>45.534443</td>\n",
       "      <td>0.000000</td>\n",
       "    </tr>\n",
       "    <tr>\n",
       "      <th>Canada</th>\n",
       "      <td>113.510961</td>\n",
       "      <td>0.000000</td>\n",
       "    </tr>\n",
       "  </tbody>\n",
       "</table>\n",
       "</div>"
      ],
      "text/plain": [
       "                                mean    median\n",
       "CountryLive                                   \n",
       "United States of America  227.997996  3.333333\n",
       "India                     135.100982  0.000000\n",
       "United Kingdom             45.534443  0.000000\n",
       "Canada                    113.510961  0.000000"
      ]
     },
     "execution_count": 16,
     "metadata": {},
     "output_type": "execute_result"
    }
   ],
   "source": [
    "Countries.groupby('CountryLive').agg([np.mean, np.median]).loc[['United States of America', 'India', 'United Kingdom', 'Canada']]['Money_month']"
   ]
  },
  {
   "cell_type": "markdown",
   "metadata": {},
   "source": [
    "Wee see that by looking at the mean value spent on learning the ranking changes, even tough there are more potential customers on United Kingdom than Canada. But tha sample population does not consume as most as the ones on the UK. But I looks odd to see UK spending less money than canada or India.. Let us check then, if there are any outliers in the data that makes the result look like that"
   ]
  },
  {
   "cell_type": "code",
   "execution_count": 42,
   "metadata": {},
   "outputs": [
    {
     "data": {
      "image/png": "[encoded data removed]",
      "text/plain": [
       "<Figure size 1296x720 with 1 Axes>"
      ]
     },
     "metadata": {
      "needs_background": "light"
     },
     "output_type": "display_data"
    }
   ],
   "source": [
    "(Countries[Countries['CountryLive']\n",
    "          .isin(['United States of America', 'India', 'United Kingdom', 'Canada'])\n",
    "          ]\n",
    "          .boxplot(column='Money_month', by='CountryLive', figsize=(18,10), vert = False)\n",
    "    )\n",
    "\n",
    "plt.show()"
   ]
  },
  {
   "cell_type": "markdown",
   "metadata": {},
   "source": [
    "It looks like from the Boxplot, that US has some very unrealistic values. Meaning that there are people spending more than 80K a month in learning ressources. This may not be impossible but looks more like an error in the data. India has also users spending 20K a month for learning. For this reason, we will filter the data by money spent under 20K a month and replot the distributions"
   ]
  },
  {
   "cell_type": "code",
   "execution_count": 43,
   "metadata": {
    "scrolled": true
   },
   "outputs": [
    {
     "data": {
      "image/png": "[encoded data removed]",
      "text/plain": [
       "<Figure size 1296x720 with 1 Axes>"
      ]
     },
     "metadata": {
      "needs_background": "light"
     },
     "output_type": "display_data"
    }
   ],
   "source": [
    "(Countries[\n",
    "    (Countries['CountryLive'].isin(['United States of America', 'India', 'United Kingdom', 'Canada']))\n",
    "    &\n",
    "    (Countries['Money_month'] < 20000)\n",
    "          ]\n",
    "          .boxplot(column='Money_month', by='CountryLive', figsize=(18,10), vert=False)\n",
    "    )\n",
    "plt.show()\n",
    "    "
   ]
  },
  {
   "cell_type": "markdown",
   "metadata": {},
   "source": [
    "Now 20K seems also like a lot of money, even 5K is alot. But for people that attended a Bootcamp for example, this may be a normal scenario. Let use see how much people that are at least over 4K a month did not attend a bootcamp."
   ]
  },
  {
   "cell_type": "code",
   "execution_count": 68,
   "metadata": {},
   "outputs": [
    {
     "data": {
      "text/plain": [
       "(5, 137)"
      ]
     },
     "execution_count": 68,
     "metadata": {},
     "output_type": "execute_result"
    }
   ],
   "source": [
    "# India\n",
    "India_outliers = (\n",
    "    Countries[(Countries['CountryLive'] == 'India') & \n",
    "              (Countries['Money_month'] > 4000) & \n",
    "              (Countries['AttendedBootcamp'] == 0)]\n",
    ")\n",
    "India_outliers.shape"
   ]
  },
  {
   "cell_type": "markdown",
   "metadata": {},
   "source": [
    "There are 5 people from India spending more than 4K a month and have attended a Bootcamp. So the reason why they are spending so much is even more unclear."
   ]
  },
  {
   "cell_type": "code",
   "execution_count": 69,
   "metadata": {},
   "outputs": [
    {
     "data": {
      "text/plain": [
       "(11, 137)"
      ]
     },
     "execution_count": 69,
     "metadata": {},
     "output_type": "execute_result"
    }
   ],
   "source": [
    "# USA\n",
    "USA_outliers =(\n",
    "    Countries[(Countries['CountryLive'] == 'United States of America') & \n",
    "              (Countries['Money_month'] > 4000) & \n",
    "              (Countries['AttendedBootcamp'] == 0)]\n",
    "              )\n",
    "USA_outliers.shape"
   ]
  },
  {
   "cell_type": "markdown",
   "metadata": {},
   "source": [
    "For USA we have the same situation, here we have 11 people. Let us remove the outlier rows "
   ]
  },
  {
   "cell_type": "code",
   "execution_count": 72,
   "metadata": {},
   "outputs": [
    {
     "data": {
      "text/plain": [
       "(16, 137)"
      ]
     },
     "execution_count": 72,
     "metadata": {},
     "output_type": "execute_result"
    }
   ],
   "source": [
    "most_relevant = ['United States of America', 'India', 'United Kingdom', 'Canada']\n",
    "\n",
    "Outliers = (\n",
    "    Countries[(Countries['CountryLive'].isin(most_relevant)) &\n",
    "              (Countries['Money_month'] > 4000) & \n",
    "              (Countries['AttendedBootcamp'] == 0)\n",
    "             ]\n",
    "            )\n",
    "\n",
    "Outliers.shape"
   ]
  },
  {
   "cell_type": "code",
   "execution_count": 109,
   "metadata": {},
   "outputs": [
    {
     "data": {
      "text/html": [
       "<div>\n",
       "<style scoped>\n",
       "    .dataframe tbody tr th:only-of-type {\n",
       "        vertical-align: middle;\n",
       "    }\n",
       "\n",
       "    .dataframe tbody tr th {\n",
       "        vertical-align: top;\n",
       "    }\n",
       "\n",
       "    .dataframe thead th {\n",
       "        text-align: right;\n",
       "    }\n",
       "</style>\n",
       "<table border=\"1\" class=\"dataframe\">\n",
       "  <thead>\n",
       "    <tr style=\"text-align: right;\">\n",
       "      <th></th>\n",
       "      <th>CountryLive</th>\n",
       "      <th>Money_month</th>\n",
       "    </tr>\n",
       "  </thead>\n",
       "  <tbody>\n",
       "    <tr>\n",
       "      <th>0</th>\n",
       "      <td>United States of America</td>\n",
       "      <td>169.889843</td>\n",
       "    </tr>\n",
       "    <tr>\n",
       "      <th>1</th>\n",
       "      <td>India</td>\n",
       "      <td>72.893205</td>\n",
       "    </tr>\n",
       "    <tr>\n",
       "      <th>2</th>\n",
       "      <td>United Kingdom</td>\n",
       "      <td>45.534443</td>\n",
       "    </tr>\n",
       "    <tr>\n",
       "      <th>3</th>\n",
       "      <td>Canada</td>\n",
       "      <td>113.510961</td>\n",
       "    </tr>\n",
       "  </tbody>\n",
       "</table>\n",
       "</div>"
      ],
      "text/plain": [
       "                CountryLive  Money_month\n",
       "0  United States of America   169.889843\n",
       "1                     India    72.893205\n",
       "2            United Kingdom    45.534443\n",
       "3                    Canada   113.510961"
      ]
     },
     "execution_count": 109,
     "metadata": {},
     "output_type": "execute_result"
    }
   ],
   "source": [
    "Countries_clean = Countries.drop(Outliers.index)\n",
    "\n",
    "Countries_montly= Countries_clean.groupby('CountryLive').agg(np.mean).loc[['United States of America', 'India', 'United Kingdom', 'Canada']]['Money_month'].to_frame().reset_index()\n",
    "Countries_montly"
   ]
  },
  {
   "cell_type": "markdown",
   "metadata": {},
   "source": [
    "Now the mean values for each country look different. In second place we have canada and India went to third place. Let's summarize the results a little more in detail."
   ]
  },
  {
   "cell_type": "code",
   "execution_count": 150,
   "metadata": {},
   "outputs": [],
   "source": [
    "Countries_count_abs = Countries_clean.CountryLive.value_counts().head(4).to_frame().reset_index()\n",
    "Countries_count_rel = Countries_clean.CountryLive.value_counts(normalize = True).head(4).multiply(100).to_frame().reset_index()"
   ]
  },
  {
   "cell_type": "code",
   "execution_count": 151,
   "metadata": {},
   "outputs": [],
   "source": [
    "Countries_merged = (\n",
    "    Countries_montly.\n",
    "        merge(Countries_count_abs, left_on='CountryLive', right_on='index').\n",
    "        merge(Countries_count_rel, left_on='CountryLive_x', right_on='index')\n",
    "                    \n",
    ")"
   ]
  },
  {
   "cell_type": "code",
   "execution_count": 152,
   "metadata": {},
   "outputs": [],
   "source": [
    "Countries_merged = Countries_merged.loc[:,['CountryLive_x', 'Money_month', 'CountryLive_y', 'CountryLive']].rename({'CountryLive_x':'Country', 'CountryLive_y':'Nr_customers_Abs', 'CountryLive':'Nr_customers_rel'},axis = 1)\n"
   ]
  },
  {
   "cell_type": "code",
   "execution_count": 153,
   "metadata": {},
   "outputs": [
    {
     "data": {
      "text/html": [
       "<div>\n",
       "<style scoped>\n",
       "    .dataframe tbody tr th:only-of-type {\n",
       "        vertical-align: middle;\n",
       "    }\n",
       "\n",
       "    .dataframe tbody tr th {\n",
       "        vertical-align: top;\n",
       "    }\n",
       "\n",
       "    .dataframe thead th {\n",
       "        text-align: right;\n",
       "    }\n",
       "</style>\n",
       "<table border=\"1\" class=\"dataframe\">\n",
       "  <thead>\n",
       "    <tr style=\"text-align: right;\">\n",
       "      <th></th>\n",
       "      <th>Country</th>\n",
       "      <th>Money_month</th>\n",
       "      <th>Nr_customers_Abs</th>\n",
       "      <th>Nr_customers_rel</th>\n",
       "    </tr>\n",
       "  </thead>\n",
       "  <tbody>\n",
       "    <tr>\n",
       "      <th>0</th>\n",
       "      <td>United States of America</td>\n",
       "      <td>169.889843</td>\n",
       "      <td>2922</td>\n",
       "      <td>47.159458</td>\n",
       "    </tr>\n",
       "    <tr>\n",
       "      <th>1</th>\n",
       "      <td>India</td>\n",
       "      <td>72.893205</td>\n",
       "      <td>458</td>\n",
       "      <td>7.391866</td>\n",
       "    </tr>\n",
       "    <tr>\n",
       "      <th>2</th>\n",
       "      <td>United Kingdom</td>\n",
       "      <td>45.534443</td>\n",
       "      <td>279</td>\n",
       "      <td>4.502905</td>\n",
       "    </tr>\n",
       "    <tr>\n",
       "      <th>3</th>\n",
       "      <td>Canada</td>\n",
       "      <td>113.510961</td>\n",
       "      <td>240</td>\n",
       "      <td>3.873467</td>\n",
       "    </tr>\n",
       "  </tbody>\n",
       "</table>\n",
       "</div>"
      ],
      "text/plain": [
       "                    Country  Money_month  Nr_customers_Abs  Nr_customers_rel\n",
       "0  United States of America   169.889843              2922         47.159458\n",
       "1                     India    72.893205               458          7.391866\n",
       "2            United Kingdom    45.534443               279          4.502905\n",
       "3                    Canada   113.510961               240          3.873467"
      ]
     },
     "execution_count": 153,
     "metadata": {},
     "output_type": "execute_result"
    }
   ],
   "source": [
    "Countries_merged"
   ]
  },
  {
   "cell_type": "markdown",
   "metadata": {},
   "source": [
    "We can observe that USA, India and Canada could invest in a 59\\$ a month membership. But the USA Market is indeed the most interesting one , since it makes almost 50\\% of the Market and has the highes buying power. Then we can look after a secondary market , either India or Canada. In India, we have almost the double an potential customers, but the buying power is half canada's. Therefore we could split the marketing budget into three countries and so get mor chances to lock customers. But the most wise decision is to send the data to the marketing department and let them decide based on the insights found. "
   ]
  },
  {
   "cell_type": "code",
   "execution_count": null,
   "metadata": {},
   "outputs": [],
   "source": []
  }
 ],
 "metadata": {
  "kernelspec": {
   "display_name": "Python 3",
   "language": "python",
   "name": "python3"
  },
  "language_info": {
   "codemirror_mode": {
    "name": "ipython",
    "version": 3
   },
   "file_extension": ".py",
   "mimetype": "text/x-python",
   "name": "python",
   "nbconvert_exporter": "python",
   "pygments_lexer": "ipython3",
   "version": "3.7.3"
  },
  "toc": {
   "base_numbering": 1,
   "nav_menu": {},
   "number_sections": true,
   "sideBar": true,
   "skip_h1_title": false,
   "title_cell": "Table of Contents",
   "title_sidebar": "Contents",
   "toc_cell": false,
   "toc_position": {},
   "toc_section_display": true,
   "toc_window_display": false
  }
 },
 "nbformat": 4,
 "nbformat_minor": 2
}
