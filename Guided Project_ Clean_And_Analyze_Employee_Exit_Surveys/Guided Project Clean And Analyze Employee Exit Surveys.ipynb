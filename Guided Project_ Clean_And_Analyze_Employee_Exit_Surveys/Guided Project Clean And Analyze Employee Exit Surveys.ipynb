{
 "cells": [
  {
   "cell_type": "markdown",
   "source": [
    "# Project description:\n",
    "\n",
    "In this project I am going to analyze data from the Department of Education, Training and Employment (DETE) and the Technical and Further Education (TAFE) institute in Queensland, Australia.  Data is provided as .csv in my repository. \n",
    "\n",
    "In this project, the aim is to answer the following questions:\n",
    "\n",
    "+ Are employees who only worked for the institutes for a short period of time resigning due to some kind of dissatisfaction? What about employees who have been there longer?\n",
    "+ Are younger employees resigning due to some kind of dissatisfaction? What about older employees?\n",
    "\n",
    "We need to combine the results for both surveys to answer these questions. However, although both used the same survey template, one of them customized some answers. Which requires data cleaning.\n",
    "\n",
    "The data is contained in two different files. Each file represents a survey made by a different person. Even though both had the same template for the survey, some fields are different. In order to analyze all the data both datasets need to be merged."
   ],
   "metadata": {}
  },
  {
   "cell_type": "markdown",
   "source": [
    "## Importing the standard libraries"
   ],
   "metadata": {}
  },
  {
   "cell_type": "code",
   "execution_count": 81,
   "source": [
    "import pandas as pd\n",
    "import matplotlib.pyplot as plt\n",
    "import seaborn as sns\n",
    "import numpy as np "
   ],
   "outputs": [],
   "metadata": {}
  },
  {
   "cell_type": "code",
   "execution_count": 82,
   "source": [
    "# This function modiefies the pandas dataframe style in a function so that dataframes can be displayed side by side. Taken from https://stackoverflow.com/a/68450201\n",
    "\n",
    "from IPython.core.display import display, HTML\n",
    "\n",
    "def display_side_by_side(dfs:list, captions:list, tablespacing=5):\n",
    "    \"\"\"Display tables side by side to save vertical space\n",
    "    Input:\n",
    "        dfs: list of pandas.DataFrame\n",
    "        captions: list of table captions\n",
    "    \"\"\"\n",
    "    output = \"\"\n",
    "    combined = dict(zip(captions, dfs))\n",
    "    for caption, df in combined.items():\n",
    "        output += df.style.set_table_attributes(\"style='display:inline'\").set_caption(caption)._repr_html_()\n",
    "        output += tablespacing * \"\\xa0\"\n",
    "    display(HTML(output))"
   ],
   "outputs": [],
   "metadata": {}
  },
  {
   "cell_type": "markdown",
   "source": [
    "## Reading the data - Initial try\n",
    "> the dataset was previusly reencoded into UTF-8 to make things more simple to handle"
   ],
   "metadata": {}
  },
  {
   "cell_type": "code",
   "execution_count": 83,
   "source": [
    "dete_survey = pd.read_csv(\"dete_survey.csv\") # No need to specify the encoding since UTF-8 is standard\n",
    "tafe_survey = pd.read_csv(\"tafe_survey.csv\")"
   ],
   "outputs": [],
   "metadata": {}
  },
  {
   "cell_type": "markdown",
   "source": [
    "## Getting an overall perception of the datasets\n",
    "\n",
    "Let's take a look at the DETE dataset first."
   ],
   "metadata": {}
  },
  {
   "cell_type": "code",
   "execution_count": 84,
   "source": [
    "# Relevant information for the DETE Dataset\n",
    "dete_survey.info()"
   ],
   "outputs": [
    {
     "output_type": "stream",
     "name": "stdout",
     "text": [
      "<class 'pandas.core.frame.DataFrame'>\n",
      "RangeIndex: 822 entries, 0 to 821\n",
      "Data columns (total 56 columns):\n",
      " #   Column                               Non-Null Count  Dtype \n",
      "---  ------                               --------------  ----- \n",
      " 0   ID                                   822 non-null    int64 \n",
      " 1   SeparationType                       822 non-null    object\n",
      " 2   Cease Date                           822 non-null    object\n",
      " 3   DETE Start Date                      822 non-null    object\n",
      " 4   Role Start Date                      822 non-null    object\n",
      " 5   Position                             817 non-null    object\n",
      " 6   Classification                       455 non-null    object\n",
      " 7   Region                               822 non-null    object\n",
      " 8   Business Unit                        126 non-null    object\n",
      " 9   Employment Status                    817 non-null    object\n",
      " 10  Career move to public sector         822 non-null    bool  \n",
      " 11  Career move to private sector        822 non-null    bool  \n",
      " 12  Interpersonal conflicts              822 non-null    bool  \n",
      " 13  Job dissatisfaction                  822 non-null    bool  \n",
      " 14  Dissatisfaction with the department  822 non-null    bool  \n",
      " 15  Physical work environment            822 non-null    bool  \n",
      " 16  Lack of recognition                  822 non-null    bool  \n",
      " 17  Lack of job security                 822 non-null    bool  \n",
      " 18  Work location                        822 non-null    bool  \n",
      " 19  Employment conditions                822 non-null    bool  \n",
      " 20  Maternity/family                     822 non-null    bool  \n",
      " 21  Relocation                           822 non-null    bool  \n",
      " 22  Study/Travel                         822 non-null    bool  \n",
      " 23  Ill Health                           822 non-null    bool  \n",
      " 24  Traumatic incident                   822 non-null    bool  \n",
      " 25  Work life balance                    822 non-null    bool  \n",
      " 26  Workload                             822 non-null    bool  \n",
      " 27  None of the above                    822 non-null    bool  \n",
      " 28  Professional Development             808 non-null    object\n",
      " 29  Opportunities for promotion          735 non-null    object\n",
      " 30  Staff morale                         816 non-null    object\n",
      " 31  Workplace issue                      788 non-null    object\n",
      " 32  Physical environment                 817 non-null    object\n",
      " 33  Worklife balance                     815 non-null    object\n",
      " 34  Stress and pressure support          810 non-null    object\n",
      " 35  Performance of supervisor            813 non-null    object\n",
      " 36  Peer support                         812 non-null    object\n",
      " 37  Initiative                           813 non-null    object\n",
      " 38  Skills                               811 non-null    object\n",
      " 39  Coach                                767 non-null    object\n",
      " 40  Career Aspirations                   746 non-null    object\n",
      " 41  Feedback                             792 non-null    object\n",
      " 42  Further PD                           768 non-null    object\n",
      " 43  Communication                        814 non-null    object\n",
      " 44  My say                               812 non-null    object\n",
      " 45  Information                          816 non-null    object\n",
      " 46  Kept informed                        813 non-null    object\n",
      " 47  Wellness programs                    766 non-null    object\n",
      " 48  Health & Safety                      793 non-null    object\n",
      " 49  Gender                               798 non-null    object\n",
      " 50  Age                                  811 non-null    object\n",
      " 51  Aboriginal                           16 non-null     object\n",
      " 52  Torres Strait                        3 non-null      object\n",
      " 53  South Sea                            7 non-null      object\n",
      " 54  Disability                           23 non-null     object\n",
      " 55  NESB                                 32 non-null     object\n",
      "dtypes: bool(18), int64(1), object(37)\n",
      "memory usage: 258.6+ KB\n"
     ]
    }
   ],
   "metadata": {
    "scrolled": true
   }
  },
  {
   "cell_type": "markdown",
   "source": [
    "One thing to notice is the amount of non-null objects present. Most of the Dataframe is made out of strings and probably qualitative data rather than measurements. There are also a great proportion of boolean values, that by looking at the column names categorize the employee."
   ],
   "metadata": {}
  },
  {
   "cell_type": "code",
   "execution_count": 85,
   "source": [
    "# quick look at the dataset\n",
    "dete_survey.head()"
   ],
   "outputs": [
    {
     "output_type": "execute_result",
     "data": {
      "text/html": [
       "<div>\n",
       "<style scoped>\n",
       "    .dataframe tbody tr th:only-of-type {\n",
       "        vertical-align: middle;\n",
       "    }\n",
       "\n",
       "    .dataframe tbody tr th {\n",
       "        vertical-align: top;\n",
       "    }\n",
       "\n",
       "    .dataframe thead th {\n",
       "        text-align: right;\n",
       "    }\n",
       "</style>\n",
       "<table border=\"1\" class=\"dataframe\">\n",
       "  <thead>\n",
       "    <tr style=\"text-align: right;\">\n",
       "      <th></th>\n",
       "      <th>ID</th>\n",
       "      <th>SeparationType</th>\n",
       "      <th>Cease Date</th>\n",
       "      <th>DETE Start Date</th>\n",
       "      <th>Role Start Date</th>\n",
       "      <th>Position</th>\n",
       "      <th>Classification</th>\n",
       "      <th>Region</th>\n",
       "      <th>Business Unit</th>\n",
       "      <th>Employment Status</th>\n",
       "      <th>...</th>\n",
       "      <th>Kept informed</th>\n",
       "      <th>Wellness programs</th>\n",
       "      <th>Health &amp; Safety</th>\n",
       "      <th>Gender</th>\n",
       "      <th>Age</th>\n",
       "      <th>Aboriginal</th>\n",
       "      <th>Torres Strait</th>\n",
       "      <th>South Sea</th>\n",
       "      <th>Disability</th>\n",
       "      <th>NESB</th>\n",
       "    </tr>\n",
       "  </thead>\n",
       "  <tbody>\n",
       "    <tr>\n",
       "      <th>0</th>\n",
       "      <td>1</td>\n",
       "      <td>Ill Health Retirement</td>\n",
       "      <td>08/2012</td>\n",
       "      <td>1984</td>\n",
       "      <td>2004</td>\n",
       "      <td>Public Servant</td>\n",
       "      <td>A01-A04</td>\n",
       "      <td>Central Office</td>\n",
       "      <td>Corporate Strategy and Peformance</td>\n",
       "      <td>Permanent Full-time</td>\n",
       "      <td>...</td>\n",
       "      <td>N</td>\n",
       "      <td>N</td>\n",
       "      <td>N</td>\n",
       "      <td>Male</td>\n",
       "      <td>56-60</td>\n",
       "      <td>NaN</td>\n",
       "      <td>NaN</td>\n",
       "      <td>NaN</td>\n",
       "      <td>NaN</td>\n",
       "      <td>Yes</td>\n",
       "    </tr>\n",
       "    <tr>\n",
       "      <th>1</th>\n",
       "      <td>2</td>\n",
       "      <td>Voluntary Early Retirement (VER)</td>\n",
       "      <td>08/2012</td>\n",
       "      <td>Not Stated</td>\n",
       "      <td>Not Stated</td>\n",
       "      <td>Public Servant</td>\n",
       "      <td>AO5-AO7</td>\n",
       "      <td>Central Office</td>\n",
       "      <td>Corporate Strategy and Peformance</td>\n",
       "      <td>Permanent Full-time</td>\n",
       "      <td>...</td>\n",
       "      <td>N</td>\n",
       "      <td>N</td>\n",
       "      <td>N</td>\n",
       "      <td>Male</td>\n",
       "      <td>56-60</td>\n",
       "      <td>NaN</td>\n",
       "      <td>NaN</td>\n",
       "      <td>NaN</td>\n",
       "      <td>NaN</td>\n",
       "      <td>NaN</td>\n",
       "    </tr>\n",
       "    <tr>\n",
       "      <th>2</th>\n",
       "      <td>3</td>\n",
       "      <td>Voluntary Early Retirement (VER)</td>\n",
       "      <td>05/2012</td>\n",
       "      <td>2011</td>\n",
       "      <td>2011</td>\n",
       "      <td>Schools Officer</td>\n",
       "      <td>NaN</td>\n",
       "      <td>Central Office</td>\n",
       "      <td>Education Queensland</td>\n",
       "      <td>Permanent Full-time</td>\n",
       "      <td>...</td>\n",
       "      <td>N</td>\n",
       "      <td>N</td>\n",
       "      <td>N</td>\n",
       "      <td>Male</td>\n",
       "      <td>61 or older</td>\n",
       "      <td>NaN</td>\n",
       "      <td>NaN</td>\n",
       "      <td>NaN</td>\n",
       "      <td>NaN</td>\n",
       "      <td>NaN</td>\n",
       "    </tr>\n",
       "    <tr>\n",
       "      <th>3</th>\n",
       "      <td>4</td>\n",
       "      <td>Resignation-Other reasons</td>\n",
       "      <td>05/2012</td>\n",
       "      <td>2005</td>\n",
       "      <td>2006</td>\n",
       "      <td>Teacher</td>\n",
       "      <td>Primary</td>\n",
       "      <td>Central Queensland</td>\n",
       "      <td>NaN</td>\n",
       "      <td>Permanent Full-time</td>\n",
       "      <td>...</td>\n",
       "      <td>A</td>\n",
       "      <td>N</td>\n",
       "      <td>A</td>\n",
       "      <td>Female</td>\n",
       "      <td>36-40</td>\n",
       "      <td>NaN</td>\n",
       "      <td>NaN</td>\n",
       "      <td>NaN</td>\n",
       "      <td>NaN</td>\n",
       "      <td>NaN</td>\n",
       "    </tr>\n",
       "    <tr>\n",
       "      <th>4</th>\n",
       "      <td>5</td>\n",
       "      <td>Age Retirement</td>\n",
       "      <td>05/2012</td>\n",
       "      <td>1970</td>\n",
       "      <td>1989</td>\n",
       "      <td>Head of Curriculum/Head of Special Education</td>\n",
       "      <td>NaN</td>\n",
       "      <td>South East</td>\n",
       "      <td>NaN</td>\n",
       "      <td>Permanent Full-time</td>\n",
       "      <td>...</td>\n",
       "      <td>N</td>\n",
       "      <td>A</td>\n",
       "      <td>M</td>\n",
       "      <td>Female</td>\n",
       "      <td>61 or older</td>\n",
       "      <td>NaN</td>\n",
       "      <td>NaN</td>\n",
       "      <td>NaN</td>\n",
       "      <td>NaN</td>\n",
       "      <td>NaN</td>\n",
       "    </tr>\n",
       "  </tbody>\n",
       "</table>\n",
       "<p>5 rows × 56 columns</p>\n",
       "</div>"
      ],
      "text/plain": [
       "   ID                    SeparationType Cease Date DETE Start Date  \\\n",
       "0   1             Ill Health Retirement    08/2012            1984   \n",
       "1   2  Voluntary Early Retirement (VER)    08/2012      Not Stated   \n",
       "2   3  Voluntary Early Retirement (VER)    05/2012            2011   \n",
       "3   4         Resignation-Other reasons    05/2012            2005   \n",
       "4   5                    Age Retirement    05/2012            1970   \n",
       "\n",
       "  Role Start Date                                      Position  \\\n",
       "0            2004                                Public Servant   \n",
       "1      Not Stated                                Public Servant   \n",
       "2            2011                               Schools Officer   \n",
       "3            2006                                       Teacher   \n",
       "4            1989  Head of Curriculum/Head of Special Education   \n",
       "\n",
       "  Classification              Region                      Business Unit  \\\n",
       "0        A01-A04      Central Office  Corporate Strategy and Peformance   \n",
       "1        AO5-AO7      Central Office  Corporate Strategy and Peformance   \n",
       "2            NaN      Central Office               Education Queensland   \n",
       "3        Primary  Central Queensland                                NaN   \n",
       "4            NaN          South East                                NaN   \n",
       "\n",
       "     Employment Status  ...  Kept informed  Wellness programs  \\\n",
       "0  Permanent Full-time  ...              N                  N   \n",
       "1  Permanent Full-time  ...              N                  N   \n",
       "2  Permanent Full-time  ...              N                  N   \n",
       "3  Permanent Full-time  ...              A                  N   \n",
       "4  Permanent Full-time  ...              N                  A   \n",
       "\n",
       "   Health & Safety  Gender          Age  Aboriginal  Torres Strait  South Sea  \\\n",
       "0                N    Male        56-60         NaN            NaN        NaN   \n",
       "1                N    Male        56-60         NaN            NaN        NaN   \n",
       "2                N    Male  61 or older         NaN            NaN        NaN   \n",
       "3                A  Female        36-40         NaN            NaN        NaN   \n",
       "4                M  Female  61 or older         NaN            NaN        NaN   \n",
       "\n",
       "   Disability  NESB  \n",
       "0         NaN   Yes  \n",
       "1         NaN   NaN  \n",
       "2         NaN   NaN  \n",
       "3         NaN   NaN  \n",
       "4         NaN   NaN  \n",
       "\n",
       "[5 rows x 56 columns]"
      ]
     },
     "metadata": {},
     "execution_count": 85
    }
   ],
   "metadata": {
    "scrolled": true
   }
  },
  {
   "cell_type": "code",
   "execution_count": 86,
   "source": [
    "display_side_by_side(\n",
    "    [\n",
    "        dete_survey.isnull().sum().sort_values(ascending= False).head(20).to_frame('Missing Values'), \n",
    "        dete_survey.isnull().sum().sort_values(ascending= True).head(20).to_frame('Missing Values')\n",
    "    ], \n",
    "    ['top', 'bottom']\n",
    ")"
   ],
   "outputs": [
    {
     "output_type": "display_data",
     "data": {
      "text/html": [
       "<style  type=\"text/css\" >\n",
       "</style><table id=\"T_fdedf_\" style='display:inline'><caption>top</caption><thead>    <tr>        <th class=\"blank level0\" ></th>        <th class=\"col_heading level0 col0\" >Missing Values</th>    </tr></thead><tbody>\n",
       "                <tr>\n",
       "                        <th id=\"T_fdedf_level0_row0\" class=\"row_heading level0 row0\" >Torres Strait</th>\n",
       "                        <td id=\"T_fdedf_row0_col0\" class=\"data row0 col0\" >819</td>\n",
       "            </tr>\n",
       "            <tr>\n",
       "                        <th id=\"T_fdedf_level0_row1\" class=\"row_heading level0 row1\" >South Sea</th>\n",
       "                        <td id=\"T_fdedf_row1_col0\" class=\"data row1 col0\" >815</td>\n",
       "            </tr>\n",
       "            <tr>\n",
       "                        <th id=\"T_fdedf_level0_row2\" class=\"row_heading level0 row2\" >Aboriginal</th>\n",
       "                        <td id=\"T_fdedf_row2_col0\" class=\"data row2 col0\" >806</td>\n",
       "            </tr>\n",
       "            <tr>\n",
       "                        <th id=\"T_fdedf_level0_row3\" class=\"row_heading level0 row3\" >Disability</th>\n",
       "                        <td id=\"T_fdedf_row3_col0\" class=\"data row3 col0\" >799</td>\n",
       "            </tr>\n",
       "            <tr>\n",
       "                        <th id=\"T_fdedf_level0_row4\" class=\"row_heading level0 row4\" >NESB</th>\n",
       "                        <td id=\"T_fdedf_row4_col0\" class=\"data row4 col0\" >790</td>\n",
       "            </tr>\n",
       "            <tr>\n",
       "                        <th id=\"T_fdedf_level0_row5\" class=\"row_heading level0 row5\" >Business Unit</th>\n",
       "                        <td id=\"T_fdedf_row5_col0\" class=\"data row5 col0\" >696</td>\n",
       "            </tr>\n",
       "            <tr>\n",
       "                        <th id=\"T_fdedf_level0_row6\" class=\"row_heading level0 row6\" >Classification</th>\n",
       "                        <td id=\"T_fdedf_row6_col0\" class=\"data row6 col0\" >367</td>\n",
       "            </tr>\n",
       "            <tr>\n",
       "                        <th id=\"T_fdedf_level0_row7\" class=\"row_heading level0 row7\" >Opportunities for promotion</th>\n",
       "                        <td id=\"T_fdedf_row7_col0\" class=\"data row7 col0\" >87</td>\n",
       "            </tr>\n",
       "            <tr>\n",
       "                        <th id=\"T_fdedf_level0_row8\" class=\"row_heading level0 row8\" >Career Aspirations</th>\n",
       "                        <td id=\"T_fdedf_row8_col0\" class=\"data row8 col0\" >76</td>\n",
       "            </tr>\n",
       "            <tr>\n",
       "                        <th id=\"T_fdedf_level0_row9\" class=\"row_heading level0 row9\" >Wellness programs</th>\n",
       "                        <td id=\"T_fdedf_row9_col0\" class=\"data row9 col0\" >56</td>\n",
       "            </tr>\n",
       "            <tr>\n",
       "                        <th id=\"T_fdedf_level0_row10\" class=\"row_heading level0 row10\" >Coach</th>\n",
       "                        <td id=\"T_fdedf_row10_col0\" class=\"data row10 col0\" >55</td>\n",
       "            </tr>\n",
       "            <tr>\n",
       "                        <th id=\"T_fdedf_level0_row11\" class=\"row_heading level0 row11\" >Further PD</th>\n",
       "                        <td id=\"T_fdedf_row11_col0\" class=\"data row11 col0\" >54</td>\n",
       "            </tr>\n",
       "            <tr>\n",
       "                        <th id=\"T_fdedf_level0_row12\" class=\"row_heading level0 row12\" >Workplace issue</th>\n",
       "                        <td id=\"T_fdedf_row12_col0\" class=\"data row12 col0\" >34</td>\n",
       "            </tr>\n",
       "            <tr>\n",
       "                        <th id=\"T_fdedf_level0_row13\" class=\"row_heading level0 row13\" >Feedback</th>\n",
       "                        <td id=\"T_fdedf_row13_col0\" class=\"data row13 col0\" >30</td>\n",
       "            </tr>\n",
       "            <tr>\n",
       "                        <th id=\"T_fdedf_level0_row14\" class=\"row_heading level0 row14\" >Health & Safety</th>\n",
       "                        <td id=\"T_fdedf_row14_col0\" class=\"data row14 col0\" >29</td>\n",
       "            </tr>\n",
       "            <tr>\n",
       "                        <th id=\"T_fdedf_level0_row15\" class=\"row_heading level0 row15\" >Gender</th>\n",
       "                        <td id=\"T_fdedf_row15_col0\" class=\"data row15 col0\" >24</td>\n",
       "            </tr>\n",
       "            <tr>\n",
       "                        <th id=\"T_fdedf_level0_row16\" class=\"row_heading level0 row16\" >Professional Development</th>\n",
       "                        <td id=\"T_fdedf_row16_col0\" class=\"data row16 col0\" >14</td>\n",
       "            </tr>\n",
       "            <tr>\n",
       "                        <th id=\"T_fdedf_level0_row17\" class=\"row_heading level0 row17\" >Stress and pressure support</th>\n",
       "                        <td id=\"T_fdedf_row17_col0\" class=\"data row17 col0\" >12</td>\n",
       "            </tr>\n",
       "            <tr>\n",
       "                        <th id=\"T_fdedf_level0_row18\" class=\"row_heading level0 row18\" >Skills</th>\n",
       "                        <td id=\"T_fdedf_row18_col0\" class=\"data row18 col0\" >11</td>\n",
       "            </tr>\n",
       "            <tr>\n",
       "                        <th id=\"T_fdedf_level0_row19\" class=\"row_heading level0 row19\" >Age</th>\n",
       "                        <td id=\"T_fdedf_row19_col0\" class=\"data row19 col0\" >11</td>\n",
       "            </tr>\n",
       "    </tbody></table>     <style  type=\"text/css\" >\n",
       "</style><table id=\"T_0e4df_\" style='display:inline'><caption>bottom</caption><thead>    <tr>        <th class=\"blank level0\" ></th>        <th class=\"col_heading level0 col0\" >Missing Values</th>    </tr></thead><tbody>\n",
       "                <tr>\n",
       "                        <th id=\"T_0e4df_level0_row0\" class=\"row_heading level0 row0\" >ID</th>\n",
       "                        <td id=\"T_0e4df_row0_col0\" class=\"data row0 col0\" >0</td>\n",
       "            </tr>\n",
       "            <tr>\n",
       "                        <th id=\"T_0e4df_level0_row1\" class=\"row_heading level0 row1\" >Workload</th>\n",
       "                        <td id=\"T_0e4df_row1_col0\" class=\"data row1 col0\" >0</td>\n",
       "            </tr>\n",
       "            <tr>\n",
       "                        <th id=\"T_0e4df_level0_row2\" class=\"row_heading level0 row2\" >Work life balance</th>\n",
       "                        <td id=\"T_0e4df_row2_col0\" class=\"data row2 col0\" >0</td>\n",
       "            </tr>\n",
       "            <tr>\n",
       "                        <th id=\"T_0e4df_level0_row3\" class=\"row_heading level0 row3\" >Traumatic incident</th>\n",
       "                        <td id=\"T_0e4df_row3_col0\" class=\"data row3 col0\" >0</td>\n",
       "            </tr>\n",
       "            <tr>\n",
       "                        <th id=\"T_0e4df_level0_row4\" class=\"row_heading level0 row4\" >Ill Health</th>\n",
       "                        <td id=\"T_0e4df_row4_col0\" class=\"data row4 col0\" >0</td>\n",
       "            </tr>\n",
       "            <tr>\n",
       "                        <th id=\"T_0e4df_level0_row5\" class=\"row_heading level0 row5\" >Study/Travel</th>\n",
       "                        <td id=\"T_0e4df_row5_col0\" class=\"data row5 col0\" >0</td>\n",
       "            </tr>\n",
       "            <tr>\n",
       "                        <th id=\"T_0e4df_level0_row6\" class=\"row_heading level0 row6\" >Relocation</th>\n",
       "                        <td id=\"T_0e4df_row6_col0\" class=\"data row6 col0\" >0</td>\n",
       "            </tr>\n",
       "            <tr>\n",
       "                        <th id=\"T_0e4df_level0_row7\" class=\"row_heading level0 row7\" >Maternity/family</th>\n",
       "                        <td id=\"T_0e4df_row7_col0\" class=\"data row7 col0\" >0</td>\n",
       "            </tr>\n",
       "            <tr>\n",
       "                        <th id=\"T_0e4df_level0_row8\" class=\"row_heading level0 row8\" >Employment conditions</th>\n",
       "                        <td id=\"T_0e4df_row8_col0\" class=\"data row8 col0\" >0</td>\n",
       "            </tr>\n",
       "            <tr>\n",
       "                        <th id=\"T_0e4df_level0_row9\" class=\"row_heading level0 row9\" >Work location</th>\n",
       "                        <td id=\"T_0e4df_row9_col0\" class=\"data row9 col0\" >0</td>\n",
       "            </tr>\n",
       "            <tr>\n",
       "                        <th id=\"T_0e4df_level0_row10\" class=\"row_heading level0 row10\" >Lack of job security</th>\n",
       "                        <td id=\"T_0e4df_row10_col0\" class=\"data row10 col0\" >0</td>\n",
       "            </tr>\n",
       "            <tr>\n",
       "                        <th id=\"T_0e4df_level0_row11\" class=\"row_heading level0 row11\" >Lack of recognition</th>\n",
       "                        <td id=\"T_0e4df_row11_col0\" class=\"data row11 col0\" >0</td>\n",
       "            </tr>\n",
       "            <tr>\n",
       "                        <th id=\"T_0e4df_level0_row12\" class=\"row_heading level0 row12\" >Physical work environment</th>\n",
       "                        <td id=\"T_0e4df_row12_col0\" class=\"data row12 col0\" >0</td>\n",
       "            </tr>\n",
       "            <tr>\n",
       "                        <th id=\"T_0e4df_level0_row13\" class=\"row_heading level0 row13\" >Dissatisfaction with the department</th>\n",
       "                        <td id=\"T_0e4df_row13_col0\" class=\"data row13 col0\" >0</td>\n",
       "            </tr>\n",
       "            <tr>\n",
       "                        <th id=\"T_0e4df_level0_row14\" class=\"row_heading level0 row14\" >None of the above</th>\n",
       "                        <td id=\"T_0e4df_row14_col0\" class=\"data row14 col0\" >0</td>\n",
       "            </tr>\n",
       "            <tr>\n",
       "                        <th id=\"T_0e4df_level0_row15\" class=\"row_heading level0 row15\" >Interpersonal conflicts</th>\n",
       "                        <td id=\"T_0e4df_row15_col0\" class=\"data row15 col0\" >0</td>\n",
       "            </tr>\n",
       "            <tr>\n",
       "                        <th id=\"T_0e4df_level0_row16\" class=\"row_heading level0 row16\" >Job dissatisfaction</th>\n",
       "                        <td id=\"T_0e4df_row16_col0\" class=\"data row16 col0\" >0</td>\n",
       "            </tr>\n",
       "            <tr>\n",
       "                        <th id=\"T_0e4df_level0_row17\" class=\"row_heading level0 row17\" >SeparationType</th>\n",
       "                        <td id=\"T_0e4df_row17_col0\" class=\"data row17 col0\" >0</td>\n",
       "            </tr>\n",
       "            <tr>\n",
       "                        <th id=\"T_0e4df_level0_row18\" class=\"row_heading level0 row18\" >Cease Date</th>\n",
       "                        <td id=\"T_0e4df_row18_col0\" class=\"data row18 col0\" >0</td>\n",
       "            </tr>\n",
       "            <tr>\n",
       "                        <th id=\"T_0e4df_level0_row19\" class=\"row_heading level0 row19\" >DETE Start Date</th>\n",
       "                        <td id=\"T_0e4df_row19_col0\" class=\"data row19 col0\" >0</td>\n",
       "            </tr>\n",
       "    </tbody></table>     "
      ],
      "text/plain": [
       "<IPython.core.display.HTML object>"
      ]
     },
     "metadata": {}
    }
   ],
   "metadata": {}
  },
  {
   "cell_type": "markdown",
   "source": [
    "Luckily there is no missing information in the `SeparationType`, `ID` ,`Cease Date` and `DETE Start` columns. From the other side, the columns with the most missing values seem to be very specific. Therefore, not all employees may belong here. E.g: \n",
    "The `Torres Strait` may contain probably information regarding if the employee comes or lives in the [Torres Strait Islands](https://en.wikipedia.org/wiki/Torres_Strait_Islands) or if the employee ethnicity is [Aboriginal](https://en.wikipedia.org/wiki/Aboriginal_Australians). Since there are a lot of NaN values we can assume that a small portion of the surveyed employees belong to these categories. Which at the same time could be one of the reasons for ending the employment. The other columns are mostly boolean, and show if the employee had extra possibilities like for example `Opportunities for promotion` or had some `Workplace issue`s in the past.\n",
    "\n",
    "Let's take a look now at the TAFE dataset"
   ],
   "metadata": {}
  },
  {
   "cell_type": "code",
   "execution_count": 87,
   "source": [
    "# Relevant information for the TAFE Dataset\n",
    "tafe_survey.info()"
   ],
   "outputs": [
    {
     "output_type": "stream",
     "name": "stdout",
     "text": [
      "<class 'pandas.core.frame.DataFrame'>\n",
      "RangeIndex: 702 entries, 0 to 701\n",
      "Data columns (total 72 columns):\n",
      " #   Column                                                                                                                                                         Non-Null Count  Dtype  \n",
      "---  ------                                                                                                                                                         --------------  -----  \n",
      " 0   Record ID                                                                                                                                                      702 non-null    float64\n",
      " 1   Institute                                                                                                                                                      702 non-null    object \n",
      " 2   WorkArea                                                                                                                                                       702 non-null    object \n",
      " 3   CESSATION YEAR                                                                                                                                                 695 non-null    float64\n",
      " 4   Reason for ceasing employment                                                                                                                                  701 non-null    object \n",
      " 5   Contributing Factors. Career Move - Public Sector                                                                                                              437 non-null    object \n",
      " 6   Contributing Factors. Career Move - Private Sector                                                                                                             437 non-null    object \n",
      " 7   Contributing Factors. Career Move - Self-employment                                                                                                            437 non-null    object \n",
      " 8   Contributing Factors. Ill Health                                                                                                                               437 non-null    object \n",
      " 9   Contributing Factors. Maternity/Family                                                                                                                         437 non-null    object \n",
      " 10  Contributing Factors. Dissatisfaction                                                                                                                          437 non-null    object \n",
      " 11  Contributing Factors. Job Dissatisfaction                                                                                                                      437 non-null    object \n",
      " 12  Contributing Factors. Interpersonal Conflict                                                                                                                   437 non-null    object \n",
      " 13  Contributing Factors. Study                                                                                                                                    437 non-null    object \n",
      " 14  Contributing Factors. Travel                                                                                                                                   437 non-null    object \n",
      " 15  Contributing Factors. Other                                                                                                                                    437 non-null    object \n",
      " 16  Contributing Factors. NONE                                                                                                                                     437 non-null    object \n",
      " 17  Main Factor. Which of these was the main factor for leaving?                                                                                                   113 non-null    object \n",
      " 18  InstituteViews. Topic:1. I feel the senior leadership had a clear vision and direction                                                                         608 non-null    object \n",
      " 19  InstituteViews. Topic:2. I was given access to skills training to help me do my job better                                                                     613 non-null    object \n",
      " 20  InstituteViews. Topic:3. I was given adequate opportunities for personal development                                                                           610 non-null    object \n",
      " 21  InstituteViews. Topic:4. I was given adequate opportunities for promotion within %Institute]Q25LBL%                                                            608 non-null    object \n",
      " 22  InstituteViews. Topic:5. I felt the salary for the job was right for the responsibilities I had                                                                615 non-null    object \n",
      " 23  InstituteViews. Topic:6. The organisation recognised when staff did good work                                                                                  607 non-null    object \n",
      " 24  InstituteViews. Topic:7. Management was generally supportive of me                                                                                             614 non-null    object \n",
      " 25  InstituteViews. Topic:8. Management was generally supportive of my team                                                                                        608 non-null    object \n",
      " 26  InstituteViews. Topic:9. I was kept informed of the changes in the organisation which would affect me                                                          610 non-null    object \n",
      " 27  InstituteViews. Topic:10. Staff morale was positive within the Institute                                                                                       602 non-null    object \n",
      " 28  InstituteViews. Topic:11. If I had a workplace issue it was dealt with quickly                                                                                 601 non-null    object \n",
      " 29  InstituteViews. Topic:12. If I had a workplace issue it was dealt with efficiently                                                                             597 non-null    object \n",
      " 30  InstituteViews. Topic:13. If I had a workplace issue it was dealt with discreetly                                                                              601 non-null    object \n",
      " 31  WorkUnitViews. Topic:14. I was satisfied with the quality of the management and supervision within my work unit                                                609 non-null    object \n",
      " 32  WorkUnitViews. Topic:15. I worked well with my colleagues                                                                                                      605 non-null    object \n",
      " 33  WorkUnitViews. Topic:16. My job was challenging and interesting                                                                                                607 non-null    object \n",
      " 34  WorkUnitViews. Topic:17. I was encouraged to use my initiative in the course of my work                                                                        610 non-null    object \n",
      " 35  WorkUnitViews. Topic:18. I had sufficient contact with other people in my job                                                                                  613 non-null    object \n",
      " 36  WorkUnitViews. Topic:19. I was given adequate support and co-operation by my peers to enable me to do my job                                                   609 non-null    object \n",
      " 37  WorkUnitViews. Topic:20. I was able to use the full range of my skills in my job                                                                               609 non-null    object \n",
      " 38  WorkUnitViews. Topic:21. I was able to use the full range of my abilities in my job. ; Category:Level of Agreement; Question:YOUR VIEWS ABOUT YOUR WORK UNIT]  608 non-null    object \n",
      " 39  WorkUnitViews. Topic:22. I was able to use the full range of my knowledge in my job                                                                            608 non-null    object \n",
      " 40  WorkUnitViews. Topic:23. My job provided sufficient variety                                                                                                    611 non-null    object \n",
      " 41  WorkUnitViews. Topic:24. I was able to cope with the level of stress and pressure in my job                                                                    610 non-null    object \n",
      " 42  WorkUnitViews. Topic:25. My job allowed me to balance the demands of work and family to my satisfaction                                                        611 non-null    object \n",
      " 43  WorkUnitViews. Topic:26. My supervisor gave me adequate personal recognition and feedback on my performance                                                    606 non-null    object \n",
      " 44  WorkUnitViews. Topic:27. My working environment was satisfactory e.g. sufficient space, good lighting, suitable seating and working area                       610 non-null    object \n",
      " 45  WorkUnitViews. Topic:28. I was given the opportunity to mentor and coach others in order for me to pass on my skills and knowledge prior to my cessation date  609 non-null    object \n",
      " 46  WorkUnitViews. Topic:29. There was adequate communication between staff in my unit                                                                             603 non-null    object \n",
      " 47  WorkUnitViews. Topic:30. Staff morale was positive within my work unit                                                                                         606 non-null    object \n",
      " 48  Induction. Did you undertake Workplace Induction?                                                                                                              619 non-null    object \n",
      " 49  InductionInfo. Topic:Did you undertake a Corporate Induction?                                                                                                  432 non-null    object \n",
      " 50  InductionInfo. Topic:Did you undertake a Institute Induction?                                                                                                  483 non-null    object \n",
      " 51  InductionInfo. Topic: Did you undertake Team Induction?                                                                                                        440 non-null    object \n",
      " 52  InductionInfo. Face to Face Topic:Did you undertake a Corporate Induction; Category:How it was conducted?                                                      555 non-null    object \n",
      " 53  InductionInfo. On-line Topic:Did you undertake a Corporate Induction; Category:How it was conducted?                                                           555 non-null    object \n",
      " 54  InductionInfo. Induction Manual Topic:Did you undertake a Corporate Induction?                                                                                 555 non-null    object \n",
      " 55  InductionInfo. Face to Face Topic:Did you undertake a Institute Induction?                                                                                     530 non-null    object \n",
      " 56  InductionInfo. On-line Topic:Did you undertake a Institute Induction?                                                                                          555 non-null    object \n",
      " 57  InductionInfo. Induction Manual Topic:Did you undertake a Institute Induction?                                                                                 553 non-null    object \n",
      " 58  InductionInfo. Face to Face Topic: Did you undertake Team Induction; Category?                                                                                 555 non-null    object \n",
      " 59  InductionInfo. On-line Topic: Did you undertake Team Induction?process you undertook and how it was conducted.]                                                555 non-null    object \n",
      " 60  InductionInfo. Induction Manual Topic: Did you undertake Team Induction?                                                                                       555 non-null    object \n",
      " 61  Workplace. Topic:Did you and your Manager develop a Performance and Professional Development Plan (PPDP)?                                                      608 non-null    object \n",
      " 62  Workplace. Topic:Does your workplace promote a work culture free from all forms of unlawful discrimination?                                                    594 non-null    object \n",
      " 63  Workplace. Topic:Does your workplace promote and practice the principles of employment equity?                                                                 587 non-null    object \n",
      " 64  Workplace. Topic:Does your workplace value the diversity of its employees?                                                                                     586 non-null    object \n",
      " 65  Workplace. Topic:Would you recommend the Institute as an employer to others?                                                                                   581 non-null    object \n",
      " 66  Gender. What is your Gender?                                                                                                                                   596 non-null    object \n",
      " 67  CurrentAge. Current Age                                                                                                                                        596 non-null    object \n",
      " 68  Employment Type. Employment Type                                                                                                                               596 non-null    object \n",
      " 69  Classification. Classification                                                                                                                                 596 non-null    object \n",
      " 70  LengthofServiceOverall. Overall Length of Service at Institute (in years)                                                                                      596 non-null    object \n",
      " 71  LengthofServiceCurrent. Length of Service at current workplace (in years)                                                                                      596 non-null    object \n",
      "dtypes: float64(2), object(70)\n",
      "memory usage: 395.0+ KB\n"
     ]
    }
   ],
   "metadata": {
    "scrolled": true
   }
  },
  {
   "cell_type": "code",
   "execution_count": 88,
   "source": [
    "# quick look at the dataset\n",
    "tafe_survey.head()"
   ],
   "outputs": [
    {
     "output_type": "execute_result",
     "data": {
      "text/html": [
       "<div>\n",
       "<style scoped>\n",
       "    .dataframe tbody tr th:only-of-type {\n",
       "        vertical-align: middle;\n",
       "    }\n",
       "\n",
       "    .dataframe tbody tr th {\n",
       "        vertical-align: top;\n",
       "    }\n",
       "\n",
       "    .dataframe thead th {\n",
       "        text-align: right;\n",
       "    }\n",
       "</style>\n",
       "<table border=\"1\" class=\"dataframe\">\n",
       "  <thead>\n",
       "    <tr style=\"text-align: right;\">\n",
       "      <th></th>\n",
       "      <th>Record ID</th>\n",
       "      <th>Institute</th>\n",
       "      <th>WorkArea</th>\n",
       "      <th>CESSATION YEAR</th>\n",
       "      <th>Reason for ceasing employment</th>\n",
       "      <th>Contributing Factors. Career Move - Public Sector</th>\n",
       "      <th>Contributing Factors. Career Move - Private Sector</th>\n",
       "      <th>Contributing Factors. Career Move - Self-employment</th>\n",
       "      <th>Contributing Factors. Ill Health</th>\n",
       "      <th>Contributing Factors. Maternity/Family</th>\n",
       "      <th>...</th>\n",
       "      <th>Workplace. Topic:Does your workplace promote a work culture free from all forms of unlawful discrimination?</th>\n",
       "      <th>Workplace. Topic:Does your workplace promote and practice the principles of employment equity?</th>\n",
       "      <th>Workplace. Topic:Does your workplace value the diversity of its employees?</th>\n",
       "      <th>Workplace. Topic:Would you recommend the Institute as an employer to others?</th>\n",
       "      <th>Gender. What is your Gender?</th>\n",
       "      <th>CurrentAge. Current Age</th>\n",
       "      <th>Employment Type. Employment Type</th>\n",
       "      <th>Classification. Classification</th>\n",
       "      <th>LengthofServiceOverall. Overall Length of Service at Institute (in years)</th>\n",
       "      <th>LengthofServiceCurrent. Length of Service at current workplace (in years)</th>\n",
       "    </tr>\n",
       "  </thead>\n",
       "  <tbody>\n",
       "    <tr>\n",
       "      <th>0</th>\n",
       "      <td>6.341330e+17</td>\n",
       "      <td>Southern Queensland Institute of TAFE</td>\n",
       "      <td>Non-Delivery (corporate)</td>\n",
       "      <td>2010.0</td>\n",
       "      <td>Contract Expired</td>\n",
       "      <td>NaN</td>\n",
       "      <td>NaN</td>\n",
       "      <td>NaN</td>\n",
       "      <td>NaN</td>\n",
       "      <td>NaN</td>\n",
       "      <td>...</td>\n",
       "      <td>Yes</td>\n",
       "      <td>Yes</td>\n",
       "      <td>Yes</td>\n",
       "      <td>Yes</td>\n",
       "      <td>Female</td>\n",
       "      <td>26  30</td>\n",
       "      <td>Temporary Full-time</td>\n",
       "      <td>Administration (AO)</td>\n",
       "      <td>1-2</td>\n",
       "      <td>1-2</td>\n",
       "    </tr>\n",
       "    <tr>\n",
       "      <th>1</th>\n",
       "      <td>6.341337e+17</td>\n",
       "      <td>Mount Isa Institute of TAFE</td>\n",
       "      <td>Non-Delivery (corporate)</td>\n",
       "      <td>2010.0</td>\n",
       "      <td>Retirement</td>\n",
       "      <td>-</td>\n",
       "      <td>-</td>\n",
       "      <td>-</td>\n",
       "      <td>-</td>\n",
       "      <td>-</td>\n",
       "      <td>...</td>\n",
       "      <td>Yes</td>\n",
       "      <td>Yes</td>\n",
       "      <td>Yes</td>\n",
       "      <td>Yes</td>\n",
       "      <td>NaN</td>\n",
       "      <td>NaN</td>\n",
       "      <td>NaN</td>\n",
       "      <td>NaN</td>\n",
       "      <td>NaN</td>\n",
       "      <td>NaN</td>\n",
       "    </tr>\n",
       "    <tr>\n",
       "      <th>2</th>\n",
       "      <td>6.341388e+17</td>\n",
       "      <td>Mount Isa Institute of TAFE</td>\n",
       "      <td>Delivery (teaching)</td>\n",
       "      <td>2010.0</td>\n",
       "      <td>Retirement</td>\n",
       "      <td>-</td>\n",
       "      <td>-</td>\n",
       "      <td>-</td>\n",
       "      <td>-</td>\n",
       "      <td>-</td>\n",
       "      <td>...</td>\n",
       "      <td>Yes</td>\n",
       "      <td>Yes</td>\n",
       "      <td>Yes</td>\n",
       "      <td>Yes</td>\n",
       "      <td>NaN</td>\n",
       "      <td>NaN</td>\n",
       "      <td>NaN</td>\n",
       "      <td>NaN</td>\n",
       "      <td>NaN</td>\n",
       "      <td>NaN</td>\n",
       "    </tr>\n",
       "    <tr>\n",
       "      <th>3</th>\n",
       "      <td>6.341399e+17</td>\n",
       "      <td>Mount Isa Institute of TAFE</td>\n",
       "      <td>Non-Delivery (corporate)</td>\n",
       "      <td>2010.0</td>\n",
       "      <td>Resignation</td>\n",
       "      <td>-</td>\n",
       "      <td>-</td>\n",
       "      <td>-</td>\n",
       "      <td>-</td>\n",
       "      <td>-</td>\n",
       "      <td>...</td>\n",
       "      <td>Yes</td>\n",
       "      <td>Yes</td>\n",
       "      <td>Yes</td>\n",
       "      <td>Yes</td>\n",
       "      <td>NaN</td>\n",
       "      <td>NaN</td>\n",
       "      <td>NaN</td>\n",
       "      <td>NaN</td>\n",
       "      <td>NaN</td>\n",
       "      <td>NaN</td>\n",
       "    </tr>\n",
       "    <tr>\n",
       "      <th>4</th>\n",
       "      <td>6.341466e+17</td>\n",
       "      <td>Southern Queensland Institute of TAFE</td>\n",
       "      <td>Delivery (teaching)</td>\n",
       "      <td>2010.0</td>\n",
       "      <td>Resignation</td>\n",
       "      <td>-</td>\n",
       "      <td>Career Move - Private Sector</td>\n",
       "      <td>-</td>\n",
       "      <td>-</td>\n",
       "      <td>-</td>\n",
       "      <td>...</td>\n",
       "      <td>Yes</td>\n",
       "      <td>Yes</td>\n",
       "      <td>Yes</td>\n",
       "      <td>Yes</td>\n",
       "      <td>Male</td>\n",
       "      <td>41  45</td>\n",
       "      <td>Permanent Full-time</td>\n",
       "      <td>Teacher (including LVT)</td>\n",
       "      <td>3-4</td>\n",
       "      <td>3-4</td>\n",
       "    </tr>\n",
       "  </tbody>\n",
       "</table>\n",
       "<p>5 rows × 72 columns</p>\n",
       "</div>"
      ],
      "text/plain": [
       "      Record ID                              Institute  \\\n",
       "0  6.341330e+17  Southern Queensland Institute of TAFE   \n",
       "1  6.341337e+17            Mount Isa Institute of TAFE   \n",
       "2  6.341388e+17            Mount Isa Institute of TAFE   \n",
       "3  6.341399e+17            Mount Isa Institute of TAFE   \n",
       "4  6.341466e+17  Southern Queensland Institute of TAFE   \n",
       "\n",
       "                   WorkArea  CESSATION YEAR Reason for ceasing employment  \\\n",
       "0  Non-Delivery (corporate)          2010.0              Contract Expired   \n",
       "1  Non-Delivery (corporate)          2010.0                    Retirement   \n",
       "2       Delivery (teaching)          2010.0                    Retirement   \n",
       "3  Non-Delivery (corporate)          2010.0                   Resignation   \n",
       "4       Delivery (teaching)          2010.0                   Resignation   \n",
       "\n",
       "  Contributing Factors. Career Move - Public Sector   \\\n",
       "0                                                NaN   \n",
       "1                                                  -   \n",
       "2                                                  -   \n",
       "3                                                  -   \n",
       "4                                                  -   \n",
       "\n",
       "  Contributing Factors. Career Move - Private Sector   \\\n",
       "0                                                NaN    \n",
       "1                                                  -    \n",
       "2                                                  -    \n",
       "3                                                  -    \n",
       "4                       Career Move - Private Sector    \n",
       "\n",
       "  Contributing Factors. Career Move - Self-employment  \\\n",
       "0                                                NaN    \n",
       "1                                                  -    \n",
       "2                                                  -    \n",
       "3                                                  -    \n",
       "4                                                  -    \n",
       "\n",
       "  Contributing Factors. Ill Health Contributing Factors. Maternity/Family  \\\n",
       "0                              NaN                                    NaN   \n",
       "1                                -                                      -   \n",
       "2                                -                                      -   \n",
       "3                                -                                      -   \n",
       "4                                -                                      -   \n",
       "\n",
       "   ...  \\\n",
       "0  ...   \n",
       "1  ...   \n",
       "2  ...   \n",
       "3  ...   \n",
       "4  ...   \n",
       "\n",
       "  Workplace. Topic:Does your workplace promote a work culture free from all forms of unlawful discrimination?  \\\n",
       "0                                                Yes                                                            \n",
       "1                                                Yes                                                            \n",
       "2                                                Yes                                                            \n",
       "3                                                Yes                                                            \n",
       "4                                                Yes                                                            \n",
       "\n",
       "  Workplace. Topic:Does your workplace promote and practice the principles of employment equity?  \\\n",
       "0                                                Yes                                               \n",
       "1                                                Yes                                               \n",
       "2                                                Yes                                               \n",
       "3                                                Yes                                               \n",
       "4                                                Yes                                               \n",
       "\n",
       "  Workplace. Topic:Does your workplace value the diversity of its employees?  \\\n",
       "0                                                Yes                           \n",
       "1                                                Yes                           \n",
       "2                                                Yes                           \n",
       "3                                                Yes                           \n",
       "4                                                Yes                           \n",
       "\n",
       "  Workplace. Topic:Would you recommend the Institute as an employer to others?  \\\n",
       "0                                                Yes                             \n",
       "1                                                Yes                             \n",
       "2                                                Yes                             \n",
       "3                                                Yes                             \n",
       "4                                                Yes                             \n",
       "\n",
       "  Gender. What is your Gender? CurrentAge. Current Age  \\\n",
       "0                       Female                  26  30   \n",
       "1                          NaN                     NaN   \n",
       "2                          NaN                     NaN   \n",
       "3                          NaN                     NaN   \n",
       "4                         Male                  41  45   \n",
       "\n",
       "  Employment Type. Employment Type Classification. Classification  \\\n",
       "0              Temporary Full-time            Administration (AO)   \n",
       "1                              NaN                            NaN   \n",
       "2                              NaN                            NaN   \n",
       "3                              NaN                            NaN   \n",
       "4              Permanent Full-time        Teacher (including LVT)   \n",
       "\n",
       "  LengthofServiceOverall. Overall Length of Service at Institute (in years)  \\\n",
       "0                                                1-2                          \n",
       "1                                                NaN                          \n",
       "2                                                NaN                          \n",
       "3                                                NaN                          \n",
       "4                                                3-4                          \n",
       "\n",
       "  LengthofServiceCurrent. Length of Service at current workplace (in years)  \n",
       "0                                                1-2                         \n",
       "1                                                NaN                         \n",
       "2                                                NaN                         \n",
       "3                                                NaN                         \n",
       "4                                                3-4                         \n",
       "\n",
       "[5 rows x 72 columns]"
      ]
     },
     "metadata": {},
     "execution_count": 88
    }
   ],
   "metadata": {}
  },
  {
   "cell_type": "markdown",
   "source": [
    "This dataset seems to be more specific regarding the survey questions. Here almost all data is stored in strings. The data that is supposed to be boolean, is represented as sting values in the \"Yes/No Fashion\". Which is not very usefull"
   ],
   "metadata": {}
  },
  {
   "cell_type": "code",
   "execution_count": 89,
   "source": [
    "display_side_by_side(\n",
    "    [\n",
    "        tafe_survey.isnull().sum().sort_values(ascending= False).head(10).to_frame('Missing Values'), \n",
    "        tafe_survey.isnull().sum().sort_values(ascending= True).head(10).to_frame('Missing Values')\n",
    "    ], \n",
    "    ['top', 'bottom']\n",
    ")"
   ],
   "outputs": [
    {
     "output_type": "display_data",
     "data": {
      "text/html": [
       "<style  type=\"text/css\" >\n",
       "</style><table id=\"T_b2e5a_\" style='display:inline'><caption>top</caption><thead>    <tr>        <th class=\"blank level0\" ></th>        <th class=\"col_heading level0 col0\" >Missing Values</th>    </tr></thead><tbody>\n",
       "                <tr>\n",
       "                        <th id=\"T_b2e5a_level0_row0\" class=\"row_heading level0 row0\" >Main Factor. Which of these was the main factor for leaving?</th>\n",
       "                        <td id=\"T_b2e5a_row0_col0\" class=\"data row0 col0\" >589</td>\n",
       "            </tr>\n",
       "            <tr>\n",
       "                        <th id=\"T_b2e5a_level0_row1\" class=\"row_heading level0 row1\" >InductionInfo. Topic:Did you undertake a Corporate Induction?</th>\n",
       "                        <td id=\"T_b2e5a_row1_col0\" class=\"data row1 col0\" >270</td>\n",
       "            </tr>\n",
       "            <tr>\n",
       "                        <th id=\"T_b2e5a_level0_row2\" class=\"row_heading level0 row2\" >Contributing Factors. Travel</th>\n",
       "                        <td id=\"T_b2e5a_row2_col0\" class=\"data row2 col0\" >265</td>\n",
       "            </tr>\n",
       "            <tr>\n",
       "                        <th id=\"T_b2e5a_level0_row3\" class=\"row_heading level0 row3\" >Contributing Factors. Other</th>\n",
       "                        <td id=\"T_b2e5a_row3_col0\" class=\"data row3 col0\" >265</td>\n",
       "            </tr>\n",
       "            <tr>\n",
       "                        <th id=\"T_b2e5a_level0_row4\" class=\"row_heading level0 row4\" >Contributing Factors. Career Move - Public Sector </th>\n",
       "                        <td id=\"T_b2e5a_row4_col0\" class=\"data row4 col0\" >265</td>\n",
       "            </tr>\n",
       "            <tr>\n",
       "                        <th id=\"T_b2e5a_level0_row5\" class=\"row_heading level0 row5\" >Contributing Factors. Career Move - Private Sector </th>\n",
       "                        <td id=\"T_b2e5a_row5_col0\" class=\"data row5 col0\" >265</td>\n",
       "            </tr>\n",
       "            <tr>\n",
       "                        <th id=\"T_b2e5a_level0_row6\" class=\"row_heading level0 row6\" >Contributing Factors. Career Move - Self-employment</th>\n",
       "                        <td id=\"T_b2e5a_row6_col0\" class=\"data row6 col0\" >265</td>\n",
       "            </tr>\n",
       "            <tr>\n",
       "                        <th id=\"T_b2e5a_level0_row7\" class=\"row_heading level0 row7\" >Contributing Factors. Ill Health</th>\n",
       "                        <td id=\"T_b2e5a_row7_col0\" class=\"data row7 col0\" >265</td>\n",
       "            </tr>\n",
       "            <tr>\n",
       "                        <th id=\"T_b2e5a_level0_row8\" class=\"row_heading level0 row8\" >Contributing Factors. Maternity/Family</th>\n",
       "                        <td id=\"T_b2e5a_row8_col0\" class=\"data row8 col0\" >265</td>\n",
       "            </tr>\n",
       "            <tr>\n",
       "                        <th id=\"T_b2e5a_level0_row9\" class=\"row_heading level0 row9\" >Contributing Factors. Dissatisfaction</th>\n",
       "                        <td id=\"T_b2e5a_row9_col0\" class=\"data row9 col0\" >265</td>\n",
       "            </tr>\n",
       "    </tbody></table>     <style  type=\"text/css\" >\n",
       "</style><table id=\"T_0a22c_\" style='display:inline'><caption>bottom</caption><thead>    <tr>        <th class=\"blank level0\" ></th>        <th class=\"col_heading level0 col0\" >Missing Values</th>    </tr></thead><tbody>\n",
       "                <tr>\n",
       "                        <th id=\"T_0a22c_level0_row0\" class=\"row_heading level0 row0\" >Record ID</th>\n",
       "                        <td id=\"T_0a22c_row0_col0\" class=\"data row0 col0\" >0</td>\n",
       "            </tr>\n",
       "            <tr>\n",
       "                        <th id=\"T_0a22c_level0_row1\" class=\"row_heading level0 row1\" >Institute</th>\n",
       "                        <td id=\"T_0a22c_row1_col0\" class=\"data row1 col0\" >0</td>\n",
       "            </tr>\n",
       "            <tr>\n",
       "                        <th id=\"T_0a22c_level0_row2\" class=\"row_heading level0 row2\" >WorkArea</th>\n",
       "                        <td id=\"T_0a22c_row2_col0\" class=\"data row2 col0\" >0</td>\n",
       "            </tr>\n",
       "            <tr>\n",
       "                        <th id=\"T_0a22c_level0_row3\" class=\"row_heading level0 row3\" >Reason for ceasing employment</th>\n",
       "                        <td id=\"T_0a22c_row3_col0\" class=\"data row3 col0\" >1</td>\n",
       "            </tr>\n",
       "            <tr>\n",
       "                        <th id=\"T_0a22c_level0_row4\" class=\"row_heading level0 row4\" >CESSATION YEAR</th>\n",
       "                        <td id=\"T_0a22c_row4_col0\" class=\"data row4 col0\" >7</td>\n",
       "            </tr>\n",
       "            <tr>\n",
       "                        <th id=\"T_0a22c_level0_row5\" class=\"row_heading level0 row5\" >Induction. Did you undertake Workplace Induction?</th>\n",
       "                        <td id=\"T_0a22c_row5_col0\" class=\"data row5 col0\" >83</td>\n",
       "            </tr>\n",
       "            <tr>\n",
       "                        <th id=\"T_0a22c_level0_row6\" class=\"row_heading level0 row6\" >InstituteViews. Topic:5. I felt the salary for the job was right for the responsibilities I had</th>\n",
       "                        <td id=\"T_0a22c_row6_col0\" class=\"data row6 col0\" >87</td>\n",
       "            </tr>\n",
       "            <tr>\n",
       "                        <th id=\"T_0a22c_level0_row7\" class=\"row_heading level0 row7\" >InstituteViews. Topic:7. Management was generally supportive of me</th>\n",
       "                        <td id=\"T_0a22c_row7_col0\" class=\"data row7 col0\" >88</td>\n",
       "            </tr>\n",
       "            <tr>\n",
       "                        <th id=\"T_0a22c_level0_row8\" class=\"row_heading level0 row8\" >InstituteViews. Topic:2. I was given access to skills training to help me do my job better</th>\n",
       "                        <td id=\"T_0a22c_row8_col0\" class=\"data row8 col0\" >89</td>\n",
       "            </tr>\n",
       "            <tr>\n",
       "                        <th id=\"T_0a22c_level0_row9\" class=\"row_heading level0 row9\" >WorkUnitViews. Topic:18. I had sufficient contact with other people in my job</th>\n",
       "                        <td id=\"T_0a22c_row9_col0\" class=\"data row9 col0\" >89</td>\n",
       "            </tr>\n",
       "    </tbody></table>     "
      ],
      "text/plain": [
       "<IPython.core.display.HTML object>"
      ]
     },
     "metadata": {}
    }
   ],
   "metadata": {}
  },
  {
   "cell_type": "markdown",
   "source": [
    "The TAFE survey seem to have more missing data, and seems more unstructured. Handling of missing values is often represented by a NAN or just a \"-\". But categorical data seems to have a constant format at least, see the Contributing Factors columns."
   ],
   "metadata": {}
  },
  {
   "cell_type": "markdown",
   "source": [
    "## Handling with missing data and reducing the dataset dimension to a relevant number of columns\n",
    "\n",
    "+ The DETE survey dataframe contains 'Not Stated' values that indicate values are missing, but they aren't represented as NaN. The same happens for the TAFE survey with the '-' values. For this we will re-read the dataset but by specifying how some values may be transformed to NaN.\n",
    "+ There are also some columns that may not be relevant for the analysis.\n"
   ],
   "metadata": {}
  },
  {
   "cell_type": "code",
   "execution_count": 90,
   "source": [
    "dete_survey = pd.read_csv(\"dete_survey.csv\", na_values = \"Not Stated\") # Convert Not Stated to NaN"
   ],
   "outputs": [],
   "metadata": {}
  },
  {
   "cell_type": "code",
   "execution_count": 91,
   "source": [
    "dete_survey_updated = dete_survey.drop(dete_survey.columns[28:49], axis=1).copy()\n",
    "# Drop columns that are not very relevant for the analysis"
   ],
   "outputs": [],
   "metadata": {}
  },
  {
   "cell_type": "code",
   "execution_count": 92,
   "source": [
    "dete_survey.columns[28:49] # Removed Columns for DETE"
   ],
   "outputs": [
    {
     "output_type": "execute_result",
     "data": {
      "text/plain": [
       "Index(['Professional Development', 'Opportunities for promotion',\n",
       "       'Staff morale', 'Workplace issue', 'Physical environment',\n",
       "       'Worklife balance', 'Stress and pressure support',\n",
       "       'Performance of supervisor', 'Peer support', 'Initiative', 'Skills',\n",
       "       'Coach', 'Career Aspirations', 'Feedback', 'Further PD',\n",
       "       'Communication', 'My say', 'Information', 'Kept informed',\n",
       "       'Wellness programs', 'Health & Safety'],\n",
       "      dtype='object')"
      ]
     },
     "metadata": {},
     "execution_count": 92
    }
   ],
   "metadata": {}
  },
  {
   "cell_type": "markdown",
   "source": [
    "For the DETE Dataset there are some columns that do not help us realize directly why the employee resigned. They still might be important and have any kind of influence, but this is harder to measure. Therefore, we choose those factors that are directly related with dissatisfaction in the workplace."
   ],
   "metadata": {}
  },
  {
   "cell_type": "code",
   "execution_count": 93,
   "source": [
    "dete_survey_updated.columns # Kept columns for DETE"
   ],
   "outputs": [
    {
     "output_type": "execute_result",
     "data": {
      "text/plain": [
       "Index(['ID', 'SeparationType', 'Cease Date', 'DETE Start Date',\n",
       "       'Role Start Date', 'Position', 'Classification', 'Region',\n",
       "       'Business Unit', 'Employment Status', 'Career move to public sector',\n",
       "       'Career move to private sector', 'Interpersonal conflicts',\n",
       "       'Job dissatisfaction', 'Dissatisfaction with the department',\n",
       "       'Physical work environment', 'Lack of recognition',\n",
       "       'Lack of job security', 'Work location', 'Employment conditions',\n",
       "       'Maternity/family', 'Relocation', 'Study/Travel', 'Ill Health',\n",
       "       'Traumatic incident', 'Work life balance', 'Workload',\n",
       "       'None of the above', 'Gender', 'Age', 'Aboriginal', 'Torres Strait',\n",
       "       'South Sea', 'Disability', 'NESB'],\n",
       "      dtype='object')"
      ]
     },
     "metadata": {},
     "execution_count": 93
    }
   ],
   "metadata": {}
  },
  {
   "cell_type": "code",
   "execution_count": 94,
   "source": [
    "tafe_survey_updated = tafe_survey.drop(tafe_survey.columns[17:66], axis=1).copy()\n",
    "# Drop columns that are not very relevant for the analysis"
   ],
   "outputs": [],
   "metadata": {}
  },
  {
   "cell_type": "code",
   "execution_count": 95,
   "source": [
    "tafe_survey.columns[17:66] # Removed Columns for TAFE"
   ],
   "outputs": [
    {
     "output_type": "execute_result",
     "data": {
      "text/plain": [
       "Index(['Main Factor. Which of these was the main factor for leaving?',\n",
       "       'InstituteViews. Topic:1. I feel the senior leadership had a clear vision and direction',\n",
       "       'InstituteViews. Topic:2. I was given access to skills training to help me do my job better',\n",
       "       'InstituteViews. Topic:3. I was given adequate opportunities for personal development',\n",
       "       'InstituteViews. Topic:4. I was given adequate opportunities for promotion within %Institute]Q25LBL%',\n",
       "       'InstituteViews. Topic:5. I felt the salary for the job was right for the responsibilities I had',\n",
       "       'InstituteViews. Topic:6. The organisation recognised when staff did good work',\n",
       "       'InstituteViews. Topic:7. Management was generally supportive of me',\n",
       "       'InstituteViews. Topic:8. Management was generally supportive of my team',\n",
       "       'InstituteViews. Topic:9. I was kept informed of the changes in the organisation which would affect me',\n",
       "       'InstituteViews. Topic:10. Staff morale was positive within the Institute',\n",
       "       'InstituteViews. Topic:11. If I had a workplace issue it was dealt with quickly',\n",
       "       'InstituteViews. Topic:12. If I had a workplace issue it was dealt with efficiently',\n",
       "       'InstituteViews. Topic:13. If I had a workplace issue it was dealt with discreetly',\n",
       "       'WorkUnitViews. Topic:14. I was satisfied with the quality of the management and supervision within my work unit',\n",
       "       'WorkUnitViews. Topic:15. I worked well with my colleagues',\n",
       "       'WorkUnitViews. Topic:16. My job was challenging and interesting',\n",
       "       'WorkUnitViews. Topic:17. I was encouraged to use my initiative in the course of my work',\n",
       "       'WorkUnitViews. Topic:18. I had sufficient contact with other people in my job',\n",
       "       'WorkUnitViews. Topic:19. I was given adequate support and co-operation by my peers to enable me to do my job',\n",
       "       'WorkUnitViews. Topic:20. I was able to use the full range of my skills in my job',\n",
       "       'WorkUnitViews. Topic:21. I was able to use the full range of my abilities in my job. ; Category:Level of Agreement; Question:YOUR VIEWS ABOUT YOUR WORK UNIT]',\n",
       "       'WorkUnitViews. Topic:22. I was able to use the full range of my knowledge in my job',\n",
       "       'WorkUnitViews. Topic:23. My job provided sufficient variety',\n",
       "       'WorkUnitViews. Topic:24. I was able to cope with the level of stress and pressure in my job',\n",
       "       'WorkUnitViews. Topic:25. My job allowed me to balance the demands of work and family to my satisfaction',\n",
       "       'WorkUnitViews. Topic:26. My supervisor gave me adequate personal recognition and feedback on my performance',\n",
       "       'WorkUnitViews. Topic:27. My working environment was satisfactory e.g. sufficient space, good lighting, suitable seating and working area',\n",
       "       'WorkUnitViews. Topic:28. I was given the opportunity to mentor and coach others in order for me to pass on my skills and knowledge prior to my cessation date',\n",
       "       'WorkUnitViews. Topic:29. There was adequate communication between staff in my unit',\n",
       "       'WorkUnitViews. Topic:30. Staff morale was positive within my work unit',\n",
       "       'Induction. Did you undertake Workplace Induction?',\n",
       "       'InductionInfo. Topic:Did you undertake a Corporate Induction?',\n",
       "       'InductionInfo. Topic:Did you undertake a Institute Induction?',\n",
       "       'InductionInfo. Topic: Did you undertake Team Induction?',\n",
       "       'InductionInfo. Face to Face Topic:Did you undertake a Corporate Induction; Category:How it was conducted?',\n",
       "       'InductionInfo. On-line Topic:Did you undertake a Corporate Induction; Category:How it was conducted?',\n",
       "       'InductionInfo. Induction Manual Topic:Did you undertake a Corporate Induction?',\n",
       "       'InductionInfo. Face to Face Topic:Did you undertake a Institute Induction?',\n",
       "       'InductionInfo. On-line Topic:Did you undertake a Institute Induction?',\n",
       "       'InductionInfo. Induction Manual Topic:Did you undertake a Institute Induction?',\n",
       "       'InductionInfo. Face to Face Topic: Did you undertake Team Induction; Category?',\n",
       "       'InductionInfo. On-line Topic: Did you undertake Team Induction?process you undertook and how it was conducted.]',\n",
       "       'InductionInfo. Induction Manual Topic: Did you undertake Team Induction?',\n",
       "       'Workplace. Topic:Did you and your Manager develop a Performance and Professional Development Plan (PPDP)?',\n",
       "       'Workplace. Topic:Does your workplace promote a work culture free from all forms of unlawful discrimination?',\n",
       "       'Workplace. Topic:Does your workplace promote and practice the principles of employment equity?',\n",
       "       'Workplace. Topic:Does your workplace value the diversity of its employees?',\n",
       "       'Workplace. Topic:Would you recommend the Institute as an employer to others?'],\n",
       "      dtype='object')"
      ]
     },
     "metadata": {},
     "execution_count": 95
    }
   ],
   "metadata": {
    "scrolled": true
   }
  },
  {
   "cell_type": "markdown",
   "source": [
    "+ For the TAFE dataset we can do the same and see that there are a lot of columns which seem to be very subjective for the analysis. Here we also choose those that have mor clear information that led to a resignation."
   ],
   "metadata": {}
  },
  {
   "cell_type": "code",
   "execution_count": 96,
   "source": [
    "tafe_survey_updated.columns# Kept Columns for TAFE"
   ],
   "outputs": [
    {
     "output_type": "execute_result",
     "data": {
      "text/plain": [
       "Index(['Record ID', 'Institute', 'WorkArea', 'CESSATION YEAR',\n",
       "       'Reason for ceasing employment',\n",
       "       'Contributing Factors. Career Move - Public Sector ',\n",
       "       'Contributing Factors. Career Move - Private Sector ',\n",
       "       'Contributing Factors. Career Move - Self-employment',\n",
       "       'Contributing Factors. Ill Health',\n",
       "       'Contributing Factors. Maternity/Family',\n",
       "       'Contributing Factors. Dissatisfaction',\n",
       "       'Contributing Factors. Job Dissatisfaction',\n",
       "       'Contributing Factors. Interpersonal Conflict',\n",
       "       'Contributing Factors. Study', 'Contributing Factors. Travel',\n",
       "       'Contributing Factors. Other', 'Contributing Factors. NONE',\n",
       "       'Gender. What is your Gender?', 'CurrentAge. Current Age',\n",
       "       'Employment Type. Employment Type', 'Classification. Classification',\n",
       "       'LengthofServiceOverall. Overall Length of Service at Institute (in years)',\n",
       "       'LengthofServiceCurrent. Length of Service at current workplace (in years)'],\n",
       "      dtype='object')"
      ]
     },
     "metadata": {},
     "execution_count": 96
    }
   ],
   "metadata": {}
  },
  {
   "cell_type": "markdown",
   "source": [
    "## Clean Column Names\n",
    "\n",
    "There are some columns that have the same purpose between both datasets, but very different names. In order to merge this later on more easily we need to standardize the names of both.\n",
    "\n",
    "\n",
    "\n",
    "\n",
    "\n",
    "\n",
    "\n",
    "\n",
    "| dete_survey     | tafe_survey                                                             | Definition                                              |\n",
    "|-----------------|-------------------------------------------------------------------------|---------------------------------------------------------|\n",
    "| ID              | Record ID                                                               | An id used to identify the participant of the survey    |\n",
    "| SeparationType  | Reason for ceasingemployment                                            | The reason why the participant's employment ended       |\n",
    "| Cease Date      | CESSATION YEAR                                                          | The year or month the participant's employment ended    |\n",
    "| DETE Start Date |                                                                         | The year the participant began employment with the DETE |\n",
    "|                 | LengthofServiceOverall.Overall Length of Serviceat Institute (in years) | The length of the person's employment (in years)        |\n",
    "| Age             | CurrentAge.Current Age                                                  | The age of the participant                              |\n",
    "| Gender          | Gender.What is your Gender?                                             | The gender of the participant                           |"
   ],
   "metadata": {}
  },
  {
   "cell_type": "markdown",
   "source": [
    "For the **DETE** dataset the columns names are quite good, and we can just format them to be more consistent, by using the `Series.str` accessor over the `DataFrame.columns` Series object."
   ],
   "metadata": {}
  },
  {
   "cell_type": "code",
   "execution_count": 97,
   "source": [
    "dete_survey_updated.columns = dete_survey_updated.columns.str.replace(' ', '_').str.lower().str.strip()"
   ],
   "outputs": [],
   "metadata": {}
  },
  {
   "cell_type": "code",
   "execution_count": 98,
   "source": [
    "dete_survey_updated.columns # New DETE column names"
   ],
   "outputs": [
    {
     "output_type": "execute_result",
     "data": {
      "text/plain": [
       "Index(['id', 'separationtype', 'cease_date', 'dete_start_date',\n",
       "       'role_start_date', 'position', 'classification', 'region',\n",
       "       'business_unit', 'employment_status', 'career_move_to_public_sector',\n",
       "       'career_move_to_private_sector', 'interpersonal_conflicts',\n",
       "       'job_dissatisfaction', 'dissatisfaction_with_the_department',\n",
       "       'physical_work_environment', 'lack_of_recognition',\n",
       "       'lack_of_job_security', 'work_location', 'employment_conditions',\n",
       "       'maternity/family', 'relocation', 'study/travel', 'ill_health',\n",
       "       'traumatic_incident', 'work_life_balance', 'workload',\n",
       "       'none_of_the_above', 'gender', 'age', 'aboriginal', 'torres_strait',\n",
       "       'south_sea', 'disability', 'nesb'],\n",
       "      dtype='object')"
      ]
     },
     "metadata": {},
     "execution_count": 98
    }
   ],
   "metadata": {}
  },
  {
   "cell_type": "markdown",
   "source": [
    "Since I decided that the **DETE** dataset columns names are going to be the standard ones, we need to rename the **TAFE** columns according to these. Here the `DataFrame.rename()` method works better for an explicit mapping of the new names over the old names. We create a mapping dictionary to make the function more readable"
   ],
   "metadata": {}
  },
  {
   "cell_type": "code",
   "execution_count": 99,
   "source": [
    "mapping_dic = {'Record ID': 'id',\n",
    "               'CESSATION YEAR': 'cease_date',\n",
    "               'Reason for ceasing employment': 'separationtype',\n",
    "               'Gender. What is your Gender?': 'gender',\n",
    "               'CurrentAge. Current Age': 'age',\n",
    "               'Employment Type. Employment Type': 'employment_status',\n",
    "               'Classification. Classification': 'position', \n",
    "               'LengthofServiceOverall. Overall Length of Service at Institute (in years)': 'institute_service',\n",
    "               'LengthofServiceCurrent. Length of Service at current workplace (in years)': 'role_service'}\n",
    "                # Mapping dictionary, can be extended... \n",
    "\n",
    "tafe_survey_updated = tafe_survey_updated.rename(mapper=mapping_dic,axis=1)"
   ],
   "outputs": [],
   "metadata": {}
  },
  {
   "cell_type": "code",
   "execution_count": 100,
   "source": [
    "tafe_survey_updated.columns # New TAFE column names"
   ],
   "outputs": [
    {
     "output_type": "execute_result",
     "data": {
      "text/plain": [
       "Index(['id', 'Institute', 'WorkArea', 'cease_date', 'separationtype',\n",
       "       'Contributing Factors. Career Move - Public Sector ',\n",
       "       'Contributing Factors. Career Move - Private Sector ',\n",
       "       'Contributing Factors. Career Move - Self-employment',\n",
       "       'Contributing Factors. Ill Health',\n",
       "       'Contributing Factors. Maternity/Family',\n",
       "       'Contributing Factors. Dissatisfaction',\n",
       "       'Contributing Factors. Job Dissatisfaction',\n",
       "       'Contributing Factors. Interpersonal Conflict',\n",
       "       'Contributing Factors. Study', 'Contributing Factors. Travel',\n",
       "       'Contributing Factors. Other', 'Contributing Factors. NONE', 'gender',\n",
       "       'age', 'employment_status', 'position', 'institute_service',\n",
       "       'role_service'],\n",
       "      dtype='object')"
      ]
     },
     "metadata": {},
     "execution_count": 100
    }
   ],
   "metadata": {}
  },
  {
   "cell_type": "markdown",
   "source": [
    "## Filtering the data\n",
    "\n",
    "Are employees who have only worked for the institutes for a short period of time resigning due to some kind of dissatisfaction? What about employees who have been at the job longer?\n",
    "\n",
    "This is our main question to answer so therefore we will be interested only on those employees that resigned, on the `separationtype` column. That is our 1st Filter criteria."
   ],
   "metadata": {}
  },
  {
   "cell_type": "code",
   "execution_count": 101,
   "source": [
    "display_side_by_side(\n",
    "    [\n",
    "        dete_survey_updated[\"separationtype\"].value_counts().to_frame('Frecuency'), \n",
    "        tafe_survey_updated[\"separationtype\"].value_counts().to_frame('Frecuency')\n",
    "    ], \n",
    "    ['DETE', 'TAFE']\n",
    ")"
   ],
   "outputs": [
    {
     "output_type": "display_data",
     "data": {
      "text/html": [
       "<style  type=\"text/css\" >\n",
       "</style><table id=\"T_0c659_\" style='display:inline'><caption>DETE</caption><thead>    <tr>        <th class=\"blank level0\" ></th>        <th class=\"col_heading level0 col0\" >Frecuency</th>    </tr></thead><tbody>\n",
       "                <tr>\n",
       "                        <th id=\"T_0c659_level0_row0\" class=\"row_heading level0 row0\" >Age Retirement</th>\n",
       "                        <td id=\"T_0c659_row0_col0\" class=\"data row0 col0\" >285</td>\n",
       "            </tr>\n",
       "            <tr>\n",
       "                        <th id=\"T_0c659_level0_row1\" class=\"row_heading level0 row1\" >Resignation-Other reasons</th>\n",
       "                        <td id=\"T_0c659_row1_col0\" class=\"data row1 col0\" >150</td>\n",
       "            </tr>\n",
       "            <tr>\n",
       "                        <th id=\"T_0c659_level0_row2\" class=\"row_heading level0 row2\" >Resignation-Other employer</th>\n",
       "                        <td id=\"T_0c659_row2_col0\" class=\"data row2 col0\" >91</td>\n",
       "            </tr>\n",
       "            <tr>\n",
       "                        <th id=\"T_0c659_level0_row3\" class=\"row_heading level0 row3\" >Resignation-Move overseas/interstate</th>\n",
       "                        <td id=\"T_0c659_row3_col0\" class=\"data row3 col0\" >70</td>\n",
       "            </tr>\n",
       "            <tr>\n",
       "                        <th id=\"T_0c659_level0_row4\" class=\"row_heading level0 row4\" >Voluntary Early Retirement (VER)</th>\n",
       "                        <td id=\"T_0c659_row4_col0\" class=\"data row4 col0\" >67</td>\n",
       "            </tr>\n",
       "            <tr>\n",
       "                        <th id=\"T_0c659_level0_row5\" class=\"row_heading level0 row5\" >Ill Health Retirement</th>\n",
       "                        <td id=\"T_0c659_row5_col0\" class=\"data row5 col0\" >61</td>\n",
       "            </tr>\n",
       "            <tr>\n",
       "                        <th id=\"T_0c659_level0_row6\" class=\"row_heading level0 row6\" >Other</th>\n",
       "                        <td id=\"T_0c659_row6_col0\" class=\"data row6 col0\" >49</td>\n",
       "            </tr>\n",
       "            <tr>\n",
       "                        <th id=\"T_0c659_level0_row7\" class=\"row_heading level0 row7\" >Contract Expired</th>\n",
       "                        <td id=\"T_0c659_row7_col0\" class=\"data row7 col0\" >34</td>\n",
       "            </tr>\n",
       "            <tr>\n",
       "                        <th id=\"T_0c659_level0_row8\" class=\"row_heading level0 row8\" >Termination</th>\n",
       "                        <td id=\"T_0c659_row8_col0\" class=\"data row8 col0\" >15</td>\n",
       "            </tr>\n",
       "    </tbody></table>     <style  type=\"text/css\" >\n",
       "</style><table id=\"T_d60f5_\" style='display:inline'><caption>TAFE</caption><thead>    <tr>        <th class=\"blank level0\" ></th>        <th class=\"col_heading level0 col0\" >Frecuency</th>    </tr></thead><tbody>\n",
       "                <tr>\n",
       "                        <th id=\"T_d60f5_level0_row0\" class=\"row_heading level0 row0\" >Resignation</th>\n",
       "                        <td id=\"T_d60f5_row0_col0\" class=\"data row0 col0\" >340</td>\n",
       "            </tr>\n",
       "            <tr>\n",
       "                        <th id=\"T_d60f5_level0_row1\" class=\"row_heading level0 row1\" >Contract Expired</th>\n",
       "                        <td id=\"T_d60f5_row1_col0\" class=\"data row1 col0\" >127</td>\n",
       "            </tr>\n",
       "            <tr>\n",
       "                        <th id=\"T_d60f5_level0_row2\" class=\"row_heading level0 row2\" >Retrenchment/ Redundancy</th>\n",
       "                        <td id=\"T_d60f5_row2_col0\" class=\"data row2 col0\" >104</td>\n",
       "            </tr>\n",
       "            <tr>\n",
       "                        <th id=\"T_d60f5_level0_row3\" class=\"row_heading level0 row3\" >Retirement</th>\n",
       "                        <td id=\"T_d60f5_row3_col0\" class=\"data row3 col0\" >82</td>\n",
       "            </tr>\n",
       "            <tr>\n",
       "                        <th id=\"T_d60f5_level0_row4\" class=\"row_heading level0 row4\" >Transfer</th>\n",
       "                        <td id=\"T_d60f5_row4_col0\" class=\"data row4 col0\" >25</td>\n",
       "            </tr>\n",
       "            <tr>\n",
       "                        <th id=\"T_d60f5_level0_row5\" class=\"row_heading level0 row5\" >Termination</th>\n",
       "                        <td id=\"T_d60f5_row5_col0\" class=\"data row5 col0\" >23</td>\n",
       "            </tr>\n",
       "    </tbody></table>     "
      ],
      "text/plain": [
       "<IPython.core.display.HTML object>"
      ]
     },
     "metadata": {}
    }
   ],
   "metadata": {}
  },
  {
   "cell_type": "markdown",
   "source": [
    "Looking at both datasets, we see that some fields in the DETE dataset can be combined E.g. the Resignation variable is specified further. In order to consolidate these to just Resignation, these variables have to be modified. This can be achieved with the `.str.split` accessor-method on the `-`character and pulling the first element in the resulting list, which is the word `Resignation`. "
   ],
   "metadata": {}
  },
  {
   "cell_type": "code",
   "execution_count": 102,
   "source": [
    "dete_survey_updated['separationtype'] = dete_survey_updated['separationtype'].str.split('-').str[0]\n",
    "\n",
    "# Check the values in the separationtype column were updated correctly\n",
    "display_side_by_side(\n",
    "    [\n",
    "        dete_survey_updated[\"separationtype\"].value_counts().to_frame('Frecuency'), \n",
    "        tafe_survey_updated[\"separationtype\"].value_counts().to_frame('Frecuency')\n",
    "    ], \n",
    "    ['DETE', 'TAFE']\n",
    ")"
   ],
   "outputs": [
    {
     "output_type": "display_data",
     "data": {
      "text/html": [
       "<style  type=\"text/css\" >\n",
       "</style><table id=\"T_116c6_\" style='display:inline'><caption>DETE</caption><thead>    <tr>        <th class=\"blank level0\" ></th>        <th class=\"col_heading level0 col0\" >Frecuency</th>    </tr></thead><tbody>\n",
       "                <tr>\n",
       "                        <th id=\"T_116c6_level0_row0\" class=\"row_heading level0 row0\" >Resignation</th>\n",
       "                        <td id=\"T_116c6_row0_col0\" class=\"data row0 col0\" >311</td>\n",
       "            </tr>\n",
       "            <tr>\n",
       "                        <th id=\"T_116c6_level0_row1\" class=\"row_heading level0 row1\" >Age Retirement</th>\n",
       "                        <td id=\"T_116c6_row1_col0\" class=\"data row1 col0\" >285</td>\n",
       "            </tr>\n",
       "            <tr>\n",
       "                        <th id=\"T_116c6_level0_row2\" class=\"row_heading level0 row2\" >Voluntary Early Retirement (VER)</th>\n",
       "                        <td id=\"T_116c6_row2_col0\" class=\"data row2 col0\" >67</td>\n",
       "            </tr>\n",
       "            <tr>\n",
       "                        <th id=\"T_116c6_level0_row3\" class=\"row_heading level0 row3\" >Ill Health Retirement</th>\n",
       "                        <td id=\"T_116c6_row3_col0\" class=\"data row3 col0\" >61</td>\n",
       "            </tr>\n",
       "            <tr>\n",
       "                        <th id=\"T_116c6_level0_row4\" class=\"row_heading level0 row4\" >Other</th>\n",
       "                        <td id=\"T_116c6_row4_col0\" class=\"data row4 col0\" >49</td>\n",
       "            </tr>\n",
       "            <tr>\n",
       "                        <th id=\"T_116c6_level0_row5\" class=\"row_heading level0 row5\" >Contract Expired</th>\n",
       "                        <td id=\"T_116c6_row5_col0\" class=\"data row5 col0\" >34</td>\n",
       "            </tr>\n",
       "            <tr>\n",
       "                        <th id=\"T_116c6_level0_row6\" class=\"row_heading level0 row6\" >Termination</th>\n",
       "                        <td id=\"T_116c6_row6_col0\" class=\"data row6 col0\" >15</td>\n",
       "            </tr>\n",
       "    </tbody></table>     <style  type=\"text/css\" >\n",
       "</style><table id=\"T_c33f8_\" style='display:inline'><caption>TAFE</caption><thead>    <tr>        <th class=\"blank level0\" ></th>        <th class=\"col_heading level0 col0\" >Frecuency</th>    </tr></thead><tbody>\n",
       "                <tr>\n",
       "                        <th id=\"T_c33f8_level0_row0\" class=\"row_heading level0 row0\" >Resignation</th>\n",
       "                        <td id=\"T_c33f8_row0_col0\" class=\"data row0 col0\" >340</td>\n",
       "            </tr>\n",
       "            <tr>\n",
       "                        <th id=\"T_c33f8_level0_row1\" class=\"row_heading level0 row1\" >Contract Expired</th>\n",
       "                        <td id=\"T_c33f8_row1_col0\" class=\"data row1 col0\" >127</td>\n",
       "            </tr>\n",
       "            <tr>\n",
       "                        <th id=\"T_c33f8_level0_row2\" class=\"row_heading level0 row2\" >Retrenchment/ Redundancy</th>\n",
       "                        <td id=\"T_c33f8_row2_col0\" class=\"data row2 col0\" >104</td>\n",
       "            </tr>\n",
       "            <tr>\n",
       "                        <th id=\"T_c33f8_level0_row3\" class=\"row_heading level0 row3\" >Retirement</th>\n",
       "                        <td id=\"T_c33f8_row3_col0\" class=\"data row3 col0\" >82</td>\n",
       "            </tr>\n",
       "            <tr>\n",
       "                        <th id=\"T_c33f8_level0_row4\" class=\"row_heading level0 row4\" >Transfer</th>\n",
       "                        <td id=\"T_c33f8_row4_col0\" class=\"data row4 col0\" >25</td>\n",
       "            </tr>\n",
       "            <tr>\n",
       "                        <th id=\"T_c33f8_level0_row5\" class=\"row_heading level0 row5\" >Termination</th>\n",
       "                        <td id=\"T_c33f8_row5_col0\" class=\"data row5 col0\" >23</td>\n",
       "            </tr>\n",
       "    </tbody></table>     "
      ],
      "text/plain": [
       "<IPython.core.display.HTML object>"
      ]
     },
     "metadata": {}
    }
   ],
   "metadata": {}
  },
  {
   "cell_type": "markdown",
   "source": [
    "Since for answering the question: Are employees who have only worked for the institutes for a short period of time resigning due to some kind of dissatisfaction? What about employees who have been on the job longer? Only the subset of people who resigned is analyzed, a new dataframe containing only that data can be created."
   ],
   "metadata": {}
  },
  {
   "cell_type": "code",
   "execution_count": 104,
   "source": [
    "dete_resignations = dete_survey_updated[dete_survey_updated['separationtype'] == 'Resignation'].copy()\n",
    "tafe_resignations = tafe_survey_updated[tafe_survey_updated[\"separationtype\"] == 'Resignation'].copy()\n",
    "\n",
    "# Only showing the first 5 rows and columns for comparison\n",
    "display_side_by_side(\n",
    "    [\n",
    "        dete_resignations.iloc[:5,:5], \n",
    "        tafe_resignations.iloc[:5,:5]\n",
    "    ], \n",
    "    ['DETE', 'TAFE']\n",
    ")"
   ],
   "outputs": [
    {
     "output_type": "display_data",
     "data": {
      "text/html": [
       "<style  type=\"text/css\" >\n",
       "</style><table id=\"T_fe37c_\" style='display:inline'><caption>DETE</caption><thead>    <tr>        <th class=\"blank level0\" ></th>        <th class=\"col_heading level0 col0\" >id</th>        <th class=\"col_heading level0 col1\" >separationtype</th>        <th class=\"col_heading level0 col2\" >cease_date</th>        <th class=\"col_heading level0 col3\" >dete_start_date</th>        <th class=\"col_heading level0 col4\" >role_start_date</th>    </tr></thead><tbody>\n",
       "                <tr>\n",
       "                        <th id=\"T_fe37c_level0_row0\" class=\"row_heading level0 row0\" >3</th>\n",
       "                        <td id=\"T_fe37c_row0_col0\" class=\"data row0 col0\" >4</td>\n",
       "                        <td id=\"T_fe37c_row0_col1\" class=\"data row0 col1\" >Resignation</td>\n",
       "                        <td id=\"T_fe37c_row0_col2\" class=\"data row0 col2\" >05/2012</td>\n",
       "                        <td id=\"T_fe37c_row0_col3\" class=\"data row0 col3\" >2005.000000</td>\n",
       "                        <td id=\"T_fe37c_row0_col4\" class=\"data row0 col4\" >2006.000000</td>\n",
       "            </tr>\n",
       "            <tr>\n",
       "                        <th id=\"T_fe37c_level0_row1\" class=\"row_heading level0 row1\" >5</th>\n",
       "                        <td id=\"T_fe37c_row1_col0\" class=\"data row1 col0\" >6</td>\n",
       "                        <td id=\"T_fe37c_row1_col1\" class=\"data row1 col1\" >Resignation</td>\n",
       "                        <td id=\"T_fe37c_row1_col2\" class=\"data row1 col2\" >05/2012</td>\n",
       "                        <td id=\"T_fe37c_row1_col3\" class=\"data row1 col3\" >1994.000000</td>\n",
       "                        <td id=\"T_fe37c_row1_col4\" class=\"data row1 col4\" >1997.000000</td>\n",
       "            </tr>\n",
       "            <tr>\n",
       "                        <th id=\"T_fe37c_level0_row2\" class=\"row_heading level0 row2\" >8</th>\n",
       "                        <td id=\"T_fe37c_row2_col0\" class=\"data row2 col0\" >9</td>\n",
       "                        <td id=\"T_fe37c_row2_col1\" class=\"data row2 col1\" >Resignation</td>\n",
       "                        <td id=\"T_fe37c_row2_col2\" class=\"data row2 col2\" >07/2012</td>\n",
       "                        <td id=\"T_fe37c_row2_col3\" class=\"data row2 col3\" >2009.000000</td>\n",
       "                        <td id=\"T_fe37c_row2_col4\" class=\"data row2 col4\" >2009.000000</td>\n",
       "            </tr>\n",
       "            <tr>\n",
       "                        <th id=\"T_fe37c_level0_row3\" class=\"row_heading level0 row3\" >9</th>\n",
       "                        <td id=\"T_fe37c_row3_col0\" class=\"data row3 col0\" >10</td>\n",
       "                        <td id=\"T_fe37c_row3_col1\" class=\"data row3 col1\" >Resignation</td>\n",
       "                        <td id=\"T_fe37c_row3_col2\" class=\"data row3 col2\" >2012</td>\n",
       "                        <td id=\"T_fe37c_row3_col3\" class=\"data row3 col3\" >1997.000000</td>\n",
       "                        <td id=\"T_fe37c_row3_col4\" class=\"data row3 col4\" >2008.000000</td>\n",
       "            </tr>\n",
       "            <tr>\n",
       "                        <th id=\"T_fe37c_level0_row4\" class=\"row_heading level0 row4\" >11</th>\n",
       "                        <td id=\"T_fe37c_row4_col0\" class=\"data row4 col0\" >12</td>\n",
       "                        <td id=\"T_fe37c_row4_col1\" class=\"data row4 col1\" >Resignation</td>\n",
       "                        <td id=\"T_fe37c_row4_col2\" class=\"data row4 col2\" >2012</td>\n",
       "                        <td id=\"T_fe37c_row4_col3\" class=\"data row4 col3\" >2009.000000</td>\n",
       "                        <td id=\"T_fe37c_row4_col4\" class=\"data row4 col4\" >2009.000000</td>\n",
       "            </tr>\n",
       "    </tbody></table>     <style  type=\"text/css\" >\n",
       "</style><table id=\"T_20200_\" style='display:inline'><caption>TAFE</caption><thead>    <tr>        <th class=\"blank level0\" ></th>        <th class=\"col_heading level0 col0\" >id</th>        <th class=\"col_heading level0 col1\" >Institute</th>        <th class=\"col_heading level0 col2\" >WorkArea</th>        <th class=\"col_heading level0 col3\" >cease_date</th>        <th class=\"col_heading level0 col4\" >separationtype</th>    </tr></thead><tbody>\n",
       "                <tr>\n",
       "                        <th id=\"T_20200_level0_row0\" class=\"row_heading level0 row0\" >3</th>\n",
       "                        <td id=\"T_20200_row0_col0\" class=\"data row0 col0\" >634139903350000000.000000</td>\n",
       "                        <td id=\"T_20200_row0_col1\" class=\"data row0 col1\" >Mount Isa Institute of TAFE</td>\n",
       "                        <td id=\"T_20200_row0_col2\" class=\"data row0 col2\" >Non-Delivery (corporate)</td>\n",
       "                        <td id=\"T_20200_row0_col3\" class=\"data row0 col3\" >2010.000000</td>\n",
       "                        <td id=\"T_20200_row0_col4\" class=\"data row0 col4\" >Resignation</td>\n",
       "            </tr>\n",
       "            <tr>\n",
       "                        <th id=\"T_20200_level0_row1\" class=\"row_heading level0 row1\" >4</th>\n",
       "                        <td id=\"T_20200_row1_col0\" class=\"data row1 col0\" >634146578511788032.000000</td>\n",
       "                        <td id=\"T_20200_row1_col1\" class=\"data row1 col1\" >Southern Queensland Institute of TAFE</td>\n",
       "                        <td id=\"T_20200_row1_col2\" class=\"data row1 col2\" >Delivery (teaching)</td>\n",
       "                        <td id=\"T_20200_row1_col3\" class=\"data row1 col3\" >2010.000000</td>\n",
       "                        <td id=\"T_20200_row1_col4\" class=\"data row1 col4\" >Resignation</td>\n",
       "            </tr>\n",
       "            <tr>\n",
       "                        <th id=\"T_20200_level0_row2\" class=\"row_heading level0 row2\" >5</th>\n",
       "                        <td id=\"T_20200_row2_col0\" class=\"data row2 col0\" >634147506906311040.000000</td>\n",
       "                        <td id=\"T_20200_row2_col1\" class=\"data row2 col1\" >Southern Queensland Institute of TAFE</td>\n",
       "                        <td id=\"T_20200_row2_col2\" class=\"data row2 col2\" >Delivery (teaching)</td>\n",
       "                        <td id=\"T_20200_row2_col3\" class=\"data row2 col3\" >2010.000000</td>\n",
       "                        <td id=\"T_20200_row2_col4\" class=\"data row2 col4\" >Resignation</td>\n",
       "            </tr>\n",
       "            <tr>\n",
       "                        <th id=\"T_20200_level0_row3\" class=\"row_heading level0 row3\" >6</th>\n",
       "                        <td id=\"T_20200_row3_col0\" class=\"data row3 col0\" >634152007975693952.000000</td>\n",
       "                        <td id=\"T_20200_row3_col1\" class=\"data row3 col1\" >Barrier Reef Institute of TAFE</td>\n",
       "                        <td id=\"T_20200_row3_col2\" class=\"data row3 col2\" >Non-Delivery (corporate)</td>\n",
       "                        <td id=\"T_20200_row3_col3\" class=\"data row3 col3\" >2010.000000</td>\n",
       "                        <td id=\"T_20200_row3_col4\" class=\"data row3 col4\" >Resignation</td>\n",
       "            </tr>\n",
       "            <tr>\n",
       "                        <th id=\"T_20200_level0_row4\" class=\"row_heading level0 row4\" >7</th>\n",
       "                        <td id=\"T_20200_row4_col0\" class=\"data row4 col0\" >634153745310374016.000000</td>\n",
       "                        <td id=\"T_20200_row4_col1\" class=\"data row4 col1\" >Southern Queensland Institute of TAFE</td>\n",
       "                        <td id=\"T_20200_row4_col2\" class=\"data row4 col2\" >Delivery (teaching)</td>\n",
       "                        <td id=\"T_20200_row4_col3\" class=\"data row4 col3\" >2010.000000</td>\n",
       "                        <td id=\"T_20200_row4_col4\" class=\"data row4 col4\" >Resignation</td>\n",
       "            </tr>\n",
       "    </tbody></table>     "
      ],
      "text/plain": [
       "<IPython.core.display.HTML object>"
      ]
     },
     "metadata": {}
    }
   ],
   "metadata": {}
  },
  {
   "cell_type": "code",
   "execution_count": 35,
   "source": [
    "dete_resignations[\"cease_date\"].value_counts()"
   ],
   "outputs": [
    {
     "output_type": "execute_result",
     "data": {
      "text/plain": [
       "2012       126\n",
       "2013        74\n",
       "01/2014     22\n",
       "12/2013     17\n",
       "06/2013     14\n",
       "09/2013     11\n",
       "11/2013      9\n",
       "07/2013      9\n",
       "10/2013      6\n",
       "08/2013      4\n",
       "05/2013      2\n",
       "05/2012      2\n",
       "07/2006      1\n",
       "2010         1\n",
       "07/2012      1\n",
       "09/2010      1\n",
       "Name: cease_date, dtype: int64"
      ]
     },
     "metadata": {},
     "execution_count": 35
    }
   ],
   "metadata": {}
  },
  {
   "cell_type": "code",
   "execution_count": 36,
   "source": [
    "# pattern = '(?P<Years>[1-2][0-9]{3})'\n",
    "\n",
    "# extracted_years = dete_resignations[\"cease_date\"].str.extract(pattern)\n",
    "\n",
    "# dete_resignations[\"cease_date\"] = extracted_years.astype(\"float\").copy()\n",
    "\n",
    "\n",
    "# Extract the years and convert them to a float type\n",
    "dete_resignations['cease_date'] = dete_resignations['cease_date'].str.split('/').str[-1]\n",
    "dete_resignations['cease_date'] = dete_resignations['cease_date'].astype(\"float\")\n",
    "\n"
   ],
   "outputs": [],
   "metadata": {
    "scrolled": true
   }
  },
  {
   "cell_type": "code",
   "execution_count": 38,
   "source": [
    "\n",
    "dete_resignations.isna().sum()"
   ],
   "outputs": [
    {
     "output_type": "execute_result",
     "data": {
      "text/plain": [
       "id                                       0\n",
       "separationtype                           0\n",
       "cease_date                              11\n",
       "dete_start_date                         28\n",
       "role_start_date                         40\n",
       "position                                 3\n",
       "classification                         150\n",
       "region                                  46\n",
       "business_unit                          279\n",
       "employment_status                        4\n",
       "career_move_to_public_sector             0\n",
       "career_move_to_private_sector            0\n",
       "interpersonal_conflicts                  0\n",
       "job_dissatisfaction                      0\n",
       "dissatisfaction_with_the_department      0\n",
       "physical_work_environment                0\n",
       "lack_of_recognition                      0\n",
       "lack_of_job_security                     0\n",
       "work_location                            0\n",
       "employment_conditions                    0\n",
       "maternity/family                         0\n",
       "relocation                               0\n",
       "study/travel                             0\n",
       "ill_health                               0\n",
       "traumatic_incident                       0\n",
       "work_life_balance                        0\n",
       "workload                                 0\n",
       "none_of_the_above                        0\n",
       "gender                                   9\n",
       "age                                      5\n",
       "aboriginal                             304\n",
       "torres_strait                          311\n",
       "south_sea                              308\n",
       "disability                             303\n",
       "nesb                                   302\n",
       "dtype: int64"
      ]
     },
     "metadata": {},
     "execution_count": 38
    }
   ],
   "metadata": {}
  },
  {
   "cell_type": "code",
   "execution_count": null,
   "source": [
    "dete_resignation[\"cease_date\"].value_counts()"
   ],
   "outputs": [
    {
     "output_type": "execute_result",
     "data": {
      "text/plain": [
       "2013.0    146\n",
       "2012.0    129\n",
       "2014.0     22\n",
       "2010.0      2\n",
       "2006.0      1\n",
       "Name: cease_date, dtype: int64"
      ]
     },
     "metadata": {},
     "execution_count": 503
    }
   ],
   "metadata": {}
  },
  {
   "cell_type": "code",
   "execution_count": null,
   "source": [
    "dete_resignation[\"dete_start_date\"].value_counts()"
   ],
   "outputs": [
    {
     "output_type": "execute_result",
     "data": {
      "text/plain": [
       "2011.0    24\n",
       "2008.0    22\n",
       "2007.0    21\n",
       "2012.0    21\n",
       "2010.0    17\n",
       "2005.0    15\n",
       "2004.0    14\n",
       "2009.0    13\n",
       "2006.0    13\n",
       "2013.0    10\n",
       "2000.0     9\n",
       "1999.0     8\n",
       "1996.0     6\n",
       "2002.0     6\n",
       "1992.0     6\n",
       "1998.0     6\n",
       "2003.0     6\n",
       "1994.0     6\n",
       "1993.0     5\n",
       "1990.0     5\n",
       "1980.0     5\n",
       "1997.0     5\n",
       "1991.0     4\n",
       "1989.0     4\n",
       "1988.0     4\n",
       "1995.0     4\n",
       "2001.0     3\n",
       "1985.0     3\n",
       "1986.0     3\n",
       "1983.0     2\n",
       "1976.0     2\n",
       "1974.0     2\n",
       "1971.0     1\n",
       "1972.0     1\n",
       "1984.0     1\n",
       "1982.0     1\n",
       "1987.0     1\n",
       "1975.0     1\n",
       "1973.0     1\n",
       "1977.0     1\n",
       "1963.0     1\n",
       "Name: dete_start_date, dtype: int64"
      ]
     },
     "metadata": {},
     "execution_count": 504
    }
   ],
   "metadata": {}
  },
  {
   "cell_type": "code",
   "execution_count": null,
   "source": [
    "tafe_resignations[\"cease_date\"].value_counts(ascending = False)"
   ],
   "outputs": [
    {
     "output_type": "execute_result",
     "data": {
      "text/plain": [
       "2011.0    116\n",
       "2012.0     94\n",
       "2010.0     68\n",
       "2013.0     55\n",
       "2009.0      2\n",
       "Name: cease_date, dtype: int64"
      ]
     },
     "metadata": {},
     "execution_count": 505
    }
   ],
   "metadata": {}
  },
  {
   "cell_type": "markdown",
   "source": [
    "### Create a new column"
   ],
   "metadata": {}
  },
  {
   "cell_type": "code",
   "execution_count": null,
   "source": [
    "dete_resignations[\"institute_service\"] = dete_resignations[\"cease_date\"] - dete_resignations[\"dete_start_date\"]"
   ],
   "outputs": [],
   "metadata": {}
  },
  {
   "cell_type": "code",
   "execution_count": null,
   "source": [
    "dete_resignations[\"institute_service\"].value_counts(dropna=False)"
   ],
   "outputs": [
    {
     "output_type": "execute_result",
     "data": {
      "text/plain": [
       "NaN     38\n",
       "5.0     23\n",
       "1.0     22\n",
       "3.0     20\n",
       "0.0     20\n",
       "6.0     17\n",
       "4.0     16\n",
       "9.0     14\n",
       "2.0     14\n",
       "7.0     13\n",
       "13.0     8\n",
       "8.0      8\n",
       "20.0     7\n",
       "15.0     7\n",
       "12.0     6\n",
       "22.0     6\n",
       "17.0     6\n",
       "10.0     6\n",
       "14.0     6\n",
       "16.0     5\n",
       "18.0     5\n",
       "24.0     4\n",
       "23.0     4\n",
       "11.0     4\n",
       "39.0     3\n",
       "32.0     3\n",
       "19.0     3\n",
       "21.0     3\n",
       "36.0     2\n",
       "30.0     2\n",
       "25.0     2\n",
       "28.0     2\n",
       "26.0     2\n",
       "29.0     1\n",
       "42.0     1\n",
       "38.0     1\n",
       "27.0     1\n",
       "41.0     1\n",
       "35.0     1\n",
       "49.0     1\n",
       "34.0     1\n",
       "33.0     1\n",
       "31.0     1\n",
       "Name: institute_service, dtype: int64"
      ]
     },
     "metadata": {},
     "execution_count": 507
    }
   ],
   "metadata": {}
  },
  {
   "cell_type": "markdown",
   "source": [
    "### Identify Dissatiesfied Employees"
   ],
   "metadata": {}
  },
  {
   "cell_type": "code",
   "execution_count": null,
   "source": [
    "#tafe_resignations['Contributing Factors. Dissatisfaction'] = tafe_resignations['Contributing Factors. Dissatisfaction'].replace({\"Contributing Factors. Dissatisfaction \": True, \"-\" :np.nan}).copy()\n",
    "\n",
    "#tafe_resignations['Contributing Factors. Job Dissatisfaction'] = tafe_resignations['Contributing Factors. Job Dissatisfaction'].replace({\"Job Dissatisfaction\": True, \"-\" :np.nan}).copy()\n"
   ],
   "outputs": [],
   "metadata": {
    "code_folding": []
   }
  },
  {
   "cell_type": "markdown",
   "source": [
    "### Way 2"
   ],
   "metadata": {}
  },
  {
   "cell_type": "code",
   "execution_count": null,
   "source": [
    " def update_vals(val):\n",
    "        if pd.isnull(val):\n",
    "            return np.nan\n",
    "        elif val == \"-\":\n",
    "            return False\n",
    "        else:\n",
    "            return True\n",
    "            "
   ],
   "outputs": [],
   "metadata": {}
  },
  {
   "cell_type": "code",
   "execution_count": null,
   "source": [
    "tafe_resignations[\"dissatisfied\"] = tafe_resignations[['Contributing Factors. Dissatisfaction','Contributing Factors. Job Dissatisfaction']].applymap(update_vals).any(axis=1,skipna=False)"
   ],
   "outputs": [],
   "metadata": {}
  },
  {
   "cell_type": "code",
   "execution_count": null,
   "source": [
    "tafe_resignations_up = tafe_resignations.copy()\n",
    "# Check the unique values after the updates\n",
    "tafe_resignations_up['dissatisfied'].value_counts(dropna=False)"
   ],
   "outputs": [
    {
     "output_type": "execute_result",
     "data": {
      "text/plain": [
       "False    241\n",
       "True      91\n",
       "NaN        8\n",
       "Name: dissatisfied, dtype: int64"
      ]
     },
     "metadata": {},
     "execution_count": 511
    }
   ],
   "metadata": {}
  },
  {
   "cell_type": "code",
   "execution_count": null,
   "source": [
    "dete_resignations['dissatisfied'] = dete_resignations[['job_dissatisfaction',\n",
    "       'dissatisfaction_with_the_department', 'physical_work_environment',\n",
    "       'lack_of_recognition', 'lack_of_job_security', 'work_location',\n",
    "       'employment_conditions', 'work_life_balance',\n",
    "       'workload']].any(1, skipna=False)\n",
    "dete_resignations_up = dete_resignations.copy()\n",
    "dete_resignations_up['dissatisfied'].value_counts(dropna=False)"
   ],
   "outputs": [
    {
     "output_type": "execute_result",
     "data": {
      "text/plain": [
       "False    162\n",
       "True     149\n",
       "Name: dissatisfied, dtype: int64"
      ]
     },
     "metadata": {},
     "execution_count": 512
    }
   ],
   "metadata": {}
  },
  {
   "cell_type": "markdown",
   "source": [
    "### Combine the Data"
   ],
   "metadata": {}
  },
  {
   "cell_type": "code",
   "execution_count": null,
   "source": [
    "dete_resignations_up[\"institute\"] = \"DETE\"\n",
    "tafe_resignations_up[\"institute\"] = \"TAFE\""
   ],
   "outputs": [],
   "metadata": {}
  },
  {
   "cell_type": "code",
   "execution_count": null,
   "source": [
    "combined = pd.concat([dete_resignations_up, tafe_resignations_up], ignore_index=True, sort= False)\n",
    "combined.notnull().sum().sort_values()"
   ],
   "outputs": [
    {
     "output_type": "execute_result",
     "data": {
      "text/plain": [
       "torres_strait                                            0\n",
       "south_sea                                                3\n",
       "aboriginal                                               7\n",
       "disability                                               8\n",
       "nesb                                                     9\n",
       "business_unit                                           32\n",
       "classification                                         161\n",
       "region                                                 265\n",
       "role_start_date                                        271\n",
       "dete_start_date                                        283\n",
       "role_service                                           290\n",
       "none_of_the_above                                      311\n",
       "work_life_balance                                      311\n",
       "traumatic_incident                                     311\n",
       "ill_health                                             311\n",
       "study/travel                                           311\n",
       "relocation                                             311\n",
       "maternity/family                                       311\n",
       "employment_conditions                                  311\n",
       "workload                                               311\n",
       "lack_of_job_security                                   311\n",
       "career_move_to_public_sector                           311\n",
       "career_move_to_private_sector                          311\n",
       "interpersonal_conflicts                                311\n",
       "work_location                                          311\n",
       "dissatisfaction_with_the_department                    311\n",
       "physical_work_environment                              311\n",
       "lack_of_recognition                                    311\n",
       "job_dissatisfaction                                    311\n",
       "Contributing Factors. Job Dissatisfaction              332\n",
       "Contributing Factors. Travel                           332\n",
       "Contributing Factors. Maternity/Family                 332\n",
       "Contributing Factors. Ill Health                       332\n",
       "Contributing Factors. Career Move - Self-employment    332\n",
       "Contributing Factors. Career Move - Private Sector     332\n",
       "Contributing Factors. Career Move - Public Sector      332\n",
       "Contributing Factors. Dissatisfaction                  332\n",
       "Contributing Factors. Other                            332\n",
       "Contributing Factors. Interpersonal Conflict           332\n",
       "Contributing Factors. NONE                             332\n",
       "Contributing Factors. Study                            332\n",
       "Institute                                              340\n",
       "WorkArea                                               340\n",
       "institute_service                                      563\n",
       "gender                                                 592\n",
       "age                                                    596\n",
       "employment_status                                      597\n",
       "position                                               598\n",
       "cease_date                                             635\n",
       "dissatisfied                                           643\n",
       "separationtype                                         651\n",
       "institute                                              651\n",
       "id                                                     651\n",
       "dtype: int64"
      ]
     },
     "metadata": {},
     "execution_count": 514
    }
   ],
   "metadata": {}
  },
  {
   "cell_type": "code",
   "execution_count": null,
   "source": [
    "combined_updated = combined.dropna(axis=1, thresh=500).copy()\n"
   ],
   "outputs": [],
   "metadata": {}
  },
  {
   "cell_type": "code",
   "execution_count": null,
   "source": [
    "combined_updated.shape"
   ],
   "outputs": [
    {
     "output_type": "execute_result",
     "data": {
      "text/plain": [
       "(651, 10)"
      ]
     },
     "metadata": {},
     "execution_count": 516
    }
   ],
   "metadata": {}
  },
  {
   "cell_type": "code",
   "execution_count": null,
   "source": [
    "combined_updated.head()"
   ],
   "outputs": [
    {
     "output_type": "execute_result",
     "data": {
      "text/html": [
       "<div>\n",
       "<style scoped>\n",
       "    .dataframe tbody tr th:only-of-type {\n",
       "        vertical-align: middle;\n",
       "    }\n",
       "\n",
       "    .dataframe tbody tr th {\n",
       "        vertical-align: top;\n",
       "    }\n",
       "\n",
       "    .dataframe thead th {\n",
       "        text-align: right;\n",
       "    }\n",
       "</style>\n",
       "<table border=\"1\" class=\"dataframe\">\n",
       "  <thead>\n",
       "    <tr style=\"text-align: right;\">\n",
       "      <th></th>\n",
       "      <th>id</th>\n",
       "      <th>separationtype</th>\n",
       "      <th>cease_date</th>\n",
       "      <th>position</th>\n",
       "      <th>employment_status</th>\n",
       "      <th>gender</th>\n",
       "      <th>age</th>\n",
       "      <th>institute_service</th>\n",
       "      <th>dissatisfied</th>\n",
       "      <th>institute</th>\n",
       "    </tr>\n",
       "  </thead>\n",
       "  <tbody>\n",
       "    <tr>\n",
       "      <th>0</th>\n",
       "      <td>4.0</td>\n",
       "      <td>Resignation</td>\n",
       "      <td>2012.0</td>\n",
       "      <td>Teacher</td>\n",
       "      <td>Permanent Full-time</td>\n",
       "      <td>Female</td>\n",
       "      <td>36-40</td>\n",
       "      <td>7</td>\n",
       "      <td>False</td>\n",
       "      <td>DETE</td>\n",
       "    </tr>\n",
       "    <tr>\n",
       "      <th>1</th>\n",
       "      <td>6.0</td>\n",
       "      <td>Resignation</td>\n",
       "      <td>2012.0</td>\n",
       "      <td>Guidance Officer</td>\n",
       "      <td>Permanent Full-time</td>\n",
       "      <td>Female</td>\n",
       "      <td>41-45</td>\n",
       "      <td>18</td>\n",
       "      <td>True</td>\n",
       "      <td>DETE</td>\n",
       "    </tr>\n",
       "    <tr>\n",
       "      <th>2</th>\n",
       "      <td>9.0</td>\n",
       "      <td>Resignation</td>\n",
       "      <td>2012.0</td>\n",
       "      <td>Teacher</td>\n",
       "      <td>Permanent Full-time</td>\n",
       "      <td>Female</td>\n",
       "      <td>31-35</td>\n",
       "      <td>3</td>\n",
       "      <td>False</td>\n",
       "      <td>DETE</td>\n",
       "    </tr>\n",
       "    <tr>\n",
       "      <th>3</th>\n",
       "      <td>10.0</td>\n",
       "      <td>Resignation</td>\n",
       "      <td>2012.0</td>\n",
       "      <td>Teacher Aide</td>\n",
       "      <td>Permanent Part-time</td>\n",
       "      <td>Female</td>\n",
       "      <td>46-50</td>\n",
       "      <td>15</td>\n",
       "      <td>True</td>\n",
       "      <td>DETE</td>\n",
       "    </tr>\n",
       "    <tr>\n",
       "      <th>4</th>\n",
       "      <td>12.0</td>\n",
       "      <td>Resignation</td>\n",
       "      <td>2012.0</td>\n",
       "      <td>Teacher</td>\n",
       "      <td>Permanent Full-time</td>\n",
       "      <td>Male</td>\n",
       "      <td>31-35</td>\n",
       "      <td>3</td>\n",
       "      <td>False</td>\n",
       "      <td>DETE</td>\n",
       "    </tr>\n",
       "  </tbody>\n",
       "</table>\n",
       "</div>"
      ],
      "text/plain": [
       "     id separationtype  cease_date          position    employment_status  \\\n",
       "0   4.0    Resignation      2012.0           Teacher  Permanent Full-time   \n",
       "1   6.0    Resignation      2012.0  Guidance Officer  Permanent Full-time   \n",
       "2   9.0    Resignation      2012.0           Teacher  Permanent Full-time   \n",
       "3  10.0    Resignation      2012.0      Teacher Aide  Permanent Part-time   \n",
       "4  12.0    Resignation      2012.0           Teacher  Permanent Full-time   \n",
       "\n",
       "   gender    age institute_service dissatisfied institute  \n",
       "0  Female  36-40                 7        False      DETE  \n",
       "1  Female  41-45                18         True      DETE  \n",
       "2  Female  31-35                 3        False      DETE  \n",
       "3  Female  46-50                15         True      DETE  \n",
       "4    Male  31-35                 3        False      DETE  "
      ]
     },
     "metadata": {},
     "execution_count": 517
    }
   ],
   "metadata": {}
  },
  {
   "cell_type": "code",
   "execution_count": null,
   "source": [
    "combined_updated[\"institute_service\"].value_counts()"
   ],
   "outputs": [
    {
     "output_type": "execute_result",
     "data": {
      "text/plain": [
       "Less than 1 year      73\n",
       "1-2                   64\n",
       "3-4                   63\n",
       "5-6                   33\n",
       "11-20                 26\n",
       "5.0                   23\n",
       "1.0                   22\n",
       "7-10                  21\n",
       "3.0                   20\n",
       "0.0                   20\n",
       "6.0                   17\n",
       "4.0                   16\n",
       "9.0                   14\n",
       "2.0                   14\n",
       "7.0                   13\n",
       "More than 20 years    10\n",
       "13.0                   8\n",
       "8.0                    8\n",
       "20.0                   7\n",
       "15.0                   7\n",
       "14.0                   6\n",
       "17.0                   6\n",
       "12.0                   6\n",
       "10.0                   6\n",
       "22.0                   6\n",
       "18.0                   5\n",
       "16.0                   5\n",
       "24.0                   4\n",
       "23.0                   4\n",
       "11.0                   4\n",
       "39.0                   3\n",
       "19.0                   3\n",
       "21.0                   3\n",
       "32.0                   3\n",
       "36.0                   2\n",
       "25.0                   2\n",
       "26.0                   2\n",
       "28.0                   2\n",
       "30.0                   2\n",
       "42.0                   1\n",
       "35.0                   1\n",
       "49.0                   1\n",
       "34.0                   1\n",
       "38.0                   1\n",
       "33.0                   1\n",
       "29.0                   1\n",
       "27.0                   1\n",
       "41.0                   1\n",
       "31.0                   1\n",
       "Name: institute_service, dtype: int64"
      ]
     },
     "metadata": {},
     "execution_count": 520
    }
   ],
   "metadata": {}
  },
  {
   "cell_type": "code",
   "execution_count": null,
   "source": [
    "combined_updated[\"institute_service\"] = combined_updated[\"institute_service\"].astype(\"str\").str.extract(r'(\\d+)').astype(\"float\")"
   ],
   "outputs": [],
   "metadata": {}
  },
  {
   "cell_type": "markdown",
   "source": [
    "### Clean the Service Column"
   ],
   "metadata": {}
  },
  {
   "cell_type": "code",
   "execution_count": null,
   "source": [
    "def check_range(val):\n",
    "    if val >= 11:\n",
    "        return \"Veteran\"\n",
    "    elif 7 <= val < 11:\n",
    "        return \"Established\"\n",
    "    elif 3 <= val < 7:\n",
    "        return \"Experienced\"\n",
    "    elif pd.isnull(val):\n",
    "        return np.nan\n",
    "    else:\n",
    "        return \"New\"\n",
    "  "
   ],
   "outputs": [],
   "metadata": {}
  },
  {
   "cell_type": "code",
   "execution_count": null,
   "source": [
    "combined_updated[\"service_cat\"]=combined_updated[\"institute_service\"].apply(check_range)\n",
    "\n",
    "combined_updated[\"service_cat\"].value_counts()"
   ],
   "outputs": [
    {
     "output_type": "execute_result",
     "data": {
      "text/plain": [
       "New            193\n",
       "Experienced    172\n",
       "Veteran        136\n",
       "Established     62\n",
       "Name: service_cat, dtype: int64"
      ]
     },
     "metadata": {},
     "execution_count": 560
    }
   ],
   "metadata": {}
  },
  {
   "cell_type": "markdown",
   "source": [
    "### Perform initial analysis"
   ],
   "metadata": {}
  },
  {
   "cell_type": "code",
   "execution_count": null,
   "source": [
    "combined_updated[\"dissatisfied\"].value_counts(dropna = False)"
   ],
   "outputs": [
    {
     "output_type": "execute_result",
     "data": {
      "text/plain": [
       "False    411\n",
       "True     240\n",
       "Name: dissatisfied, dtype: int64"
      ]
     },
     "metadata": {},
     "execution_count": 561
    }
   ],
   "metadata": {}
  },
  {
   "cell_type": "code",
   "execution_count": null,
   "source": [
    "combined_updated[\"dissatisfied\"] = combined_updated[\"dissatisfied\"].fillna(value = False)"
   ],
   "outputs": [],
   "metadata": {}
  },
  {
   "cell_type": "code",
   "execution_count": null,
   "source": [
    "combined_pivot = combined_updated.pivot_table(values=\"dissatisfied\", index=\"service_cat\")"
   ],
   "outputs": [],
   "metadata": {}
  },
  {
   "cell_type": "code",
   "execution_count": null,
   "source": [
    "combined_pivot.plot(kind=\"bar\")"
   ],
   "outputs": [
    {
     "output_type": "execute_result",
     "data": {
      "text/plain": [
       "<matplotlib.axes._subplots.AxesSubplot at 0x1daaeab7a20>"
      ]
     },
     "metadata": {},
     "execution_count": 564
    },
    {
     "output_type": "display_data",
     "data": {
      "image/png": "[encoded data removed]",
      "text/plain": [
       "<Figure size 432x288 with 1 Axes>"
      ]
     },
     "metadata": {
      "needs_background": "light"
     }
    }
   ],
   "metadata": {}
  },
  {
   "cell_type": "code",
   "execution_count": null,
   "source": [],
   "outputs": [],
   "metadata": {}
  }
 ],
 "metadata": {
  "kernelspec": {
   "name": "python3",
   "display_name": "Python 3.8.8 64-bit ('base': conda)"
  },
  "language_info": {
   "codemirror_mode": {
    "name": "ipython",
    "version": 3
   },
   "file_extension": ".py",
   "mimetype": "text/x-python",
   "name": "python",
   "nbconvert_exporter": "python",
   "pygments_lexer": "ipython3",
   "version": "3.8.8"
  },
  "toc": {
   "base_numbering": 1,
   "nav_menu": {},
   "number_sections": true,
   "sideBar": true,
   "skip_h1_title": false,
   "title_cell": "Table of Contents",
   "title_sidebar": "Contents",
   "toc_cell": false,
   "toc_position": {},
   "toc_section_display": true,
   "toc_window_display": true
  },
  "interpreter": {
   "hash": "c4c1a8c7a4e91fe99aca35ad3c4e154051d94b5a9c6bc698974ab90f2d7f0413"
  }
 },
 "nbformat": 4,
 "nbformat_minor": 2
}