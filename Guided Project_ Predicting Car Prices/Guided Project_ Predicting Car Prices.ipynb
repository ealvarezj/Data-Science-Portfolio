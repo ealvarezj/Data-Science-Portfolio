{
 "cells": [
  {
   "cell_type": "markdown",
   "metadata": {
    "collapsed": true
   },
   "source": [
    "# Predicting car prices with KNN\n",
    "\n",
    "In this guided project, we'll practice the machine learning workflow to predict a car's market price using its attributes. The data set we will be working with contains information on various cars. For each car we have information about the technical aspects of the vehicle such as the motor's displacement, the weight of the car, the miles per gallon, how fast the car accelerates, and more. You can read more about the data set [here](https://archive.ics.uci.edu/ml/datasets/automobile)"
   ]
  },
  {
   "cell_type": "code",
   "execution_count": 7,
   "metadata": {},
   "outputs": [],
   "source": [
    "import pandas as pd\n",
    "import numpy as np"
   ]
  },
  {
   "cell_type": "markdown",
   "metadata": {},
   "source": [
    "## Cleaning and importing the data"
   ]
  },
  {
   "cell_type": "markdown",
   "metadata": {},
   "source": [
    "The data provided by UCI, comes in a special format. `imports-85.data` and there is a `.names` file avaliable. This file provides documentation about the dataset. Since the data file does not provide the column names, we will need to write those down by hand"
   ]
  },
  {
   "cell_type": "code",
   "execution_count": 23,
   "metadata": {},
   "outputs": [],
   "source": [
    "colnames = ['symboling','normalized_losses','make','fuel_type','aspiration','num_of_doors','body_style','drive_wheels' ,'engine_location' ,'wheel_base','length','width','height','curb_weight','engine_type','num_of_cylinders','engine_size','fuel_system','bore','stroke','compression_ratio' ,'horsepower','peak_rpm','city_mpg','highway_mpg','price']"
   ]
  },
  {
   "cell_type": "code",
   "execution_count": 96,
   "metadata": {},
   "outputs": [],
   "source": [
    "cars = pd.read_csv('imports-85.data', names = colnames)"
   ]
  },
  {
   "cell_type": "markdown",
   "metadata": {},
   "source": [
    "For the analysis we will also need to filter out those columns that are nor numeric, since we cannot fit a regressor on those."
   ]
  },
  {
   "cell_type": "code",
   "execution_count": 97,
   "metadata": {},
   "outputs": [],
   "source": [
    "numeric_cols = ['normalized_losses' ,'wheel_base','length','width','height','curb_weight' ,'engine_size','bore','stroke','compression_ratio','horsepower','peak_rpm','city_mpg','highway_mpg','price']\n",
    "target = 'price'"
   ]
  },
  {
   "cell_type": "code",
   "execution_count": 98,
   "metadata": {},
   "outputs": [
    {
     "data": {
      "text/html": [
       "<div>\n",
       "<style scoped>\n",
       "    .dataframe tbody tr th:only-of-type {\n",
       "        vertical-align: middle;\n",
       "    }\n",
       "\n",
       "    .dataframe tbody tr th {\n",
       "        vertical-align: top;\n",
       "    }\n",
       "\n",
       "    .dataframe thead th {\n",
       "        text-align: right;\n",
       "    }\n",
       "</style>\n",
       "<table border=\"1\" class=\"dataframe\">\n",
       "  <thead>\n",
       "    <tr style=\"text-align: right;\">\n",
       "      <th></th>\n",
       "      <th>normalized_losses</th>\n",
       "      <th>wheel_base</th>\n",
       "      <th>length</th>\n",
       "      <th>width</th>\n",
       "      <th>height</th>\n",
       "      <th>curb_weight</th>\n",
       "      <th>engine_size</th>\n",
       "      <th>bore</th>\n",
       "      <th>stroke</th>\n",
       "      <th>compression_ratio</th>\n",
       "      <th>horsepower</th>\n",
       "      <th>peak_rpm</th>\n",
       "      <th>city_mpg</th>\n",
       "      <th>highway_mpg</th>\n",
       "      <th>price</th>\n",
       "    </tr>\n",
       "  </thead>\n",
       "  <tbody>\n",
       "    <tr>\n",
       "      <th>0</th>\n",
       "      <td>?</td>\n",
       "      <td>88.6</td>\n",
       "      <td>168.8</td>\n",
       "      <td>64.1</td>\n",
       "      <td>48.8</td>\n",
       "      <td>2548</td>\n",
       "      <td>130</td>\n",
       "      <td>3.47</td>\n",
       "      <td>2.68</td>\n",
       "      <td>9.0</td>\n",
       "      <td>111</td>\n",
       "      <td>5000</td>\n",
       "      <td>21</td>\n",
       "      <td>27</td>\n",
       "      <td>13495</td>\n",
       "    </tr>\n",
       "    <tr>\n",
       "      <th>1</th>\n",
       "      <td>?</td>\n",
       "      <td>88.6</td>\n",
       "      <td>168.8</td>\n",
       "      <td>64.1</td>\n",
       "      <td>48.8</td>\n",
       "      <td>2548</td>\n",
       "      <td>130</td>\n",
       "      <td>3.47</td>\n",
       "      <td>2.68</td>\n",
       "      <td>9.0</td>\n",
       "      <td>111</td>\n",
       "      <td>5000</td>\n",
       "      <td>21</td>\n",
       "      <td>27</td>\n",
       "      <td>16500</td>\n",
       "    </tr>\n",
       "    <tr>\n",
       "      <th>2</th>\n",
       "      <td>?</td>\n",
       "      <td>94.5</td>\n",
       "      <td>171.2</td>\n",
       "      <td>65.5</td>\n",
       "      <td>52.4</td>\n",
       "      <td>2823</td>\n",
       "      <td>152</td>\n",
       "      <td>2.68</td>\n",
       "      <td>3.47</td>\n",
       "      <td>9.0</td>\n",
       "      <td>154</td>\n",
       "      <td>5000</td>\n",
       "      <td>19</td>\n",
       "      <td>26</td>\n",
       "      <td>16500</td>\n",
       "    </tr>\n",
       "    <tr>\n",
       "      <th>3</th>\n",
       "      <td>164</td>\n",
       "      <td>99.8</td>\n",
       "      <td>176.6</td>\n",
       "      <td>66.2</td>\n",
       "      <td>54.3</td>\n",
       "      <td>2337</td>\n",
       "      <td>109</td>\n",
       "      <td>3.19</td>\n",
       "      <td>3.40</td>\n",
       "      <td>10.0</td>\n",
       "      <td>102</td>\n",
       "      <td>5500</td>\n",
       "      <td>24</td>\n",
       "      <td>30</td>\n",
       "      <td>13950</td>\n",
       "    </tr>\n",
       "    <tr>\n",
       "      <th>4</th>\n",
       "      <td>164</td>\n",
       "      <td>99.4</td>\n",
       "      <td>176.6</td>\n",
       "      <td>66.4</td>\n",
       "      <td>54.3</td>\n",
       "      <td>2824</td>\n",
       "      <td>136</td>\n",
       "      <td>3.19</td>\n",
       "      <td>3.40</td>\n",
       "      <td>8.0</td>\n",
       "      <td>115</td>\n",
       "      <td>5500</td>\n",
       "      <td>18</td>\n",
       "      <td>22</td>\n",
       "      <td>17450</td>\n",
       "    </tr>\n",
       "  </tbody>\n",
       "</table>\n",
       "</div>"
      ],
      "text/plain": [
       "  normalized_losses  wheel_base  length  width  height  curb_weight  \\\n",
       "0                 ?        88.6   168.8   64.1    48.8         2548   \n",
       "1                 ?        88.6   168.8   64.1    48.8         2548   \n",
       "2                 ?        94.5   171.2   65.5    52.4         2823   \n",
       "3               164        99.8   176.6   66.2    54.3         2337   \n",
       "4               164        99.4   176.6   66.4    54.3         2824   \n",
       "\n",
       "   engine_size  bore stroke  compression_ratio horsepower peak_rpm  city_mpg  \\\n",
       "0          130  3.47   2.68                9.0        111     5000        21   \n",
       "1          130  3.47   2.68                9.0        111     5000        21   \n",
       "2          152  2.68   3.47                9.0        154     5000        19   \n",
       "3          109  3.19   3.40               10.0        102     5500        24   \n",
       "4          136  3.19   3.40                8.0        115     5500        18   \n",
       "\n",
       "   highway_mpg  price  \n",
       "0           27  13495  \n",
       "1           27  16500  \n",
       "2           26  16500  \n",
       "3           30  13950  \n",
       "4           22  17450  "
      ]
     },
     "execution_count": 98,
     "metadata": {},
     "output_type": "execute_result"
    }
   ],
   "source": [
    "cars_numeric = cars[numeric_cols]\n",
    "cars_numeric.head()"
   ]
  },
  {
   "cell_type": "markdown",
   "metadata": {},
   "source": [
    "There are some missing values in the `normalized_losses` column. We also want to replace these and set all the columns data types to numeric or int. We will only chance those who are of type `object`"
   ]
  },
  {
   "cell_type": "code",
   "execution_count": 99,
   "metadata": {},
   "outputs": [
    {
     "data": {
      "text/plain": [
       "normalized_losses    float64\n",
       "wheel_base           float64\n",
       "length               float64\n",
       "width                float64\n",
       "height               float64\n",
       "curb_weight            int64\n",
       "engine_size            int64\n",
       "bore                 float64\n",
       "stroke               float64\n",
       "compression_ratio    float64\n",
       "horsepower           float64\n",
       "peak_rpm             float64\n",
       "city_mpg               int64\n",
       "highway_mpg            int64\n",
       "price                float64\n",
       "dtype: object"
      ]
     },
     "execution_count": 99,
     "metadata": {},
     "output_type": "execute_result"
    }
   ],
   "source": [
    "cars_numeric = cars_numeric.replace('?', np.nan)\n",
    "cars_numeric.loc[:,cars_numeric.dtypes == object] = cars_numeric.loc[:,cars_numeric.dtypes == object].astype(float)\n",
    "cars_numeric.dtypes"
   ]
  },
  {
   "cell_type": "markdown",
   "metadata": {},
   "source": [
    "After tranforming the data we need to remove all NaN values. We can use here different methods, like:\n",
    "+ replacing NaN value with the mean of the column (advantage is that we do not loose data)\n",
    "+ replace all with zeroes (changes distribution of the data)\n",
    "+ drop the rows (we may loose important data on other columns)\n",
    "+ drop the columns (makes only sense if the columns contain too much NAN)"
   ]
  },
  {
   "cell_type": "code",
   "execution_count": 100,
   "metadata": {},
   "outputs": [
    {
     "name": "stdout",
     "output_type": "stream",
     "text": [
      "<class 'pandas.core.frame.DataFrame'>\n",
      "RangeIndex: 205 entries, 0 to 204\n",
      "Data columns (total 15 columns):\n",
      " #   Column             Non-Null Count  Dtype  \n",
      "---  ------             --------------  -----  \n",
      " 0   normalized_losses  164 non-null    float64\n",
      " 1   wheel_base         205 non-null    float64\n",
      " 2   length             205 non-null    float64\n",
      " 3   width              205 non-null    float64\n",
      " 4   height             205 non-null    float64\n",
      " 5   curb_weight        205 non-null    int64  \n",
      " 6   engine_size        205 non-null    int64  \n",
      " 7   bore               201 non-null    float64\n",
      " 8   stroke             201 non-null    float64\n",
      " 9   compression_ratio  205 non-null    float64\n",
      " 10  horsepower         203 non-null    float64\n",
      " 11  peak_rpm           203 non-null    float64\n",
      " 12  city_mpg           205 non-null    int64  \n",
      " 13  highway_mpg        205 non-null    int64  \n",
      " 14  price              201 non-null    float64\n",
      "dtypes: float64(11), int64(4)\n",
      "memory usage: 24.1 KB\n"
     ]
    }
   ],
   "source": [
    "cars_numeric.info()"
   ]
  },
  {
   "cell_type": "markdown",
   "metadata": {},
   "source": [
    "Here we see that out of the 205 entries in the dataframe the `normalized_losses` column contains the majority of missing values, around 20\\% of the total rows. The other columns contain 2-3 missing values. Since we do not have a very big dataset, we will proceed to replace all missing values with the mean."
   ]
  },
  {
   "cell_type": "code",
   "execution_count": 101,
   "metadata": {},
   "outputs": [],
   "source": [
    "cars_numeric = cars_numeric.fillna(cars_numeric.mean())"
   ]
  },
  {
   "cell_type": "code",
   "execution_count": 102,
   "metadata": {},
   "outputs": [
    {
     "name": "stdout",
     "output_type": "stream",
     "text": [
      "<class 'pandas.core.frame.DataFrame'>\n",
      "RangeIndex: 205 entries, 0 to 204\n",
      "Data columns (total 15 columns):\n",
      " #   Column             Non-Null Count  Dtype  \n",
      "---  ------             --------------  -----  \n",
      " 0   normalized_losses  205 non-null    float64\n",
      " 1   wheel_base         205 non-null    float64\n",
      " 2   length             205 non-null    float64\n",
      " 3   width              205 non-null    float64\n",
      " 4   height             205 non-null    float64\n",
      " 5   curb_weight        205 non-null    int64  \n",
      " 6   engine_size        205 non-null    int64  \n",
      " 7   bore               205 non-null    float64\n",
      " 8   stroke             205 non-null    float64\n",
      " 9   compression_ratio  205 non-null    float64\n",
      " 10  horsepower         205 non-null    float64\n",
      " 11  peak_rpm           205 non-null    float64\n",
      " 12  city_mpg           205 non-null    int64  \n",
      " 13  highway_mpg        205 non-null    int64  \n",
      " 14  price              205 non-null    float64\n",
      "dtypes: float64(11), int64(4)\n",
      "memory usage: 24.1 KB\n"
     ]
    }
   ],
   "source": [
    "cars_numeric.info()"
   ]
  },
  {
   "cell_type": "markdown",
   "metadata": {},
   "source": [
    "Algorithms like KNN are delicate when it comes to different data scales, therefore we will normalize the data first. The method used will be a `z-score` transformation:\n",
    "\\begin{equation}\n",
    "zscore = \\frac{x-\\mu}{\\sigma}\n",
    "\\end{equation}\n",
    "\n",
    "\n",
    ">There is a method called `sklearn.preprocessing.StandardScaler` inside scikit learn. This method Standardize features by removing the mean and scaling to unit variance. The advantage here is that the transformation parameters remain saved in a `StandardScaler` object and can be used for rescaling the data afterwards.\n"
   ]
  },
  {
   "cell_type": "code",
   "execution_count": 103,
   "metadata": {},
   "outputs": [
    {
     "data": {
      "text/html": [
       "<div>\n",
       "<style scoped>\n",
       "    .dataframe tbody tr th:only-of-type {\n",
       "        vertical-align: middle;\n",
       "    }\n",
       "\n",
       "    .dataframe tbody tr th {\n",
       "        vertical-align: top;\n",
       "    }\n",
       "\n",
       "    .dataframe thead th {\n",
       "        text-align: right;\n",
       "    }\n",
       "</style>\n",
       "<table border=\"1\" class=\"dataframe\">\n",
       "  <thead>\n",
       "    <tr style=\"text-align: right;\">\n",
       "      <th></th>\n",
       "      <th>normalized_losses</th>\n",
       "      <th>wheel_base</th>\n",
       "      <th>length</th>\n",
       "      <th>width</th>\n",
       "      <th>height</th>\n",
       "      <th>curb_weight</th>\n",
       "      <th>engine_size</th>\n",
       "      <th>bore</th>\n",
       "      <th>stroke</th>\n",
       "      <th>compression_ratio</th>\n",
       "      <th>horsepower</th>\n",
       "      <th>peak_rpm</th>\n",
       "      <th>city_mpg</th>\n",
       "      <th>highway_mpg</th>\n",
       "      <th>price</th>\n",
       "    </tr>\n",
       "  </thead>\n",
       "  <tbody>\n",
       "    <tr>\n",
       "      <th>0</th>\n",
       "      <td>0.000000</td>\n",
       "      <td>-1.686643</td>\n",
       "      <td>-0.425480</td>\n",
       "      <td>-0.842719</td>\n",
       "      <td>-2.015483</td>\n",
       "      <td>-0.014531</td>\n",
       "      <td>0.074267</td>\n",
       "      <td>0.517822</td>\n",
       "      <td>-1.834912</td>\n",
       "      <td>-0.287645</td>\n",
       "      <td>0.170647</td>\n",
       "      <td>-0.262841</td>\n",
       "      <td>-0.644974</td>\n",
       "      <td>-0.544725</td>\n",
       "      <td>13495.0</td>\n",
       "    </tr>\n",
       "    <tr>\n",
       "      <th>1</th>\n",
       "      <td>0.000000</td>\n",
       "      <td>-1.686643</td>\n",
       "      <td>-0.425480</td>\n",
       "      <td>-0.842719</td>\n",
       "      <td>-2.015483</td>\n",
       "      <td>-0.014531</td>\n",
       "      <td>0.074267</td>\n",
       "      <td>0.517822</td>\n",
       "      <td>-1.834912</td>\n",
       "      <td>-0.287645</td>\n",
       "      <td>0.170647</td>\n",
       "      <td>-0.262841</td>\n",
       "      <td>-0.644974</td>\n",
       "      <td>-0.544725</td>\n",
       "      <td>16500.0</td>\n",
       "    </tr>\n",
       "    <tr>\n",
       "      <th>2</th>\n",
       "      <td>0.000000</td>\n",
       "      <td>-0.706865</td>\n",
       "      <td>-0.230948</td>\n",
       "      <td>-0.190101</td>\n",
       "      <td>-0.542200</td>\n",
       "      <td>0.513625</td>\n",
       "      <td>0.602571</td>\n",
       "      <td>-2.398990</td>\n",
       "      <td>0.684245</td>\n",
       "      <td>-0.287645</td>\n",
       "      <td>1.258726</td>\n",
       "      <td>-0.262841</td>\n",
       "      <td>-0.950684</td>\n",
       "      <td>-0.689938</td>\n",
       "      <td>16500.0</td>\n",
       "    </tr>\n",
       "    <tr>\n",
       "      <th>3</th>\n",
       "      <td>1.325715</td>\n",
       "      <td>0.173274</td>\n",
       "      <td>0.206750</td>\n",
       "      <td>0.136209</td>\n",
       "      <td>0.235366</td>\n",
       "      <td>-0.419770</td>\n",
       "      <td>-0.430023</td>\n",
       "      <td>-0.515985</td>\n",
       "      <td>0.461028</td>\n",
       "      <td>-0.035885</td>\n",
       "      <td>-0.057090</td>\n",
       "      <td>0.785423</td>\n",
       "      <td>-0.186409</td>\n",
       "      <td>-0.109087</td>\n",
       "      <td>13950.0</td>\n",
       "    </tr>\n",
       "    <tr>\n",
       "      <th>4</th>\n",
       "      <td>1.325715</td>\n",
       "      <td>0.106848</td>\n",
       "      <td>0.206750</td>\n",
       "      <td>0.229440</td>\n",
       "      <td>0.235366</td>\n",
       "      <td>0.515545</td>\n",
       "      <td>0.218350</td>\n",
       "      <td>-0.515985</td>\n",
       "      <td>0.461028</td>\n",
       "      <td>-0.539405</td>\n",
       "      <td>0.271864</td>\n",
       "      <td>0.785423</td>\n",
       "      <td>-1.103540</td>\n",
       "      <td>-1.270789</td>\n",
       "      <td>17450.0</td>\n",
       "    </tr>\n",
       "  </tbody>\n",
       "</table>\n",
       "</div>"
      ],
      "text/plain": [
       "   normalized_losses  wheel_base    length     width    height  curb_weight  \\\n",
       "0           0.000000   -1.686643 -0.425480 -0.842719 -2.015483    -0.014531   \n",
       "1           0.000000   -1.686643 -0.425480 -0.842719 -2.015483    -0.014531   \n",
       "2           0.000000   -0.706865 -0.230948 -0.190101 -0.542200     0.513625   \n",
       "3           1.325715    0.173274  0.206750  0.136209  0.235366    -0.419770   \n",
       "4           1.325715    0.106848  0.206750  0.229440  0.235366     0.515545   \n",
       "\n",
       "   engine_size      bore    stroke  compression_ratio  horsepower  peak_rpm  \\\n",
       "0     0.074267  0.517822 -1.834912          -0.287645    0.170647 -0.262841   \n",
       "1     0.074267  0.517822 -1.834912          -0.287645    0.170647 -0.262841   \n",
       "2     0.602571 -2.398990  0.684245          -0.287645    1.258726 -0.262841   \n",
       "3    -0.430023 -0.515985  0.461028          -0.035885   -0.057090  0.785423   \n",
       "4     0.218350 -0.515985  0.461028          -0.539405    0.271864  0.785423   \n",
       "\n",
       "   city_mpg  highway_mpg    price  \n",
       "0 -0.644974    -0.544725  13495.0  \n",
       "1 -0.644974    -0.544725  16500.0  \n",
       "2 -0.950684    -0.689938  16500.0  \n",
       "3 -0.186409    -0.109087  13950.0  \n",
       "4 -1.103540    -1.270789  17450.0  "
      ]
     },
     "execution_count": 103,
     "metadata": {},
     "output_type": "execute_result"
    }
   ],
   "source": [
    "price_col = cars_numeric['price']\n",
    "cars_numeric = (cars_numeric-cars_numeric.mean())/cars_numeric.std()\n",
    "cars_numeric['price'] = price_col\n",
    "cars_numeric.head()"
   ]
  },
  {
   "cell_type": "markdown",
   "metadata": {},
   "source": [
    "## Simple Univariative implementation KNN\n",
    "To make things more readable and short, we will create a function that wraps the ML workflow for KNN"
   ]
  },
  {
   "cell_type": "code",
   "execution_count": 104,
   "metadata": {},
   "outputs": [],
   "source": [
    "from sklearn.neighbors import KNeighborsRegressor\n",
    "from sklearn.metrics import mean_squared_error"
   ]
  },
  {
   "cell_type": "code",
   "execution_count": 113,
   "metadata": {},
   "outputs": [],
   "source": [
    "def knn_train_test(X_col, y_col, df):\n",
    "    df = df.sample(frac=1, random_state = 1)\n",
    "    middle = round((df.shape[0])/2)\n",
    "    train = df.iloc[:middle]\n",
    "    test  = df.iloc[middle:]\n",
    "    model = KNeighborsRegressor()\n",
    "    model.fit(train[X_col], train[y_col])\n",
    "    predictions = model.predict(test[X_col])\n",
    "    mse = mean_squared_error(test[y_col], predictions)\n",
    "    return np.sqrt(mse)\n",
    "    "
   ]
  },
  {
   "cell_type": "code",
   "execution_count": 310,
   "metadata": {},
   "outputs": [
    {
     "data": {
      "text/plain": [
       "engine_size          4239.074668\n",
       "curb_weight          4423.698706\n",
       "highway_mpg          4446.839890\n",
       "width                5044.164275\n",
       "horsepower           5108.785348\n",
       "city_mpg             5403.662694\n",
       "length               5447.873016\n",
       "wheel_base           5743.877086\n",
       "bore                 6751.244722\n",
       "compression_ratio    7176.456155\n",
       "normalized_losses    7374.513274\n",
       "height               7585.542704\n",
       "peak_rpm             7939.075339\n",
       "stroke               8086.955504\n",
       "dtype: float64"
      ]
     },
     "execution_count": 310,
     "metadata": {},
     "output_type": "execute_result"
    }
   ],
   "source": [
    "# price is the predictor so we do not iterate over it\n",
    "columns = list(cars_numeric.columns)[:-1]\n",
    "\n",
    "rmse_results = dict()\n",
    "\n",
    "for col in columns:\n",
    "    rmse = knn_train_test([col], 'price', cars_numeric)\n",
    "    rmse_results[col] = rmse\n",
    "\n",
    "rmse_results_series = pd.Series(rmse_results)\n",
    "rmse_results_series.sort_values()"
   ]
  },
  {
   "cell_type": "markdown",
   "metadata": {},
   "source": [
    "Using the default `k` the best performing column was the engine size with an error of 4239 \\$. This error is still very high when trying to predict car prices. Let's modify the function so that it accepts an specific k value"
   ]
  },
  {
   "cell_type": "code",
   "execution_count": 116,
   "metadata": {},
   "outputs": [],
   "source": [
    "def knn_train_test_k(X_col, y_col, df, k):\n",
    "    df = df.sample(frac=1, random_state = 1)\n",
    "    middle = round((df.shape[0])/2)\n",
    "    train = df.iloc[:middle]\n",
    "    test  = df.iloc[middle:]\n",
    "    model = KNeighborsRegressor(n_neighbors=k)\n",
    "    model.fit(train[X_col], train[y_col])\n",
    "    predictions = model.predict(test[X_col])\n",
    "    mse = mean_squared_error(test[y_col], predictions)\n",
    "    return np.sqrt(mse)"
   ]
  },
  {
   "cell_type": "code",
   "execution_count": 148,
   "metadata": {},
   "outputs": [],
   "source": [
    "kvals = [1,3,5,7,9]\n",
    "\n",
    "results = dict()\n",
    "\n",
    "for col in columns:\n",
    "    rmses = dict()\n",
    "    for k in kvals:\n",
    "        rmse = knn_train_test_k([col], 'price', cars_numeric, k)\n",
    "        rmses[k] = rmse\n",
    "    results[col] = rmses\n",
    "    "
   ]
  },
  {
   "cell_type": "markdown",
   "metadata": {},
   "source": [
    "Here we looped trough all columns while changing `k` every time. The result is a dataframe containing all errors for all column combinations with `k`= [1,3,5,7,9]"
   ]
  },
  {
   "cell_type": "code",
   "execution_count": 309,
   "metadata": {},
   "outputs": [
    {
     "data": {
      "text/html": [
       "<div>\n",
       "<style scoped>\n",
       "    .dataframe tbody tr th:only-of-type {\n",
       "        vertical-align: middle;\n",
       "    }\n",
       "\n",
       "    .dataframe tbody tr th {\n",
       "        vertical-align: top;\n",
       "    }\n",
       "\n",
       "    .dataframe thead th {\n",
       "        text-align: right;\n",
       "    }\n",
       "</style>\n",
       "<table border=\"1\" class=\"dataframe\">\n",
       "  <thead>\n",
       "    <tr style=\"text-align: right;\">\n",
       "      <th></th>\n",
       "      <th>level_0</th>\n",
       "      <th>index</th>\n",
       "      <th>normalized_losses</th>\n",
       "      <th>wheel_base</th>\n",
       "      <th>length</th>\n",
       "      <th>width</th>\n",
       "      <th>height</th>\n",
       "      <th>curb_weight</th>\n",
       "      <th>engine_size</th>\n",
       "      <th>bore</th>\n",
       "      <th>stroke</th>\n",
       "      <th>compression_ratio</th>\n",
       "      <th>horsepower</th>\n",
       "      <th>peak_rpm</th>\n",
       "      <th>city_mpg</th>\n",
       "      <th>highway_mpg</th>\n",
       "    </tr>\n",
       "  </thead>\n",
       "  <tbody>\n",
       "    <tr>\n",
       "      <th>0</th>\n",
       "      <td>0</td>\n",
       "      <td>1</td>\n",
       "      <td>7006.512481</td>\n",
       "      <td>5392.627599</td>\n",
       "      <td>6900.228179</td>\n",
       "      <td>5739.245757</td>\n",
       "      <td>10653.050778</td>\n",
       "      <td>5842.169654</td>\n",
       "      <td>4775.980595</td>\n",
       "      <td>8041.499196</td>\n",
       "      <td>7345.451364</td>\n",
       "      <td>7255.772135</td>\n",
       "      <td>5261.091646</td>\n",
       "      <td>9386.461613</td>\n",
       "      <td>6449.848972</td>\n",
       "      <td>4445.090471</td>\n",
       "    </tr>\n",
       "    <tr>\n",
       "      <th>1</th>\n",
       "      <td>1</td>\n",
       "      <td>3</td>\n",
       "      <td>7042.576107</td>\n",
       "      <td>5629.538535</td>\n",
       "      <td>5156.398911</td>\n",
       "      <td>5291.949722</td>\n",
       "      <td>8007.569463</td>\n",
       "      <td>4527.849193</td>\n",
       "      <td>4211.354845</td>\n",
       "      <td>6365.263940</td>\n",
       "      <td>7455.212314</td>\n",
       "      <td>7486.020800</td>\n",
       "      <td>5049.214516</td>\n",
       "      <td>8096.114657</td>\n",
       "      <td>4810.004962</td>\n",
       "      <td>4457.633561</td>\n",
       "    </tr>\n",
       "    <tr>\n",
       "      <th>2</th>\n",
       "      <td>2</td>\n",
       "      <td>5</td>\n",
       "      <td>7374.513274</td>\n",
       "      <td>5743.877086</td>\n",
       "      <td>5447.873016</td>\n",
       "      <td>5044.164275</td>\n",
       "      <td>7585.542704</td>\n",
       "      <td>4423.698706</td>\n",
       "      <td>4239.074668</td>\n",
       "      <td>6751.244722</td>\n",
       "      <td>8086.955504</td>\n",
       "      <td>7176.456155</td>\n",
       "      <td>5108.785348</td>\n",
       "      <td>7939.075339</td>\n",
       "      <td>5403.662694</td>\n",
       "      <td>4446.839890</td>\n",
       "    </tr>\n",
       "    <tr>\n",
       "      <th>3</th>\n",
       "      <td>3</td>\n",
       "      <td>7</td>\n",
       "      <td>7728.312930</td>\n",
       "      <td>6048.744598</td>\n",
       "      <td>5618.217315</td>\n",
       "      <td>4943.240180</td>\n",
       "      <td>7682.757047</td>\n",
       "      <td>4323.456382</td>\n",
       "      <td>4039.735089</td>\n",
       "      <td>7253.321959</td>\n",
       "      <td>7917.159131</td>\n",
       "      <td>7333.596990</td>\n",
       "      <td>5037.333187</td>\n",
       "      <td>8123.777550</td>\n",
       "      <td>5200.095570</td>\n",
       "      <td>4322.889211</td>\n",
       "    </tr>\n",
       "    <tr>\n",
       "      <th>4</th>\n",
       "      <td>4</td>\n",
       "      <td>9</td>\n",
       "      <td>7548.850847</td>\n",
       "      <td>6360.529323</td>\n",
       "      <td>5641.760868</td>\n",
       "      <td>4950.275907</td>\n",
       "      <td>7551.423409</td>\n",
       "      <td>4191.592932</td>\n",
       "      <td>4139.674472</td>\n",
       "      <td>7201.352939</td>\n",
       "      <td>8039.431404</td>\n",
       "      <td>7426.772346</td>\n",
       "      <td>4998.054925</td>\n",
       "      <td>8132.849569</td>\n",
       "      <td>5032.601843</td>\n",
       "      <td>4614.682743</td>\n",
       "    </tr>\n",
       "  </tbody>\n",
       "</table>\n",
       "</div>"
      ],
      "text/plain": [
       "   level_0  index  normalized_losses   wheel_base       length        width  \\\n",
       "0        0      1        7006.512481  5392.627599  6900.228179  5739.245757   \n",
       "1        1      3        7042.576107  5629.538535  5156.398911  5291.949722   \n",
       "2        2      5        7374.513274  5743.877086  5447.873016  5044.164275   \n",
       "3        3      7        7728.312930  6048.744598  5618.217315  4943.240180   \n",
       "4        4      9        7548.850847  6360.529323  5641.760868  4950.275907   \n",
       "\n",
       "         height  curb_weight  engine_size         bore       stroke  \\\n",
       "0  10653.050778  5842.169654  4775.980595  8041.499196  7345.451364   \n",
       "1   8007.569463  4527.849193  4211.354845  6365.263940  7455.212314   \n",
       "2   7585.542704  4423.698706  4239.074668  6751.244722  8086.955504   \n",
       "3   7682.757047  4323.456382  4039.735089  7253.321959  7917.159131   \n",
       "4   7551.423409  4191.592932  4139.674472  7201.352939  8039.431404   \n",
       "\n",
       "   compression_ratio   horsepower     peak_rpm     city_mpg  highway_mpg  \n",
       "0        7255.772135  5261.091646  9386.461613  6449.848972  4445.090471  \n",
       "1        7486.020800  5049.214516  8096.114657  4810.004962  4457.633561  \n",
       "2        7176.456155  5108.785348  7939.075339  5403.662694  4446.839890  \n",
       "3        7333.596990  5037.333187  8123.777550  5200.095570  4322.889211  \n",
       "4        7426.772346  4998.054925  8132.849569  5032.601843  4614.682743  "
      ]
     },
     "execution_count": 309,
     "metadata": {},
     "output_type": "execute_result"
    }
   ],
   "source": [
    "results = pd.DataFrame(results).reset_index()\n",
    "results.head()"
   ]
  },
  {
   "cell_type": "markdown",
   "metadata": {},
   "source": [
    "we could make a plot to visualize the error after fitting KNN along `k`"
   ]
  },
  {
   "cell_type": "code",
   "execution_count": 315,
   "metadata": {},
   "outputs": [
    {
     "data": {
      "text/plain": [
       "<matplotlib.axes._subplots.AxesSubplot at 0x2539ec08710>"
      ]
     },
     "execution_count": 315,
     "metadata": {},
     "output_type": "execute_result"
    },
    {
     "data": {
      "image/png": "[encoded data removed]",
      "text/plain": [
       "<Figure size 1440x576 with 1 Axes>"
      ]
     },
     "metadata": {
      "needs_background": "light"
     },
     "output_type": "display_data"
    }
   ],
   "source": [
    "results.plot(x = 'index', figsize= (20,8))"
   ]
  },
  {
   "cell_type": "markdown",
   "metadata": {},
   "source": [
    "Since all lines are stacked, it can be difficult to see each variable easily. We can create plots for each feature and plot them together. The `results` dataframe is not in a `tidy` format, so it is difficult to apply a plotting function that segregates the data into categories. Waht we want is to create facets with `plotly` or `seaborn`. For this we need to take the dataframe, apply the [`pd.DataFrame.unstack()`](https://pandas.pydata.org/pandas-docs/stable/reference/api/pandas.DataFrame.unstack.html?highlight=unstack#pandas.DataFrame.unstack) method to get a series of the dataframe. We also need drop the index column since we will map this later on when the new dataframe is created. after unstacking we can transform the Series, to a dataframe and reset the axis so that the multilevel axis become columns. Then we rename and map the values of k to the index."
   ]
  },
  {
   "cell_type": "code",
   "execution_count": 220,
   "metadata": {},
   "outputs": [],
   "source": [
    "results_unstacked = pd.DataFrame(results.drop('index', axis=1).unstack()).reset_index()"
   ]
  },
  {
   "cell_type": "code",
   "execution_count": 221,
   "metadata": {},
   "outputs": [],
   "source": [
    "results_unstacked.rename(columns={'level_0':'feature', 'level_1':'k', 0 :'error'}, inplace=True)"
   ]
  },
  {
   "cell_type": "code",
   "execution_count": 222,
   "metadata": {
    "scrolled": true
   },
   "outputs": [],
   "source": [
    "results_unstacked['k'] = results_unstacked['k'].map({0:1, 1:3, 2:5, 3:7, 4:9})"
   ]
  },
  {
   "cell_type": "code",
   "execution_count": 306,
   "metadata": {},
   "outputs": [],
   "source": [
    "# from plotnine import *\n",
    "import matplotlib.pyplot as plt\n",
    "import seaborn as sns"
   ]
  },
  {
   "cell_type": "code",
   "execution_count": 307,
   "metadata": {},
   "outputs": [],
   "source": [
    "# g = sns.FacetGrid(results_unstacked, col=\"feature\", col_wrap=3)\n",
    "# g = g.map(plt.scatter, \"k\", 'error')"
   ]
  },
  {
   "cell_type": "markdown",
   "metadata": {},
   "source": [
    "Using `plotly` we can create interactive plots for all the features"
   ]
  },
  {
   "cell_type": "code",
   "execution_count": 308,
   "metadata": {
    "scrolled": false
   },
   "outputs": [
    {
     "data": {
      "application/vnd.plotly.v1+json": {
       "config": {
        "plotlyServerURL": "https://plot.ly"
       },
       "data": [
        {
         "hovertemplate": "feature=normalized_losses<br>k=%{x}<br>error=%{y}<extra></extra>",
         "legendgroup": "",
         "line": {
          "color": "#636efa",
          "dash": "solid"
         },
         "mode": "lines",
         "name": "",
         "orientation": "v",
         "showlegend": false,
         "type": "scatter",
         "x": [
          1,
          3,
          5,
          7,
          9
         ],
         "xaxis": "x13",
         "y": [
          7006.512480905608,
          7042.576107480127,
          7374.513274367573,
          7728.312930443017,
          7548.850847121035
         ],
         "yaxis": "y13"
        },
        {
         "hovertemplate": "feature=wheel_base<br>k=%{x}<br>error=%{y}<extra></extra>",
         "legendgroup": "",
         "line": {
          "color": "#636efa",
          "dash": "solid"
         },
         "mode": "lines",
         "name": "",
         "orientation": "v",
         "showlegend": false,
         "type": "scatter",
         "x": [
          1,
          3,
          5,
          7,
          9
         ],
         "xaxis": "x14",
         "y": [
          5392.627599369409,
          5629.538534558065,
          5743.8770860517825,
          6048.744597831812,
          6360.529322830884
         ],
         "yaxis": "y14"
        },
        {
         "hovertemplate": "feature=length<br>k=%{x}<br>error=%{y}<extra></extra>",
         "legendgroup": "",
         "line": {
          "color": "#636efa",
          "dash": "solid"
         },
         "mode": "lines",
         "name": "",
         "orientation": "v",
         "showlegend": false,
         "type": "scatter",
         "x": [
          1,
          3,
          5,
          7,
          9
         ],
         "xaxis": "x15",
         "y": [
          6900.228179133213,
          5156.398910773989,
          5447.873015588334,
          5618.21731521527,
          5641.7608675924175
         ],
         "yaxis": "y15"
        },
        {
         "hovertemplate": "feature=width<br>k=%{x}<br>error=%{y}<extra></extra>",
         "legendgroup": "",
         "line": {
          "color": "#636efa",
          "dash": "solid"
         },
         "mode": "lines",
         "name": "",
         "orientation": "v",
         "showlegend": false,
         "type": "scatter",
         "x": [
          1,
          3,
          5,
          7,
          9
         ],
         "xaxis": "x16",
         "y": [
          5739.245757378005,
          5291.949721784998,
          5044.16427500471,
          4943.2401799859135,
          4950.275906501314
         ],
         "yaxis": "y16"
        },
        {
         "hovertemplate": "feature=height<br>k=%{x}<br>error=%{y}<extra></extra>",
         "legendgroup": "",
         "line": {
          "color": "#636efa",
          "dash": "solid"
         },
         "mode": "lines",
         "name": "",
         "orientation": "v",
         "showlegend": false,
         "type": "scatter",
         "x": [
          1,
          3,
          5,
          7,
          9
         ],
         "xaxis": "x9",
         "y": [
          10653.050778292903,
          8007.569463050486,
          7585.542704372364,
          7682.757046799387,
          7551.423409015839
         ],
         "yaxis": "y9"
        },
        {
         "hovertemplate": "feature=curb_weight<br>k=%{x}<br>error=%{y}<extra></extra>",
         "legendgroup": "",
         "line": {
          "color": "#636efa",
          "dash": "solid"
         },
         "mode": "lines",
         "name": "",
         "orientation": "v",
         "showlegend": false,
         "type": "scatter",
         "x": [
          1,
          3,
          5,
          7,
          9
         ],
         "xaxis": "x10",
         "y": [
          5842.169653813219,
          4527.849193303364,
          4423.69870603984,
          4323.45638189664,
          4191.592932178259
         ],
         "yaxis": "y10"
        },
        {
         "hovertemplate": "feature=engine_size<br>k=%{x}<br>error=%{y}<extra></extra>",
         "legendgroup": "",
         "line": {
          "color": "#636efa",
          "dash": "solid"
         },
         "mode": "lines",
         "name": "",
         "orientation": "v",
         "showlegend": false,
         "type": "scatter",
         "x": [
          1,
          3,
          5,
          7,
          9
         ],
         "xaxis": "x11",
         "y": [
          4775.980594973188,
          4211.354845313718,
          4239.074668078506,
          4039.7350893553935,
          4139.674472324686
         ],
         "yaxis": "y11"
        },
        {
         "hovertemplate": "feature=bore<br>k=%{x}<br>error=%{y}<extra></extra>",
         "legendgroup": "",
         "line": {
          "color": "#636efa",
          "dash": "solid"
         },
         "mode": "lines",
         "name": "",
         "orientation": "v",
         "showlegend": false,
         "type": "scatter",
         "x": [
          1,
          3,
          5,
          7,
          9
         ],
         "xaxis": "x12",
         "y": [
          8041.499196464682,
          6365.263939733197,
          6751.244722050699,
          7253.321958940013,
          7201.3529394405405
         ],
         "yaxis": "y12"
        },
        {
         "hovertemplate": "feature=stroke<br>k=%{x}<br>error=%{y}<extra></extra>",
         "legendgroup": "",
         "line": {
          "color": "#636efa",
          "dash": "solid"
         },
         "mode": "lines",
         "name": "",
         "orientation": "v",
         "showlegend": false,
         "type": "scatter",
         "x": [
          1,
          3,
          5,
          7,
          9
         ],
         "xaxis": "x5",
         "y": [
          7345.451363903154,
          7455.212313651712,
          8086.9555036077645,
          7917.159131013373,
          8039.431403594905
         ],
         "yaxis": "y5"
        },
        {
         "hovertemplate": "feature=compression_ratio<br>k=%{x}<br>error=%{y}<extra></extra>",
         "legendgroup": "",
         "line": {
          "color": "#636efa",
          "dash": "solid"
         },
         "mode": "lines",
         "name": "",
         "orientation": "v",
         "showlegend": false,
         "type": "scatter",
         "x": [
          1,
          3,
          5,
          7,
          9
         ],
         "xaxis": "x6",
         "y": [
          7255.772135357892,
          7486.020799595277,
          7176.456154697649,
          7333.596989905029,
          7426.77234607814
         ],
         "yaxis": "y6"
        },
        {
         "hovertemplate": "feature=horsepower<br>k=%{x}<br>error=%{y}<extra></extra>",
         "legendgroup": "",
         "line": {
          "color": "#636efa",
          "dash": "solid"
         },
         "mode": "lines",
         "name": "",
         "orientation": "v",
         "showlegend": false,
         "type": "scatter",
         "x": [
          1,
          3,
          5,
          7,
          9
         ],
         "xaxis": "x7",
         "y": [
          5261.091645623908,
          5049.214516007368,
          5108.785347931451,
          5037.333187113799,
          4998.054925139722
         ],
         "yaxis": "y7"
        },
        {
         "hovertemplate": "feature=peak_rpm<br>k=%{x}<br>error=%{y}<extra></extra>",
         "legendgroup": "",
         "line": {
          "color": "#636efa",
          "dash": "solid"
         },
         "mode": "lines",
         "name": "",
         "orientation": "v",
         "showlegend": false,
         "type": "scatter",
         "x": [
          1,
          3,
          5,
          7,
          9
         ],
         "xaxis": "x8",
         "y": [
          9386.46161279999,
          8096.1146568480835,
          7939.0753385707285,
          8123.777549692145,
          8132.849569148651
         ],
         "yaxis": "y8"
        },
        {
         "hovertemplate": "feature=city_mpg<br>k=%{x}<br>error=%{y}<extra></extra>",
         "legendgroup": "",
         "line": {
          "color": "#636efa",
          "dash": "solid"
         },
         "mode": "lines",
         "name": "",
         "orientation": "v",
         "showlegend": false,
         "type": "scatter",
         "x": [
          1,
          3,
          5,
          7,
          9
         ],
         "xaxis": "x",
         "y": [
          6449.848972168971,
          4810.00496213503,
          5403.662693647658,
          5200.095570083624,
          5032.601843233047
         ],
         "yaxis": "y"
        },
        {
         "hovertemplate": "feature=highway_mpg<br>k=%{x}<br>error=%{y}<extra></extra>",
         "legendgroup": "",
         "line": {
          "color": "#636efa",
          "dash": "solid"
         },
         "mode": "lines",
         "name": "",
         "orientation": "v",
         "showlegend": false,
         "type": "scatter",
         "x": [
          1,
          3,
          5,
          7,
          9
         ],
         "xaxis": "x2",
         "y": [
          4445.090471315778,
          4457.633560532175,
          4446.83988978338,
          4322.889210504369,
          4614.682743015354
         ],
         "yaxis": "y2"
        }
       ],
       "layout": {
        "annotations": [
         {
          "font": {},
          "showarrow": false,
          "text": "feature=city_mpg",
          "x": 0.1175,
          "xanchor": "center",
          "xref": "paper",
          "y": 0.1975,
          "yanchor": "bottom",
          "yref": "paper"
         },
         {
          "font": {},
          "showarrow": false,
          "text": "feature=highway_mpg",
          "x": 0.3725,
          "xanchor": "center",
          "xref": "paper",
          "y": 0.1975,
          "yanchor": "bottom",
          "yref": "paper"
         },
         {
          "font": {},
          "showarrow": false,
          "text": "feature=stroke",
          "x": 0.1175,
          "xanchor": "center",
          "xref": "paper",
          "y": 0.465,
          "yanchor": "bottom",
          "yref": "paper"
         },
         {
          "font": {},
          "showarrow": false,
          "text": "feature=compression_ratio",
          "x": 0.3725,
          "xanchor": "center",
          "xref": "paper",
          "y": 0.465,
          "yanchor": "bottom",
          "yref": "paper"
         },
         {
          "font": {},
          "showarrow": false,
          "text": "feature=horsepower",
          "x": 0.6275,
          "xanchor": "center",
          "xref": "paper",
          "y": 0.465,
          "yanchor": "bottom",
          "yref": "paper"
         },
         {
          "font": {},
          "showarrow": false,
          "text": "feature=peak_rpm",
          "x": 0.8824999999999998,
          "xanchor": "center",
          "xref": "paper",
          "y": 0.465,
          "yanchor": "bottom",
          "yref": "paper"
         },
         {
          "font": {},
          "showarrow": false,
          "text": "feature=height",
          "x": 0.1175,
          "xanchor": "center",
          "xref": "paper",
          "y": 0.7325,
          "yanchor": "bottom",
          "yref": "paper"
         },
         {
          "font": {},
          "showarrow": false,
          "text": "feature=curb_weight",
          "x": 0.3725,
          "xanchor": "center",
          "xref": "paper",
          "y": 0.7325,
          "yanchor": "bottom",
          "yref": "paper"
         },
         {
          "font": {},
          "showarrow": false,
          "text": "feature=engine_size",
          "x": 0.6275,
          "xanchor": "center",
          "xref": "paper",
          "y": 0.7325,
          "yanchor": "bottom",
          "yref": "paper"
         },
         {
          "font": {},
          "showarrow": false,
          "text": "feature=bore",
          "x": 0.8824999999999998,
          "xanchor": "center",
          "xref": "paper",
          "y": 0.7325,
          "yanchor": "bottom",
          "yref": "paper"
         },
         {
          "font": {},
          "showarrow": false,
          "text": "feature=normalized_losses",
          "x": 0.1175,
          "xanchor": "center",
          "xref": "paper",
          "y": 1,
          "yanchor": "bottom",
          "yref": "paper"
         },
         {
          "font": {},
          "showarrow": false,
          "text": "feature=wheel_base",
          "x": 0.3725,
          "xanchor": "center",
          "xref": "paper",
          "y": 1,
          "yanchor": "bottom",
          "yref": "paper"
         },
         {
          "font": {},
          "showarrow": false,
          "text": "feature=length",
          "x": 0.6275,
          "xanchor": "center",
          "xref": "paper",
          "y": 1,
          "yanchor": "bottom",
          "yref": "paper"
         },
         {
          "font": {},
          "showarrow": false,
          "text": "feature=width",
          "x": 0.8824999999999998,
          "xanchor": "center",
          "xref": "paper",
          "y": 1,
          "yanchor": "bottom",
          "yref": "paper"
         }
        ],
        "legend": {
         "tracegroupgap": 0
        },
        "margin": {
         "t": 60
        },
        "template": {
         "data": {
          "bar": [
           {
            "error_x": {
             "color": "#2a3f5f"
            },
            "error_y": {
             "color": "#2a3f5f"
            },
            "marker": {
             "line": {
              "color": "#E5ECF6",
              "width": 0.5
             }
            },
            "type": "bar"
           }
          ],
          "barpolar": [
           {
            "marker": {
             "line": {
              "color": "#E5ECF6",
              "width": 0.5
             }
            },
            "type": "barpolar"
           }
          ],
          "carpet": [
           {
            "aaxis": {
             "endlinecolor": "#2a3f5f",
             "gridcolor": "white",
             "linecolor": "white",
             "minorgridcolor": "white",
             "startlinecolor": "#2a3f5f"
            },
            "baxis": {
             "endlinecolor": "#2a3f5f",
             "gridcolor": "white",
             "linecolor": "white",
             "minorgridcolor": "white",
             "startlinecolor": "#2a3f5f"
            },
            "type": "carpet"
           }
          ],
          "choropleth": [
           {
            "colorbar": {
             "outlinewidth": 0,
             "ticks": ""
            },
            "type": "choropleth"
           }
          ],
          "contour": [
           {
            "colorbar": {
             "outlinewidth": 0,
             "ticks": ""
            },
            "colorscale": [
             [
              0,
              "#0d0887"
             ],
             [
              0.1111111111111111,
              "#46039f"
             ],
             [
              0.2222222222222222,
              "#7201a8"
             ],
             [
              0.3333333333333333,
              "#9c179e"
             ],
             [
              0.4444444444444444,
              "#bd3786"
             ],
             [
              0.5555555555555556,
              "#d8576b"
             ],
             [
              0.6666666666666666,
              "#ed7953"
             ],
             [
              0.7777777777777778,
              "#fb9f3a"
             ],
             [
              0.8888888888888888,
              "#fdca26"
             ],
             [
              1,
              "#f0f921"
             ]
            ],
            "type": "contour"
           }
          ],
          "contourcarpet": [
           {
            "colorbar": {
             "outlinewidth": 0,
             "ticks": ""
            },
            "type": "contourcarpet"
           }
          ],
          "heatmap": [
           {
            "colorbar": {
             "outlinewidth": 0,
             "ticks": ""
            },
            "colorscale": [
             [
              0,
              "#0d0887"
             ],
             [
              0.1111111111111111,
              "#46039f"
             ],
             [
              0.2222222222222222,
              "#7201a8"
             ],
             [
              0.3333333333333333,
              "#9c179e"
             ],
             [
              0.4444444444444444,
              "#bd3786"
             ],
             [
              0.5555555555555556,
              "#d8576b"
             ],
             [
              0.6666666666666666,
              "#ed7953"
             ],
             [
              0.7777777777777778,
              "#fb9f3a"
             ],
             [
              0.8888888888888888,
              "#fdca26"
             ],
             [
              1,
              "#f0f921"
             ]
            ],
            "type": "heatmap"
           }
          ],
          "heatmapgl": [
           {
            "colorbar": {
             "outlinewidth": 0,
             "ticks": ""
            },
            "colorscale": [
             [
              0,
              "#0d0887"
             ],
             [
              0.1111111111111111,
              "#46039f"
             ],
             [
              0.2222222222222222,
              "#7201a8"
             ],
             [
              0.3333333333333333,
              "#9c179e"
             ],
             [
              0.4444444444444444,
              "#bd3786"
             ],
             [
              0.5555555555555556,
              "#d8576b"
             ],
             [
              0.6666666666666666,
              "#ed7953"
             ],
             [
              0.7777777777777778,
              "#fb9f3a"
             ],
             [
              0.8888888888888888,
              "#fdca26"
             ],
             [
              1,
              "#f0f921"
             ]
            ],
            "type": "heatmapgl"
           }
          ],
          "histogram": [
           {
            "marker": {
             "colorbar": {
              "outlinewidth": 0,
              "ticks": ""
             }
            },
            "type": "histogram"
           }
          ],
          "histogram2d": [
           {
            "colorbar": {
             "outlinewidth": 0,
             "ticks": ""
            },
            "colorscale": [
             [
              0,
              "#0d0887"
             ],
             [
              0.1111111111111111,
              "#46039f"
             ],
             [
              0.2222222222222222,
              "#7201a8"
             ],
             [
              0.3333333333333333,
              "#9c179e"
             ],
             [
              0.4444444444444444,
              "#bd3786"
             ],
             [
              0.5555555555555556,
              "#d8576b"
             ],
             [
              0.6666666666666666,
              "#ed7953"
             ],
             [
              0.7777777777777778,
              "#fb9f3a"
             ],
             [
              0.8888888888888888,
              "#fdca26"
             ],
             [
              1,
              "#f0f921"
             ]
            ],
            "type": "histogram2d"
           }
          ],
          "histogram2dcontour": [
           {
            "colorbar": {
             "outlinewidth": 0,
             "ticks": ""
            },
            "colorscale": [
             [
              0,
              "#0d0887"
             ],
             [
              0.1111111111111111,
              "#46039f"
             ],
             [
              0.2222222222222222,
              "#7201a8"
             ],
             [
              0.3333333333333333,
              "#9c179e"
             ],
             [
              0.4444444444444444,
              "#bd3786"
             ],
             [
              0.5555555555555556,
              "#d8576b"
             ],
             [
              0.6666666666666666,
              "#ed7953"
             ],
             [
              0.7777777777777778,
              "#fb9f3a"
             ],
             [
              0.8888888888888888,
              "#fdca26"
             ],
             [
              1,
              "#f0f921"
             ]
            ],
            "type": "histogram2dcontour"
           }
          ],
          "mesh3d": [
           {
            "colorbar": {
             "outlinewidth": 0,
             "ticks": ""
            },
            "type": "mesh3d"
           }
          ],
          "parcoords": [
           {
            "line": {
             "colorbar": {
              "outlinewidth": 0,
              "ticks": ""
             }
            },
            "type": "parcoords"
           }
          ],
          "pie": [
           {
            "automargin": true,
            "type": "pie"
           }
          ],
          "scatter": [
           {
            "marker": {
             "colorbar": {
              "outlinewidth": 0,
              "ticks": ""
             }
            },
            "type": "scatter"
           }
          ],
          "scatter3d": [
           {
            "line": {
             "colorbar": {
              "outlinewidth": 0,
              "ticks": ""
             }
            },
            "marker": {
             "colorbar": {
              "outlinewidth": 0,
              "ticks": ""
             }
            },
            "type": "scatter3d"
           }
          ],
          "scattercarpet": [
           {
            "marker": {
             "colorbar": {
              "outlinewidth": 0,
              "ticks": ""
             }
            },
            "type": "scattercarpet"
           }
          ],
          "scattergeo": [
           {
            "marker": {
             "colorbar": {
              "outlinewidth": 0,
              "ticks": ""
             }
            },
            "type": "scattergeo"
           }
          ],
          "scattergl": [
           {
            "marker": {
             "colorbar": {
              "outlinewidth": 0,
              "ticks": ""
             }
            },
            "type": "scattergl"
           }
          ],
          "scattermapbox": [
           {
            "marker": {
             "colorbar": {
              "outlinewidth": 0,
              "ticks": ""
             }
            },
            "type": "scattermapbox"
           }
          ],
          "scatterpolar": [
           {
            "marker": {
             "colorbar": {
              "outlinewidth": 0,
              "ticks": ""
             }
            },
            "type": "scatterpolar"
           }
          ],
          "scatterpolargl": [
           {
            "marker": {
             "colorbar": {
              "outlinewidth": 0,
              "ticks": ""
             }
            },
            "type": "scatterpolargl"
           }
          ],
          "scatterternary": [
           {
            "marker": {
             "colorbar": {
              "outlinewidth": 0,
              "ticks": ""
             }
            },
            "type": "scatterternary"
           }
          ],
          "surface": [
           {
            "colorbar": {
             "outlinewidth": 0,
             "ticks": ""
            },
            "colorscale": [
             [
              0,
              "#0d0887"
             ],
             [
              0.1111111111111111,
              "#46039f"
             ],
             [
              0.2222222222222222,
              "#7201a8"
             ],
             [
              0.3333333333333333,
              "#9c179e"
             ],
             [
              0.4444444444444444,
              "#bd3786"
             ],
             [
              0.5555555555555556,
              "#d8576b"
             ],
             [
              0.6666666666666666,
              "#ed7953"
             ],
             [
              0.7777777777777778,
              "#fb9f3a"
             ],
             [
              0.8888888888888888,
              "#fdca26"
             ],
             [
              1,
              "#f0f921"
             ]
            ],
            "type": "surface"
           }
          ],
          "table": [
           {
            "cells": {
             "fill": {
              "color": "#EBF0F8"
             },
             "line": {
              "color": "white"
             }
            },
            "header": {
             "fill": {
              "color": "#C8D4E3"
             },
             "line": {
              "color": "white"
             }
            },
            "type": "table"
           }
          ]
         },
         "layout": {
          "annotationdefaults": {
           "arrowcolor": "#2a3f5f",
           "arrowhead": 0,
           "arrowwidth": 1
          },
          "coloraxis": {
           "colorbar": {
            "outlinewidth": 0,
            "ticks": ""
           }
          },
          "colorscale": {
           "diverging": [
            [
             0,
             "#8e0152"
            ],
            [
             0.1,
             "#c51b7d"
            ],
            [
             0.2,
             "#de77ae"
            ],
            [
             0.3,
             "#f1b6da"
            ],
            [
             0.4,
             "#fde0ef"
            ],
            [
             0.5,
             "#f7f7f7"
            ],
            [
             0.6,
             "#e6f5d0"
            ],
            [
             0.7,
             "#b8e186"
            ],
            [
             0.8,
             "#7fbc41"
            ],
            [
             0.9,
             "#4d9221"
            ],
            [
             1,
             "#276419"
            ]
           ],
           "sequential": [
            [
             0,
             "#0d0887"
            ],
            [
             0.1111111111111111,
             "#46039f"
            ],
            [
             0.2222222222222222,
             "#7201a8"
            ],
            [
             0.3333333333333333,
             "#9c179e"
            ],
            [
             0.4444444444444444,
             "#bd3786"
            ],
            [
             0.5555555555555556,
             "#d8576b"
            ],
            [
             0.6666666666666666,
             "#ed7953"
            ],
            [
             0.7777777777777778,
             "#fb9f3a"
            ],
            [
             0.8888888888888888,
             "#fdca26"
            ],
            [
             1,
             "#f0f921"
            ]
           ],
           "sequentialminus": [
            [
             0,
             "#0d0887"
            ],
            [
             0.1111111111111111,
             "#46039f"
            ],
            [
             0.2222222222222222,
             "#7201a8"
            ],
            [
             0.3333333333333333,
             "#9c179e"
            ],
            [
             0.4444444444444444,
             "#bd3786"
            ],
            [
             0.5555555555555556,
             "#d8576b"
            ],
            [
             0.6666666666666666,
             "#ed7953"
            ],
            [
             0.7777777777777778,
             "#fb9f3a"
            ],
            [
             0.8888888888888888,
             "#fdca26"
            ],
            [
             1,
             "#f0f921"
            ]
           ]
          },
          "colorway": [
           "#636efa",
           "#EF553B",
           "#00cc96",
           "#ab63fa",
           "#FFA15A",
           "#19d3f3",
           "#FF6692",
           "#B6E880",
           "#FF97FF",
           "#FECB52"
          ],
          "font": {
           "color": "#2a3f5f"
          },
          "geo": {
           "bgcolor": "white",
           "lakecolor": "white",
           "landcolor": "#E5ECF6",
           "showlakes": true,
           "showland": true,
           "subunitcolor": "white"
          },
          "hoverlabel": {
           "align": "left"
          },
          "hovermode": "closest",
          "mapbox": {
           "style": "light"
          },
          "paper_bgcolor": "white",
          "plot_bgcolor": "#E5ECF6",
          "polar": {
           "angularaxis": {
            "gridcolor": "white",
            "linecolor": "white",
            "ticks": ""
           },
           "bgcolor": "#E5ECF6",
           "radialaxis": {
            "gridcolor": "white",
            "linecolor": "white",
            "ticks": ""
           }
          },
          "scene": {
           "xaxis": {
            "backgroundcolor": "#E5ECF6",
            "gridcolor": "white",
            "gridwidth": 2,
            "linecolor": "white",
            "showbackground": true,
            "ticks": "",
            "zerolinecolor": "white"
           },
           "yaxis": {
            "backgroundcolor": "#E5ECF6",
            "gridcolor": "white",
            "gridwidth": 2,
            "linecolor": "white",
            "showbackground": true,
            "ticks": "",
            "zerolinecolor": "white"
           },
           "zaxis": {
            "backgroundcolor": "#E5ECF6",
            "gridcolor": "white",
            "gridwidth": 2,
            "linecolor": "white",
            "showbackground": true,
            "ticks": "",
            "zerolinecolor": "white"
           }
          },
          "shapedefaults": {
           "line": {
            "color": "#2a3f5f"
           }
          },
          "ternary": {
           "aaxis": {
            "gridcolor": "white",
            "linecolor": "white",
            "ticks": ""
           },
           "baxis": {
            "gridcolor": "white",
            "linecolor": "white",
            "ticks": ""
           },
           "bgcolor": "#E5ECF6",
           "caxis": {
            "gridcolor": "white",
            "linecolor": "white",
            "ticks": ""
           }
          },
          "title": {
           "x": 0.05
          },
          "xaxis": {
           "automargin": true,
           "gridcolor": "white",
           "linecolor": "white",
           "ticks": "",
           "title": {
            "standoff": 15
           },
           "zerolinecolor": "white",
           "zerolinewidth": 2
          },
          "yaxis": {
           "automargin": true,
           "gridcolor": "white",
           "linecolor": "white",
           "ticks": "",
           "title": {
            "standoff": 15
           },
           "zerolinecolor": "white",
           "zerolinewidth": 2
          }
         }
        },
        "xaxis": {
         "anchor": "y",
         "domain": [
          0,
          0.235
         ],
         "dtick": 2,
         "range": [
          0,
          10
         ],
         "tick0": 1,
         "title": {
          "text": "k"
         }
        },
        "xaxis10": {
         "anchor": "y10",
         "domain": [
          0.255,
          0.49
         ],
         "dtick": 2,
         "matches": "x",
         "range": [
          0,
          10
         ],
         "showticklabels": false,
         "tick0": 1
        },
        "xaxis11": {
         "anchor": "y11",
         "domain": [
          0.51,
          0.745
         ],
         "dtick": 2,
         "matches": "x",
         "range": [
          0,
          10
         ],
         "showticklabels": false,
         "tick0": 1
        },
        "xaxis12": {
         "anchor": "y12",
         "domain": [
          0.7649999999999999,
          0.9999999999999999
         ],
         "dtick": 2,
         "matches": "x",
         "range": [
          0,
          10
         ],
         "showticklabels": false,
         "tick0": 1
        },
        "xaxis13": {
         "anchor": "y13",
         "domain": [
          0,
          0.235
         ],
         "dtick": 2,
         "matches": "x",
         "range": [
          0,
          10
         ],
         "showticklabels": false,
         "tick0": 1
        },
        "xaxis14": {
         "anchor": "y14",
         "domain": [
          0.255,
          0.49
         ],
         "dtick": 2,
         "matches": "x",
         "range": [
          0,
          10
         ],
         "showticklabels": false,
         "tick0": 1
        },
        "xaxis15": {
         "anchor": "y15",
         "domain": [
          0.51,
          0.745
         ],
         "dtick": 2,
         "matches": "x",
         "range": [
          0,
          10
         ],
         "showticklabels": false,
         "tick0": 1
        },
        "xaxis16": {
         "anchor": "y16",
         "domain": [
          0.7649999999999999,
          0.9999999999999999
         ],
         "dtick": 2,
         "matches": "x",
         "range": [
          0,
          10
         ],
         "showticklabels": false,
         "tick0": 1
        },
        "xaxis2": {
         "anchor": "y2",
         "domain": [
          0.255,
          0.49
         ],
         "dtick": 2,
         "matches": "x",
         "range": [
          0,
          10
         ],
         "tick0": 1,
         "title": {
          "text": "k"
         }
        },
        "xaxis3": {
         "anchor": "y3",
         "domain": [
          0.51,
          0.745
         ],
         "dtick": 2,
         "matches": "x",
         "range": [
          0,
          10
         ],
         "tick0": 1,
         "title": {
          "text": "k"
         }
        },
        "xaxis4": {
         "anchor": "y4",
         "domain": [
          0.7649999999999999,
          0.9999999999999999
         ],
         "dtick": 2,
         "matches": "x",
         "range": [
          0,
          10
         ],
         "tick0": 1,
         "title": {
          "text": "k"
         }
        },
        "xaxis5": {
         "anchor": "y5",
         "domain": [
          0,
          0.235
         ],
         "dtick": 2,
         "matches": "x",
         "range": [
          0,
          10
         ],
         "showticklabels": false,
         "tick0": 1
        },
        "xaxis6": {
         "anchor": "y6",
         "domain": [
          0.255,
          0.49
         ],
         "dtick": 2,
         "matches": "x",
         "range": [
          0,
          10
         ],
         "showticklabels": false,
         "tick0": 1
        },
        "xaxis7": {
         "anchor": "y7",
         "domain": [
          0.51,
          0.745
         ],
         "dtick": 2,
         "matches": "x",
         "range": [
          0,
          10
         ],
         "showticklabels": false,
         "tick0": 1
        },
        "xaxis8": {
         "anchor": "y8",
         "domain": [
          0.7649999999999999,
          0.9999999999999999
         ],
         "dtick": 2,
         "matches": "x",
         "range": [
          0,
          10
         ],
         "showticklabels": false,
         "tick0": 1
        },
        "xaxis9": {
         "anchor": "y9",
         "domain": [
          0,
          0.235
         ],
         "dtick": 2,
         "matches": "x",
         "range": [
          0,
          10
         ],
         "showticklabels": false,
         "tick0": 1
        },
        "yaxis": {
         "anchor": "x",
         "domain": [
          0,
          0.1975
         ],
         "title": {
          "text": "error"
         }
        },
        "yaxis10": {
         "anchor": "x10",
         "domain": [
          0.535,
          0.7325
         ],
         "showticklabels": false
        },
        "yaxis11": {
         "anchor": "x11",
         "domain": [
          0.535,
          0.7325
         ],
         "showticklabels": false
        },
        "yaxis12": {
         "anchor": "x12",
         "domain": [
          0.535,
          0.7325
         ],
         "showticklabels": false
        },
        "yaxis13": {
         "anchor": "x13",
         "domain": [
          0.8025,
          1
         ],
         "title": {
          "text": "error"
         }
        },
        "yaxis14": {
         "anchor": "x14",
         "domain": [
          0.8025,
          1
         ],
         "showticklabels": false
        },
        "yaxis15": {
         "anchor": "x15",
         "domain": [
          0.8025,
          1
         ],
         "showticklabels": false
        },
        "yaxis16": {
         "anchor": "x16",
         "domain": [
          0.8025,
          1
         ],
         "showticklabels": false
        },
        "yaxis2": {
         "anchor": "x2",
         "domain": [
          0,
          0.1975
         ],
         "showticklabels": false
        },
        "yaxis3": {
         "anchor": "x3",
         "domain": [
          0,
          0.1975
         ],
         "showticklabels": false
        },
        "yaxis4": {
         "anchor": "x4",
         "domain": [
          0,
          0.1975
         ],
         "showticklabels": false
        },
        "yaxis5": {
         "anchor": "x5",
         "domain": [
          0.2675,
          0.465
         ],
         "title": {
          "text": "error"
         }
        },
        "yaxis6": {
         "anchor": "x6",
         "domain": [
          0.2675,
          0.465
         ],
         "showticklabels": false
        },
        "yaxis7": {
         "anchor": "x7",
         "domain": [
          0.2675,
          0.465
         ],
         "showticklabels": false
        },
        "yaxis8": {
         "anchor": "x8",
         "domain": [
          0.2675,
          0.465
         ],
         "showticklabels": false
        },
        "yaxis9": {
         "anchor": "x9",
         "domain": [
          0.535,
          0.7325
         ],
         "title": {
          "text": "error"
         }
        }
       }
      },
      "text/html": [
       "<div>\n",
       "        \n",
       "        \n",
       "            <div id=\"dfe1b1e3-7725-4e00-a84f-59d7d595bda6\" class=\"plotly-graph-div\" style=\"height:525px; width:100%;\"></div>\n",
       "            <script type=\"text/javascript\">\n",
       "                require([\"plotly\"], function(Plotly) {\n",
       "                    window.PLOTLYENV=window.PLOTLYENV || {};\n",
       "                    \n",
       "                if (document.getElementById(\"dfe1b1e3-7725-4e00-a84f-59d7d595bda6\")) {\n",
       "                    Plotly.newPlot(\n",
       "                        'dfe1b1e3-7725-4e00-a84f-59d7d595bda6',\n",
       "                        [{\"hovertemplate\": \"feature=normalized_losses<br>k=%{x}<br>error=%{y}<extra></extra>\", \"legendgroup\": \"\", \"line\": {\"color\": \"#636efa\", \"dash\": \"solid\"}, \"mode\": \"lines\", \"name\": \"\", \"orientation\": \"v\", \"showlegend\": false, \"type\": \"scatter\", \"x\": [1, 3, 5, 7, 9], \"xaxis\": \"x13\", \"y\": [7006.512480905608, 7042.576107480127, 7374.513274367573, 7728.312930443017, 7548.850847121035], \"yaxis\": \"y13\"}, {\"hovertemplate\": \"feature=wheel_base<br>k=%{x}<br>error=%{y}<extra></extra>\", \"legendgroup\": \"\", \"line\": {\"color\": \"#636efa\", \"dash\": \"solid\"}, \"mode\": \"lines\", \"name\": \"\", \"orientation\": \"v\", \"showlegend\": false, \"type\": \"scatter\", \"x\": [1, 3, 5, 7, 9], \"xaxis\": \"x14\", \"y\": [5392.627599369409, 5629.538534558065, 5743.8770860517825, 6048.744597831812, 6360.529322830884], \"yaxis\": \"y14\"}, {\"hovertemplate\": \"feature=length<br>k=%{x}<br>error=%{y}<extra></extra>\", \"legendgroup\": \"\", \"line\": {\"color\": \"#636efa\", \"dash\": \"solid\"}, \"mode\": \"lines\", \"name\": \"\", \"orientation\": \"v\", \"showlegend\": false, \"type\": \"scatter\", \"x\": [1, 3, 5, 7, 9], \"xaxis\": \"x15\", \"y\": [6900.228179133213, 5156.398910773989, 5447.873015588334, 5618.21731521527, 5641.7608675924175], \"yaxis\": \"y15\"}, {\"hovertemplate\": \"feature=width<br>k=%{x}<br>error=%{y}<extra></extra>\", \"legendgroup\": \"\", \"line\": {\"color\": \"#636efa\", \"dash\": \"solid\"}, \"mode\": \"lines\", \"name\": \"\", \"orientation\": \"v\", \"showlegend\": false, \"type\": \"scatter\", \"x\": [1, 3, 5, 7, 9], \"xaxis\": \"x16\", \"y\": [5739.245757378005, 5291.949721784998, 5044.16427500471, 4943.2401799859135, 4950.275906501314], \"yaxis\": \"y16\"}, {\"hovertemplate\": \"feature=height<br>k=%{x}<br>error=%{y}<extra></extra>\", \"legendgroup\": \"\", \"line\": {\"color\": \"#636efa\", \"dash\": \"solid\"}, \"mode\": \"lines\", \"name\": \"\", \"orientation\": \"v\", \"showlegend\": false, \"type\": \"scatter\", \"x\": [1, 3, 5, 7, 9], \"xaxis\": \"x9\", \"y\": [10653.050778292903, 8007.569463050486, 7585.542704372364, 7682.757046799387, 7551.423409015839], \"yaxis\": \"y9\"}, {\"hovertemplate\": \"feature=curb_weight<br>k=%{x}<br>error=%{y}<extra></extra>\", \"legendgroup\": \"\", \"line\": {\"color\": \"#636efa\", \"dash\": \"solid\"}, \"mode\": \"lines\", \"name\": \"\", \"orientation\": \"v\", \"showlegend\": false, \"type\": \"scatter\", \"x\": [1, 3, 5, 7, 9], \"xaxis\": \"x10\", \"y\": [5842.169653813219, 4527.849193303364, 4423.69870603984, 4323.45638189664, 4191.592932178259], \"yaxis\": \"y10\"}, {\"hovertemplate\": \"feature=engine_size<br>k=%{x}<br>error=%{y}<extra></extra>\", \"legendgroup\": \"\", \"line\": {\"color\": \"#636efa\", \"dash\": \"solid\"}, \"mode\": \"lines\", \"name\": \"\", \"orientation\": \"v\", \"showlegend\": false, \"type\": \"scatter\", \"x\": [1, 3, 5, 7, 9], \"xaxis\": \"x11\", \"y\": [4775.980594973188, 4211.354845313718, 4239.074668078506, 4039.7350893553935, 4139.674472324686], \"yaxis\": \"y11\"}, {\"hovertemplate\": \"feature=bore<br>k=%{x}<br>error=%{y}<extra></extra>\", \"legendgroup\": \"\", \"line\": {\"color\": \"#636efa\", \"dash\": \"solid\"}, \"mode\": \"lines\", \"name\": \"\", \"orientation\": \"v\", \"showlegend\": false, \"type\": \"scatter\", \"x\": [1, 3, 5, 7, 9], \"xaxis\": \"x12\", \"y\": [8041.499196464682, 6365.263939733197, 6751.244722050699, 7253.321958940013, 7201.3529394405405], \"yaxis\": \"y12\"}, {\"hovertemplate\": \"feature=stroke<br>k=%{x}<br>error=%{y}<extra></extra>\", \"legendgroup\": \"\", \"line\": {\"color\": \"#636efa\", \"dash\": \"solid\"}, \"mode\": \"lines\", \"name\": \"\", \"orientation\": \"v\", \"showlegend\": false, \"type\": \"scatter\", \"x\": [1, 3, 5, 7, 9], \"xaxis\": \"x5\", \"y\": [7345.451363903154, 7455.212313651712, 8086.9555036077645, 7917.159131013373, 8039.431403594905], \"yaxis\": \"y5\"}, {\"hovertemplate\": \"feature=compression_ratio<br>k=%{x}<br>error=%{y}<extra></extra>\", \"legendgroup\": \"\", \"line\": {\"color\": \"#636efa\", \"dash\": \"solid\"}, \"mode\": \"lines\", \"name\": \"\", \"orientation\": \"v\", \"showlegend\": false, \"type\": \"scatter\", \"x\": [1, 3, 5, 7, 9], \"xaxis\": \"x6\", \"y\": [7255.772135357892, 7486.020799595277, 7176.456154697649, 7333.596989905029, 7426.77234607814], \"yaxis\": \"y6\"}, {\"hovertemplate\": \"feature=horsepower<br>k=%{x}<br>error=%{y}<extra></extra>\", \"legendgroup\": \"\", \"line\": {\"color\": \"#636efa\", \"dash\": \"solid\"}, \"mode\": \"lines\", \"name\": \"\", \"orientation\": \"v\", \"showlegend\": false, \"type\": \"scatter\", \"x\": [1, 3, 5, 7, 9], \"xaxis\": \"x7\", \"y\": [5261.091645623908, 5049.214516007368, 5108.785347931451, 5037.333187113799, 4998.054925139722], \"yaxis\": \"y7\"}, {\"hovertemplate\": \"feature=peak_rpm<br>k=%{x}<br>error=%{y}<extra></extra>\", \"legendgroup\": \"\", \"line\": {\"color\": \"#636efa\", \"dash\": \"solid\"}, \"mode\": \"lines\", \"name\": \"\", \"orientation\": \"v\", \"showlegend\": false, \"type\": \"scatter\", \"x\": [1, 3, 5, 7, 9], \"xaxis\": \"x8\", \"y\": [9386.46161279999, 8096.1146568480835, 7939.0753385707285, 8123.777549692145, 8132.849569148651], \"yaxis\": \"y8\"}, {\"hovertemplate\": \"feature=city_mpg<br>k=%{x}<br>error=%{y}<extra></extra>\", \"legendgroup\": \"\", \"line\": {\"color\": \"#636efa\", \"dash\": \"solid\"}, \"mode\": \"lines\", \"name\": \"\", \"orientation\": \"v\", \"showlegend\": false, \"type\": \"scatter\", \"x\": [1, 3, 5, 7, 9], \"xaxis\": \"x\", \"y\": [6449.848972168971, 4810.00496213503, 5403.662693647658, 5200.095570083624, 5032.601843233047], \"yaxis\": \"y\"}, {\"hovertemplate\": \"feature=highway_mpg<br>k=%{x}<br>error=%{y}<extra></extra>\", \"legendgroup\": \"\", \"line\": {\"color\": \"#636efa\", \"dash\": \"solid\"}, \"mode\": \"lines\", \"name\": \"\", \"orientation\": \"v\", \"showlegend\": false, \"type\": \"scatter\", \"x\": [1, 3, 5, 7, 9], \"xaxis\": \"x2\", \"y\": [4445.090471315778, 4457.633560532175, 4446.83988978338, 4322.889210504369, 4614.682743015354], \"yaxis\": \"y2\"}],\n",
       "                        {\"annotations\": [{\"font\": {}, \"showarrow\": false, \"text\": \"feature=city_mpg\", \"x\": 0.1175, \"xanchor\": \"center\", \"xref\": \"paper\", \"y\": 0.1975, \"yanchor\": \"bottom\", \"yref\": \"paper\"}, {\"font\": {}, \"showarrow\": false, \"text\": \"feature=highway_mpg\", \"x\": 0.3725, \"xanchor\": \"center\", \"xref\": \"paper\", \"y\": 0.1975, \"yanchor\": \"bottom\", \"yref\": \"paper\"}, {\"font\": {}, \"showarrow\": false, \"text\": \"feature=stroke\", \"x\": 0.1175, \"xanchor\": \"center\", \"xref\": \"paper\", \"y\": 0.465, \"yanchor\": \"bottom\", \"yref\": \"paper\"}, {\"font\": {}, \"showarrow\": false, \"text\": \"feature=compression_ratio\", \"x\": 0.3725, \"xanchor\": \"center\", \"xref\": \"paper\", \"y\": 0.465, \"yanchor\": \"bottom\", \"yref\": \"paper\"}, {\"font\": {}, \"showarrow\": false, \"text\": \"feature=horsepower\", \"x\": 0.6275, \"xanchor\": \"center\", \"xref\": \"paper\", \"y\": 0.465, \"yanchor\": \"bottom\", \"yref\": \"paper\"}, {\"font\": {}, \"showarrow\": false, \"text\": \"feature=peak_rpm\", \"x\": 0.8824999999999998, \"xanchor\": \"center\", \"xref\": \"paper\", \"y\": 0.465, \"yanchor\": \"bottom\", \"yref\": \"paper\"}, {\"font\": {}, \"showarrow\": false, \"text\": \"feature=height\", \"x\": 0.1175, \"xanchor\": \"center\", \"xref\": \"paper\", \"y\": 0.7325, \"yanchor\": \"bottom\", \"yref\": \"paper\"}, {\"font\": {}, \"showarrow\": false, \"text\": \"feature=curb_weight\", \"x\": 0.3725, \"xanchor\": \"center\", \"xref\": \"paper\", \"y\": 0.7325, \"yanchor\": \"bottom\", \"yref\": \"paper\"}, {\"font\": {}, \"showarrow\": false, \"text\": \"feature=engine_size\", \"x\": 0.6275, \"xanchor\": \"center\", \"xref\": \"paper\", \"y\": 0.7325, \"yanchor\": \"bottom\", \"yref\": \"paper\"}, {\"font\": {}, \"showarrow\": false, \"text\": \"feature=bore\", \"x\": 0.8824999999999998, \"xanchor\": \"center\", \"xref\": \"paper\", \"y\": 0.7325, \"yanchor\": \"bottom\", \"yref\": \"paper\"}, {\"font\": {}, \"showarrow\": false, \"text\": \"feature=normalized_losses\", \"x\": 0.1175, \"xanchor\": \"center\", \"xref\": \"paper\", \"y\": 1.0, \"yanchor\": \"bottom\", \"yref\": \"paper\"}, {\"font\": {}, \"showarrow\": false, \"text\": \"feature=wheel_base\", \"x\": 0.3725, \"xanchor\": \"center\", \"xref\": \"paper\", \"y\": 1.0, \"yanchor\": \"bottom\", \"yref\": \"paper\"}, {\"font\": {}, \"showarrow\": false, \"text\": \"feature=length\", \"x\": 0.6275, \"xanchor\": \"center\", \"xref\": \"paper\", \"y\": 1.0, \"yanchor\": \"bottom\", \"yref\": \"paper\"}, {\"font\": {}, \"showarrow\": false, \"text\": \"feature=width\", \"x\": 0.8824999999999998, \"xanchor\": \"center\", \"xref\": \"paper\", \"y\": 1.0, \"yanchor\": \"bottom\", \"yref\": \"paper\"}], \"legend\": {\"tracegroupgap\": 0}, \"margin\": {\"t\": 60}, \"template\": {\"data\": {\"bar\": [{\"error_x\": {\"color\": \"#2a3f5f\"}, \"error_y\": {\"color\": \"#2a3f5f\"}, \"marker\": {\"line\": {\"color\": \"#E5ECF6\", \"width\": 0.5}}, \"type\": \"bar\"}], \"barpolar\": [{\"marker\": {\"line\": {\"color\": \"#E5ECF6\", \"width\": 0.5}}, \"type\": \"barpolar\"}], \"carpet\": [{\"aaxis\": {\"endlinecolor\": \"#2a3f5f\", \"gridcolor\": \"white\", \"linecolor\": \"white\", \"minorgridcolor\": \"white\", \"startlinecolor\": \"#2a3f5f\"}, \"baxis\": {\"endlinecolor\": \"#2a3f5f\", \"gridcolor\": \"white\", \"linecolor\": \"white\", \"minorgridcolor\": \"white\", \"startlinecolor\": \"#2a3f5f\"}, \"type\": \"carpet\"}], \"choropleth\": [{\"colorbar\": {\"outlinewidth\": 0, \"ticks\": \"\"}, \"type\": \"choropleth\"}], \"contour\": [{\"colorbar\": {\"outlinewidth\": 0, \"ticks\": \"\"}, \"colorscale\": [[0.0, \"#0d0887\"], [0.1111111111111111, \"#46039f\"], [0.2222222222222222, \"#7201a8\"], [0.3333333333333333, \"#9c179e\"], [0.4444444444444444, \"#bd3786\"], [0.5555555555555556, \"#d8576b\"], [0.6666666666666666, \"#ed7953\"], [0.7777777777777778, \"#fb9f3a\"], [0.8888888888888888, \"#fdca26\"], [1.0, \"#f0f921\"]], \"type\": \"contour\"}], \"contourcarpet\": [{\"colorbar\": {\"outlinewidth\": 0, \"ticks\": \"\"}, \"type\": \"contourcarpet\"}], \"heatmap\": [{\"colorbar\": {\"outlinewidth\": 0, \"ticks\": \"\"}, \"colorscale\": [[0.0, \"#0d0887\"], [0.1111111111111111, \"#46039f\"], [0.2222222222222222, \"#7201a8\"], [0.3333333333333333, \"#9c179e\"], [0.4444444444444444, \"#bd3786\"], [0.5555555555555556, \"#d8576b\"], [0.6666666666666666, \"#ed7953\"], [0.7777777777777778, \"#fb9f3a\"], [0.8888888888888888, \"#fdca26\"], [1.0, \"#f0f921\"]], \"type\": \"heatmap\"}], \"heatmapgl\": [{\"colorbar\": {\"outlinewidth\": 0, \"ticks\": \"\"}, \"colorscale\": [[0.0, \"#0d0887\"], [0.1111111111111111, \"#46039f\"], [0.2222222222222222, \"#7201a8\"], [0.3333333333333333, \"#9c179e\"], [0.4444444444444444, \"#bd3786\"], [0.5555555555555556, \"#d8576b\"], [0.6666666666666666, \"#ed7953\"], [0.7777777777777778, \"#fb9f3a\"], [0.8888888888888888, \"#fdca26\"], [1.0, \"#f0f921\"]], \"type\": \"heatmapgl\"}], \"histogram\": [{\"marker\": {\"colorbar\": {\"outlinewidth\": 0, \"ticks\": \"\"}}, \"type\": \"histogram\"}], \"histogram2d\": [{\"colorbar\": {\"outlinewidth\": 0, \"ticks\": \"\"}, \"colorscale\": [[0.0, \"#0d0887\"], [0.1111111111111111, \"#46039f\"], [0.2222222222222222, \"#7201a8\"], [0.3333333333333333, \"#9c179e\"], [0.4444444444444444, \"#bd3786\"], [0.5555555555555556, \"#d8576b\"], [0.6666666666666666, \"#ed7953\"], [0.7777777777777778, \"#fb9f3a\"], [0.8888888888888888, \"#fdca26\"], [1.0, \"#f0f921\"]], \"type\": \"histogram2d\"}], \"histogram2dcontour\": [{\"colorbar\": {\"outlinewidth\": 0, \"ticks\": \"\"}, \"colorscale\": [[0.0, \"#0d0887\"], [0.1111111111111111, \"#46039f\"], [0.2222222222222222, \"#7201a8\"], [0.3333333333333333, \"#9c179e\"], [0.4444444444444444, \"#bd3786\"], [0.5555555555555556, \"#d8576b\"], [0.6666666666666666, \"#ed7953\"], [0.7777777777777778, \"#fb9f3a\"], [0.8888888888888888, \"#fdca26\"], [1.0, \"#f0f921\"]], \"type\": \"histogram2dcontour\"}], \"mesh3d\": [{\"colorbar\": {\"outlinewidth\": 0, \"ticks\": \"\"}, \"type\": \"mesh3d\"}], \"parcoords\": [{\"line\": {\"colorbar\": {\"outlinewidth\": 0, \"ticks\": \"\"}}, \"type\": \"parcoords\"}], \"pie\": [{\"automargin\": true, \"type\": \"pie\"}], \"scatter\": [{\"marker\": {\"colorbar\": {\"outlinewidth\": 0, \"ticks\": \"\"}}, \"type\": \"scatter\"}], \"scatter3d\": [{\"line\": {\"colorbar\": {\"outlinewidth\": 0, \"ticks\": \"\"}}, \"marker\": {\"colorbar\": {\"outlinewidth\": 0, \"ticks\": \"\"}}, \"type\": \"scatter3d\"}], \"scattercarpet\": [{\"marker\": {\"colorbar\": {\"outlinewidth\": 0, \"ticks\": \"\"}}, \"type\": \"scattercarpet\"}], \"scattergeo\": [{\"marker\": {\"colorbar\": {\"outlinewidth\": 0, \"ticks\": \"\"}}, \"type\": \"scattergeo\"}], \"scattergl\": [{\"marker\": {\"colorbar\": {\"outlinewidth\": 0, \"ticks\": \"\"}}, \"type\": \"scattergl\"}], \"scattermapbox\": [{\"marker\": {\"colorbar\": {\"outlinewidth\": 0, \"ticks\": \"\"}}, \"type\": \"scattermapbox\"}], \"scatterpolar\": [{\"marker\": {\"colorbar\": {\"outlinewidth\": 0, \"ticks\": \"\"}}, \"type\": \"scatterpolar\"}], \"scatterpolargl\": [{\"marker\": {\"colorbar\": {\"outlinewidth\": 0, \"ticks\": \"\"}}, \"type\": \"scatterpolargl\"}], \"scatterternary\": [{\"marker\": {\"colorbar\": {\"outlinewidth\": 0, \"ticks\": \"\"}}, \"type\": \"scatterternary\"}], \"surface\": [{\"colorbar\": {\"outlinewidth\": 0, \"ticks\": \"\"}, \"colorscale\": [[0.0, \"#0d0887\"], [0.1111111111111111, \"#46039f\"], [0.2222222222222222, \"#7201a8\"], [0.3333333333333333, \"#9c179e\"], [0.4444444444444444, \"#bd3786\"], [0.5555555555555556, \"#d8576b\"], [0.6666666666666666, \"#ed7953\"], [0.7777777777777778, \"#fb9f3a\"], [0.8888888888888888, \"#fdca26\"], [1.0, \"#f0f921\"]], \"type\": \"surface\"}], \"table\": [{\"cells\": {\"fill\": {\"color\": \"#EBF0F8\"}, \"line\": {\"color\": \"white\"}}, \"header\": {\"fill\": {\"color\": \"#C8D4E3\"}, \"line\": {\"color\": \"white\"}}, \"type\": \"table\"}]}, \"layout\": {\"annotationdefaults\": {\"arrowcolor\": \"#2a3f5f\", \"arrowhead\": 0, \"arrowwidth\": 1}, \"coloraxis\": {\"colorbar\": {\"outlinewidth\": 0, \"ticks\": \"\"}}, \"colorscale\": {\"diverging\": [[0, \"#8e0152\"], [0.1, \"#c51b7d\"], [0.2, \"#de77ae\"], [0.3, \"#f1b6da\"], [0.4, \"#fde0ef\"], [0.5, \"#f7f7f7\"], [0.6, \"#e6f5d0\"], [0.7, \"#b8e186\"], [0.8, \"#7fbc41\"], [0.9, \"#4d9221\"], [1, \"#276419\"]], \"sequential\": [[0.0, \"#0d0887\"], [0.1111111111111111, \"#46039f\"], [0.2222222222222222, \"#7201a8\"], [0.3333333333333333, \"#9c179e\"], [0.4444444444444444, \"#bd3786\"], [0.5555555555555556, \"#d8576b\"], [0.6666666666666666, \"#ed7953\"], [0.7777777777777778, \"#fb9f3a\"], [0.8888888888888888, \"#fdca26\"], [1.0, \"#f0f921\"]], \"sequentialminus\": [[0.0, \"#0d0887\"], [0.1111111111111111, \"#46039f\"], [0.2222222222222222, \"#7201a8\"], [0.3333333333333333, \"#9c179e\"], [0.4444444444444444, \"#bd3786\"], [0.5555555555555556, \"#d8576b\"], [0.6666666666666666, \"#ed7953\"], [0.7777777777777778, \"#fb9f3a\"], [0.8888888888888888, \"#fdca26\"], [1.0, \"#f0f921\"]]}, \"colorway\": [\"#636efa\", \"#EF553B\", \"#00cc96\", \"#ab63fa\", \"#FFA15A\", \"#19d3f3\", \"#FF6692\", \"#B6E880\", \"#FF97FF\", \"#FECB52\"], \"font\": {\"color\": \"#2a3f5f\"}, \"geo\": {\"bgcolor\": \"white\", \"lakecolor\": \"white\", \"landcolor\": \"#E5ECF6\", \"showlakes\": true, \"showland\": true, \"subunitcolor\": \"white\"}, \"hoverlabel\": {\"align\": \"left\"}, \"hovermode\": \"closest\", \"mapbox\": {\"style\": \"light\"}, \"paper_bgcolor\": \"white\", \"plot_bgcolor\": \"#E5ECF6\", \"polar\": {\"angularaxis\": {\"gridcolor\": \"white\", \"linecolor\": \"white\", \"ticks\": \"\"}, \"bgcolor\": \"#E5ECF6\", \"radialaxis\": {\"gridcolor\": \"white\", \"linecolor\": \"white\", \"ticks\": \"\"}}, \"scene\": {\"xaxis\": {\"backgroundcolor\": \"#E5ECF6\", \"gridcolor\": \"white\", \"gridwidth\": 2, \"linecolor\": \"white\", \"showbackground\": true, \"ticks\": \"\", \"zerolinecolor\": \"white\"}, \"yaxis\": {\"backgroundcolor\": \"#E5ECF6\", \"gridcolor\": \"white\", \"gridwidth\": 2, \"linecolor\": \"white\", \"showbackground\": true, \"ticks\": \"\", \"zerolinecolor\": \"white\"}, \"zaxis\": {\"backgroundcolor\": \"#E5ECF6\", \"gridcolor\": \"white\", \"gridwidth\": 2, \"linecolor\": \"white\", \"showbackground\": true, \"ticks\": \"\", \"zerolinecolor\": \"white\"}}, \"shapedefaults\": {\"line\": {\"color\": \"#2a3f5f\"}}, \"ternary\": {\"aaxis\": {\"gridcolor\": \"white\", \"linecolor\": \"white\", \"ticks\": \"\"}, \"baxis\": {\"gridcolor\": \"white\", \"linecolor\": \"white\", \"ticks\": \"\"}, \"bgcolor\": \"#E5ECF6\", \"caxis\": {\"gridcolor\": \"white\", \"linecolor\": \"white\", \"ticks\": \"\"}}, \"title\": {\"x\": 0.05}, \"xaxis\": {\"automargin\": true, \"gridcolor\": \"white\", \"linecolor\": \"white\", \"ticks\": \"\", \"title\": {\"standoff\": 15}, \"zerolinecolor\": \"white\", \"zerolinewidth\": 2}, \"yaxis\": {\"automargin\": true, \"gridcolor\": \"white\", \"linecolor\": \"white\", \"ticks\": \"\", \"title\": {\"standoff\": 15}, \"zerolinecolor\": \"white\", \"zerolinewidth\": 2}}}, \"xaxis\": {\"anchor\": \"y\", \"domain\": [0.0, 0.235], \"dtick\": 2, \"range\": [0, 10], \"tick0\": 1, \"title\": {\"text\": \"k\"}}, \"xaxis10\": {\"anchor\": \"y10\", \"domain\": [0.255, 0.49], \"dtick\": 2, \"matches\": \"x\", \"range\": [0, 10], \"showticklabels\": false, \"tick0\": 1}, \"xaxis11\": {\"anchor\": \"y11\", \"domain\": [0.51, 0.745], \"dtick\": 2, \"matches\": \"x\", \"range\": [0, 10], \"showticklabels\": false, \"tick0\": 1}, \"xaxis12\": {\"anchor\": \"y12\", \"domain\": [0.7649999999999999, 0.9999999999999999], \"dtick\": 2, \"matches\": \"x\", \"range\": [0, 10], \"showticklabels\": false, \"tick0\": 1}, \"xaxis13\": {\"anchor\": \"y13\", \"domain\": [0.0, 0.235], \"dtick\": 2, \"matches\": \"x\", \"range\": [0, 10], \"showticklabels\": false, \"tick0\": 1}, \"xaxis14\": {\"anchor\": \"y14\", \"domain\": [0.255, 0.49], \"dtick\": 2, \"matches\": \"x\", \"range\": [0, 10], \"showticklabels\": false, \"tick0\": 1}, \"xaxis15\": {\"anchor\": \"y15\", \"domain\": [0.51, 0.745], \"dtick\": 2, \"matches\": \"x\", \"range\": [0, 10], \"showticklabels\": false, \"tick0\": 1}, \"xaxis16\": {\"anchor\": \"y16\", \"domain\": [0.7649999999999999, 0.9999999999999999], \"dtick\": 2, \"matches\": \"x\", \"range\": [0, 10], \"showticklabels\": false, \"tick0\": 1}, \"xaxis2\": {\"anchor\": \"y2\", \"domain\": [0.255, 0.49], \"dtick\": 2, \"matches\": \"x\", \"range\": [0, 10], \"tick0\": 1, \"title\": {\"text\": \"k\"}}, \"xaxis3\": {\"anchor\": \"y3\", \"domain\": [0.51, 0.745], \"dtick\": 2, \"matches\": \"x\", \"range\": [0, 10], \"tick0\": 1, \"title\": {\"text\": \"k\"}}, \"xaxis4\": {\"anchor\": \"y4\", \"domain\": [0.7649999999999999, 0.9999999999999999], \"dtick\": 2, \"matches\": \"x\", \"range\": [0, 10], \"tick0\": 1, \"title\": {\"text\": \"k\"}}, \"xaxis5\": {\"anchor\": \"y5\", \"domain\": [0.0, 0.235], \"dtick\": 2, \"matches\": \"x\", \"range\": [0, 10], \"showticklabels\": false, \"tick0\": 1}, \"xaxis6\": {\"anchor\": \"y6\", \"domain\": [0.255, 0.49], \"dtick\": 2, \"matches\": \"x\", \"range\": [0, 10], \"showticklabels\": false, \"tick0\": 1}, \"xaxis7\": {\"anchor\": \"y7\", \"domain\": [0.51, 0.745], \"dtick\": 2, \"matches\": \"x\", \"range\": [0, 10], \"showticklabels\": false, \"tick0\": 1}, \"xaxis8\": {\"anchor\": \"y8\", \"domain\": [0.7649999999999999, 0.9999999999999999], \"dtick\": 2, \"matches\": \"x\", \"range\": [0, 10], \"showticklabels\": false, \"tick0\": 1}, \"xaxis9\": {\"anchor\": \"y9\", \"domain\": [0.0, 0.235], \"dtick\": 2, \"matches\": \"x\", \"range\": [0, 10], \"showticklabels\": false, \"tick0\": 1}, \"yaxis\": {\"anchor\": \"x\", \"domain\": [0.0, 0.1975], \"title\": {\"text\": \"error\"}}, \"yaxis10\": {\"anchor\": \"x10\", \"domain\": [0.535, 0.7325], \"showticklabels\": false}, \"yaxis11\": {\"anchor\": \"x11\", \"domain\": [0.535, 0.7325], \"showticklabels\": false}, \"yaxis12\": {\"anchor\": \"x12\", \"domain\": [0.535, 0.7325], \"showticklabels\": false}, \"yaxis13\": {\"anchor\": \"x13\", \"domain\": [0.8025, 1.0], \"title\": {\"text\": \"error\"}}, \"yaxis14\": {\"anchor\": \"x14\", \"domain\": [0.8025, 1.0], \"showticklabels\": false}, \"yaxis15\": {\"anchor\": \"x15\", \"domain\": [0.8025, 1.0], \"showticklabels\": false}, \"yaxis16\": {\"anchor\": \"x16\", \"domain\": [0.8025, 1.0], \"showticklabels\": false}, \"yaxis2\": {\"anchor\": \"x2\", \"domain\": [0.0, 0.1975], \"showticklabels\": false}, \"yaxis3\": {\"anchor\": \"x3\", \"domain\": [0.0, 0.1975], \"showticklabels\": false}, \"yaxis4\": {\"anchor\": \"x4\", \"domain\": [0.0, 0.1975], \"showticklabels\": false}, \"yaxis5\": {\"anchor\": \"x5\", \"domain\": [0.2675, 0.465], \"title\": {\"text\": \"error\"}}, \"yaxis6\": {\"anchor\": \"x6\", \"domain\": [0.2675, 0.465], \"showticklabels\": false}, \"yaxis7\": {\"anchor\": \"x7\", \"domain\": [0.2675, 0.465], \"showticklabels\": false}, \"yaxis8\": {\"anchor\": \"x8\", \"domain\": [0.2675, 0.465], \"showticklabels\": false}, \"yaxis9\": {\"anchor\": \"x9\", \"domain\": [0.535, 0.7325], \"title\": {\"text\": \"error\"}}},\n",
       "                        {\"responsive\": true}\n",
       "                    ).then(function(){\n",
       "                            \n",
       "var gd = document.getElementById('dfe1b1e3-7725-4e00-a84f-59d7d595bda6');\n",
       "var x = new MutationObserver(function (mutations, observer) {{\n",
       "        var display = window.getComputedStyle(gd).display;\n",
       "        if (!display || display === 'none') {{\n",
       "            console.log([gd, 'removed!']);\n",
       "            Plotly.purge(gd);\n",
       "            observer.disconnect();\n",
       "        }}\n",
       "}});\n",
       "\n",
       "// Listen for the removal of the full notebook cells\n",
       "var notebookContainer = gd.closest('#notebook-container');\n",
       "if (notebookContainer) {{\n",
       "    x.observe(notebookContainer, {childList: true});\n",
       "}}\n",
       "\n",
       "// Listen for the clearing of the current output cell\n",
       "var outputEl = gd.closest('.output');\n",
       "if (outputEl) {{\n",
       "    x.observe(outputEl, {childList: true});\n",
       "}}\n",
       "\n",
       "                        })\n",
       "                };\n",
       "                });\n",
       "            </script>\n",
       "        </div>"
      ]
     },
     "metadata": {},
     "output_type": "display_data"
    }
   ],
   "source": [
    "import plotly.express as px\n",
    "fig = px.line(results_unstacked, x=\"k\", y=\"error\", facet_col=\"feature\", facet_col_wrap=4)\n",
    "fig.update_xaxes(tick0 = 1, dtick=2, range=[0,10])\n",
    "fig.update_yaxes(matches=None)\n",
    "fig.show()"
   ]
  },
  {
   "cell_type": "markdown",
   "metadata": {},
   "source": [
    "## Multivariate model\n",
    "Now that we saw some interactions between the single features and predicted using only one variable. it is time to try and optimize the model accuracy. We will modify the function before, to accept more features in the design Matrix."
   ]
  },
  {
   "cell_type": "code",
   "execution_count": 316,
   "metadata": {},
   "outputs": [],
   "source": [
    "def knn_train_test_k_multi(X_col, y_col, df, k=5):\n",
    "    df = df.sample(frac=1, random_state = 1)\n",
    "    middle = round((df.shape[0])/2)\n",
    "    train = df.iloc[:middle]\n",
    "    test  = df.iloc[middle:]\n",
    "    model = KNeighborsRegressor(n_neighbors=k)\n",
    "    model.fit(train[X_col], train[y_col])\n",
    "    predictions = model.predict(test[X_col])\n",
    "    mse = mean_squared_error(test[y_col], predictions)\n",
    "    return np.sqrt(mse)"
   ]
  },
  {
   "cell_type": "code",
   "execution_count": 344,
   "metadata": {},
   "outputs": [],
   "source": [
    "rmse_multi = dict()\n",
    "for feature in range(1,6):\n",
    "    # This returns the indexes as strings in a list fro the sorted features with the smallest error \n",
    "    features = list(rmse_results_series.sort_values().index[:feature])\n",
    "    rmse = knn_train_test_k_multi(features, 'price', cars_numeric)\n",
    "    rmse_multi[feature] = rmse"
   ]
  },
  {
   "cell_type": "code",
   "execution_count": 403,
   "metadata": {},
   "outputs": [
    {
     "name": "stdout",
     "output_type": "stream",
     "text": [
      "3    3727.885441\n",
      "4    3777.246584\n",
      "2    3785.416517\n",
      "5    3931.467496\n",
      "1    4239.074668\n",
      "dtype: float64\n",
      "['engine_size', 'curb_weight', 'highway_mpg']\n"
     ]
    }
   ],
   "source": [
    "rmse_multi_series = pd.Series(rmse_multi)\n",
    "print(rmse_multi_series.sort_values())\n",
    "print(list(rmse_results_series.sort_values().index[:3]))"
   ]
  },
  {
   "cell_type": "markdown",
   "metadata": {},
   "source": [
    "After fitting multiple Regression with 1-5 features, we can see that the model with the lowest error, was the one using 3 features:\n",
    "+ engine_size\n",
    "+ curb_weight\n",
    "+ highway_mpg\n",
    "\n",
    "We can take then those features and ty to omptimize the hyperparameter space. i.e we vary `k` to see if there is a better solution. We will take for reference the top 3 perfoming models"
   ]
  },
  {
   "cell_type": "code",
   "execution_count": 386,
   "metadata": {},
   "outputs": [],
   "source": [
    "top_p_models = [3,4,2]\n",
    "rmse_multi_opt_k = dict()\n",
    "\n",
    "for model in top_p_models:\n",
    "    rmse_multi_opt_k_lst = list()\n",
    "    for k in range(1,26):\n",
    "        features = list(rmse_results_series.sort_values().index[:model])\n",
    "        rmse = knn_train_test_k_multi(features, 'price', cars_numeric, k)\n",
    "        rmse_multi_opt_k_lst.append(rmse)\n",
    "    rmse_multi_opt_k[model] = rmse_multi_opt_k_lst\n",
    "    \n",
    "rmse_multi_opt_k_df = pd.DataFrame(rmse_multi_opt_k)#.reset_index().rename(columns={'index':'k'})"
   ]
  },
  {
   "cell_type": "code",
   "execution_count": 402,
   "metadata": {},
   "outputs": [
    {
     "data": {
      "text/plain": [
       "4    3267.274438\n",
       "3    3598.845173\n",
       "2    3749.542845\n",
       "dtype: float64"
      ]
     },
     "execution_count": 402,
     "metadata": {},
     "output_type": "execute_result"
    }
   ],
   "source": [
    "rmse_multi_opt_k_df.min().sort_values()"
   ]
  },
  {
   "cell_type": "code",
   "execution_count": 400,
   "metadata": {},
   "outputs": [
    {
     "data": {
      "image/png": "[encoded data removed]",
      "text/plain": [
       "<Figure size 1440x576 with 1 Axes>"
      ]
     },
     "metadata": {
      "needs_background": "light"
     },
     "output_type": "display_data"
    }
   ],
   "source": [
    "rmse_multi_opt_k_df.plot(xticks=range(26), figsize=(20,8))\n",
    "plt.xlabel('k')\n",
    "plt.ylabel('RMSE')\n",
    "plt.title('RMSE along k')\n",
    "plt.show()"
   ]
  },
  {
   "cell_type": "markdown",
   "metadata": {},
   "source": [
    "As we can also see on the table below, the model with the lowest RMSE is now the one unsing 4 features!, followed by the model with 3 and then 2 features. by looking at the graph above we see that model 4 had the lowest RMSE using k = 1, for model 3 the smalles RMSE was achieved with k = 2 and model 2 hat the lowest RMSE with k = 5"
   ]
  },
  {
   "cell_type": "code",
   "execution_count": null,
   "metadata": {},
   "outputs": [],
   "source": []
  }
 ],
 "metadata": {
  "kernelspec": {
   "display_name": "Python 3",
   "language": "python",
   "name": "python3"
  },
  "language_info": {
   "codemirror_mode": {
    "name": "ipython",
    "version": 3
   },
   "file_extension": ".py",
   "mimetype": "text/x-python",
   "name": "python",
   "nbconvert_exporter": "python",
   "pygments_lexer": "ipython3",
   "version": "3.7.3"
  },
  "toc": {
   "base_numbering": 1,
   "nav_menu": {},
   "number_sections": true,
   "sideBar": true,
   "skip_h1_title": false,
   "title_cell": "Table of Contents",
   "title_sidebar": "Contents",
   "toc_cell": false,
   "toc_position": {
    "height": "calc(100% - 180px)",
    "left": "10px",
    "top": "150px",
    "width": "165px"
   },
   "toc_section_display": true,
   "toc_window_display": true
  }
 },
 "nbformat": 4,
 "nbformat_minor": 2
}
